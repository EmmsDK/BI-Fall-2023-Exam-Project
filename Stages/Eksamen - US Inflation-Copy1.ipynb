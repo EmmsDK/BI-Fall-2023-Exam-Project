{
 "cells": [
  {
   "cell_type": "code",
   "execution_count": null,
   "id": "5c01320a",
   "metadata": {},
   "outputs": [],
   "source": [
    "# For data manipulation\n",
    "import pandas as pd\n",
    "\n",
    "# for scientific computation\n",
    "import numpy as np\n",
    "\n",
    "from sklearn.model_selection import train_test_split\n",
    "from sklearn import linear_model\n",
    "from sklearn.linear_model import LinearRegression\n",
    "import sklearn.metrics as sm\n",
    "\n",
    "# for diagramming \n",
    "import matplotlib.pyplot as plt\n",
    "import seaborn as sns\n",
    "\n",
    "# For serialization and deserialization of data from/to file\n",
    "import pickle"
   ]
  },
  {
   "cell_type": "markdown",
   "id": "2e5edea5",
   "metadata": {},
   "source": [
    "## Stage 2: Data Preparation\n",
    "### 1. Collect and load relevant data from various sources"
   ]
  },
  {
   "cell_type": "code",
   "execution_count": null,
   "id": "eb7ccf0a",
   "metadata": {},
   "outputs": [],
   "source": [
    "# read the data\n",
    "# Andreas data\n",
    "df_inflation = pd.read_csv(\"./data/data-exam/US_inflation_rates.csv\")"
   ]
  },
  {
   "cell_type": "code",
   "execution_count": null,
   "id": "d9ac8c18",
   "metadata": {},
   "outputs": [],
   "source": [
    "df_inflation.head()"
   ]
  },
  {
   "cell_type": "code",
   "execution_count": null,
   "id": "ece30be1",
   "metadata": {},
   "outputs": [],
   "source": [
    "df_inflation.shape"
   ]
  },
  {
   "cell_type": "code",
   "execution_count": null,
   "id": "8d735209",
   "metadata": {},
   "outputs": [],
   "source": [
    "list(df_inflation)"
   ]
  },
  {
   "cell_type": "code",
   "execution_count": null,
   "id": "e081e560",
   "metadata": {},
   "outputs": [],
   "source": [
    "df_inflation"
   ]
  },
  {
   "cell_type": "code",
   "execution_count": null,
   "id": "05b2cbb2",
   "metadata": {},
   "outputs": [],
   "source": [
    "df_inflation.info()"
   ]
  },
  {
   "cell_type": "markdown",
   "id": "7e7566b5",
   "metadata": {},
   "source": [
    "### 2. Clean and integrate the collected data in approriate data structures. \n",
    "Apply any transformations needed for the integration and the operations - ETL (Extract Transform Load) or (Extract Load Transform)."
   ]
  },
  {
   "cell_type": "code",
   "execution_count": null,
   "id": "79f2f21c",
   "metadata": {},
   "outputs": [],
   "source": [
    "df_inflation.isnull().sum()"
   ]
  },
  {
   "cell_type": "code",
   "execution_count": null,
   "id": "7f1fa849",
   "metadata": {},
   "outputs": [],
   "source": [
    "sns.heatmap(df_inflation.isnull(), yticklabels = False, cbar = False, cmap = 'viridis')"
   ]
  },
  {
   "cell_type": "markdown",
   "id": "8b3857fa",
   "metadata": {},
   "source": [
    "### 3. Explore the data by applying measures from statistics to discover it's basic features.\n",
    "Create charts and diagrams to visualize the features for better understanding and support of furhter decisions."
   ]
  },
  {
   "cell_type": "code",
   "execution_count": null,
   "id": "ef98397a",
   "metadata": {},
   "outputs": [],
   "source": [
    "df_inflation.describe()"
   ]
  },
  {
   "cell_type": "code",
   "execution_count": null,
   "id": "cea2f4b6",
   "metadata": {},
   "outputs": [],
   "source": [
    "df_inflation.sample(5)"
   ]
  },
  {
   "cell_type": "code",
   "execution_count": null,
   "id": "6acd9625",
   "metadata": {},
   "outputs": [],
   "source": [
    "# Convert the 'date' column to datetime if it's not already\n",
    "df_inflation['date'] = pd.to_datetime(df_inflation['date'])\n",
    "\n",
    "# Extract the year from the 'date' column\n",
    "df_inflation['year'] = df_inflation['date'].dt.year"
   ]
  },
  {
   "cell_type": "code",
   "execution_count": null,
   "id": "f34134f7",
   "metadata": {},
   "outputs": [],
   "source": [
    "# plot the cleaned dataframe from the US Inflation dataset\n",
    "plt.xlabel('year')\n",
    "plt.ylabel('value')\n",
    "plt.scatter(df_inflation.date, df_inflation.value, color='red')\n",
    "plt.title('US Inflation Rate Over Time (Every 12th year)')\n",
    "# Set the x-axis ticks to show only every year\n",
    "plt.xticks(rotation=45)  # Rotate x-axis labels for readability\n",
    "plt.gca().xaxis.set_major_locator(plt.MaxNLocator(integer=True))  # Show only integer values on the x-axis\n",
    "plt.show()\n"
   ]
  },
  {
   "cell_type": "code",
   "execution_count": null,
   "id": "b61b229a",
   "metadata": {},
   "outputs": [],
   "source": [
    "df_inflation.head()"
   ]
  },
  {
   "cell_type": "code",
   "execution_count": null,
   "id": "1478c8e9",
   "metadata": {},
   "outputs": [],
   "source": [
    "# Filter the DataFrame to include only the first 12 years of data\n",
    "#start_year = min(df_inflation.date.dt.year)\n",
    "#end_year = start_year + 12\n",
    "#filtered_df = df_inflation[(df_inflation.date.dt.year >= start_year) & (df_inflation.date.dt.year <= end_year)]\n",
    "\n",
    "# Create the scatter plot with the filtered data\n",
    "#plt.xlabel('Year')\n",
    "#plt.ylabel('Inflation Value')\n",
    "#plt.scatter(filtered_df.date, filtered_df.value, color='red')\n",
    "#plt.title('US Inflation Rate Over the First 12 Years (1947-1960)')\n",
    "#plt.xticks(rotation=45)  # Rotate x-axis labels for readability\n",
    "#plt.gca().xaxis.set_major_locator(plt.MaxNLocator(integer=True))  # Show only integer values on the x-axis\n",
    "#plt.show()"
   ]
  },
  {
   "cell_type": "code",
   "execution_count": null,
   "id": "b5551584",
   "metadata": {},
   "outputs": [],
   "source": [
    "# Create a histogram of the years\n",
    "#sns.histplot(filtered_df['year'], label='year')\n",
    "sns.distplot(df_inflation['year'], label='year', norm_hist=True)"
   ]
  },
  {
   "cell_type": "code",
   "execution_count": null,
   "id": "56e59317",
   "metadata": {},
   "outputs": [],
   "source": [
    "# Create a histogram of the years\n",
    "sns.distplot(df_inflation['value'], label='value', norm_hist=True)"
   ]
  },
  {
   "cell_type": "markdown",
   "id": "c945dd14",
   "metadata": {},
   "source": [
    "### 4. Apply the necessary pre-processing to prepare the data for machine learning analysis, ensuring that the data is: \n",
    "#### a. meaningful – describes relevant and correctly measured features and observations\n",
    "\n",
    "#### b. sufficient – describes various cases and feature occurrences, decided by testing\n",
    "#### c. shaped – presented in a structure, appropriate for processing by machine learning algorithms\n",
    "#### d. cleaned – repaired from missing values and outliers\n",
    "- DONE\n",
    "#### e. scaled – transform data distributions in comparable scales, when necessary\n",
    "- DONE\n",
    "#### f. engineered – analyse all features and select the most informative for further processing"
   ]
  },
  {
   "cell_type": "markdown",
   "id": "feee1367",
   "metadata": {},
   "source": [
    "## Stage 3: Solution Prototype"
   ]
  },
  {
   "cell_type": "markdown",
   "id": "a3c73f67",
   "metadata": {},
   "source": [
    "Objective: Using data and analysis for building predictive models\n",
    "\n",
    "Extend the data analysis by implementing machine learning and deep learning methods and algorithms.\n",
    "\n",
    "\n",
    "1. Select relevant methods that could solve the problem. Train, test and validate data models by use of supervised and unsupervised methods, neural networks or graphs."
   ]
  },
  {
   "cell_type": "markdown",
   "id": "370ea590",
   "metadata": {},
   "source": [
    "### Train the data model"
   ]
  },
  {
   "cell_type": "markdown",
   "id": "e77fabc7",
   "metadata": {},
   "source": [
    "#### Split the Data in Dependent y and Independent X Data Sets"
   ]
  },
  {
   "cell_type": "code",
   "execution_count": null,
   "id": "65ecb0c4",
   "metadata": {},
   "outputs": [],
   "source": [
    "X = df_inflation['year'].values.reshape(-1, 1)"
   ]
  },
  {
   "cell_type": "code",
   "execution_count": null,
   "id": "02266a37",
   "metadata": {},
   "outputs": [],
   "source": [
    "y = df_inflation['value'].values.reshape(-1, 1)"
   ]
  },
  {
   "cell_type": "code",
   "execution_count": null,
   "id": "a0b6662b",
   "metadata": {},
   "outputs": [],
   "source": [
    "plt.xlabel('year')\n",
    "plt.ylabel('value')\n",
    "plt.scatter(X, y, color = 'red')\n",
    "plt.show()"
   ]
  },
  {
   "cell_type": "code",
   "execution_count": null,
   "id": "136c14f3",
   "metadata": {},
   "outputs": [],
   "source": [
    "df_inflation.head()"
   ]
  },
  {
   "cell_type": "markdown",
   "id": "4b15a171",
   "metadata": {},
   "source": [
    "#### Split the Data in Training and Testing Sets"
   ]
  },
  {
   "cell_type": "code",
   "execution_count": null,
   "id": "e5d1000e",
   "metadata": {},
   "outputs": [],
   "source": [
    "X_train, X_test, y_train, y_test = train_test_split(X, y, random_state=123, test_size=0.2)"
   ]
  },
  {
   "cell_type": "code",
   "execution_count": null,
   "id": "93645df2",
   "metadata": {},
   "outputs": [],
   "source": [
    "print(X_train.shape)\n",
    "print(y_train.shape)\n",
    "print(X_test.shape)\n",
    "print(y_test.shape)"
   ]
  },
  {
   "cell_type": "code",
   "execution_count": null,
   "id": "8c8647b8",
   "metadata": {},
   "outputs": [],
   "source": [
    "y_test"
   ]
  },
  {
   "cell_type": "code",
   "execution_count": null,
   "id": "7eea4355",
   "metadata": {},
   "outputs": [],
   "source": [
    "myreg = LinearRegression()"
   ]
  },
  {
   "cell_type": "code",
   "execution_count": null,
   "id": "f5f31659",
   "metadata": {},
   "outputs": [],
   "source": [
    "myreg.fit(X_train, y_train)\n",
    "myreg"
   ]
  },
  {
   "cell_type": "code",
   "execution_count": null,
   "id": "1f25dc61",
   "metadata": {},
   "outputs": [],
   "source": [
    "a = myreg.coef_\n",
    "b = myreg.intercept_"
   ]
  },
  {
   "cell_type": "code",
   "execution_count": null,
   "id": "e539f471",
   "metadata": {},
   "outputs": [],
   "source": [
    "a"
   ]
  },
  {
   "cell_type": "code",
   "execution_count": null,
   "id": "38e2fe7c",
   "metadata": {},
   "outputs": [],
   "source": [
    "b"
   ]
  },
  {
   "cell_type": "code",
   "execution_count": null,
   "id": "d0902d65",
   "metadata": {},
   "outputs": [],
   "source": [
    "y_predicted = myreg.predict(X_test)\n",
    "y_predicted"
   ]
  },
  {
   "cell_type": "code",
   "execution_count": null,
   "id": "49ba6eb1",
   "metadata": {},
   "outputs": [],
   "source": [
    "# Visualize the Linear Regression\n",
    "plt.title('Linear Regression')\n",
    "plt.scatter(X, y, color='green')\n",
    "plt.plot(X_train, a*X_train + b, color='blue')\n",
    "plt.plot(X_test, y_predicted, color='orange')\n",
    "plt.xlabel('date by year')\n",
    "plt.ylabel('value')\n",
    "plt.show()"
   ]
  },
  {
   "cell_type": "code",
   "execution_count": null,
   "id": "0a48e026",
   "metadata": {},
   "outputs": [],
   "source": [
    "R2 = myreg.score(X, y)\n",
    "R2"
   ]
  },
  {
   "cell_type": "markdown",
   "id": "82980775",
   "metadata": {},
   "source": [
    "### Polytfit\n",
    "#### Split the Data in Dependent y and Independent X Data Sets"
   ]
  },
  {
   "cell_type": "code",
   "execution_count": null,
   "id": "0ba1c42a",
   "metadata": {},
   "outputs": [],
   "source": [
    "X, y = df_inflation.year, df_inflation.value"
   ]
  },
  {
   "cell_type": "markdown",
   "id": "c6d2b358",
   "metadata": {},
   "source": [
    "#### Split the Data in Training and Testing Sets"
   ]
  },
  {
   "cell_type": "code",
   "execution_count": null,
   "id": "4aceb77e",
   "metadata": {},
   "outputs": [],
   "source": [
    "# split the set into subsets for training and testing\n",
    "from sklearn.model_selection import train_test_split\n",
    "\n",
    "# default proportion is 75:25\n",
    "# X_train, X_test, y_train, y_test = train_test_split(X, y, random_state=1)\n",
    "X_train, X_test, y_train, y_test = train_test_split(X, y, random_state=1, test_size=0.2) "
   ]
  },
  {
   "cell_type": "code",
   "execution_count": null,
   "id": "918ed81c",
   "metadata": {},
   "outputs": [],
   "source": [
    "# the shape of the subsets\n",
    "print(X_train.shape)\n",
    "print(y_train.shape)\n",
    "print(X_test.shape)\n",
    "print(y_test.shape)"
   ]
  },
  {
   "cell_type": "code",
   "execution_count": null,
   "id": "b20affc7",
   "metadata": {},
   "outputs": [],
   "source": [
    "y_train"
   ]
  },
  {
   "cell_type": "code",
   "execution_count": null,
   "id": "a4aaebff",
   "metadata": {},
   "outputs": [],
   "source": [
    "df_inflation.head()"
   ]
  },
  {
   "cell_type": "markdown",
   "id": "7e29b91a",
   "metadata": {},
   "source": [
    "#### Train data model"
   ]
  },
  {
   "cell_type": "code",
   "execution_count": null,
   "id": "14578580",
   "metadata": {},
   "outputs": [],
   "source": [
    "# build a model from the train data with method 'polyfit'\n",
    "model = np.polyfit(X_train, y_train, 1)"
   ]
  },
  {
   "cell_type": "code",
   "execution_count": null,
   "id": "dcd9706d",
   "metadata": {},
   "outputs": [],
   "source": [
    "model"
   ]
  },
  {
   "cell_type": "code",
   "execution_count": null,
   "id": "f7791c8d",
   "metadata": {},
   "outputs": [],
   "source": [
    "a, b = model[0], model[1]"
   ]
  },
  {
   "cell_type": "code",
   "execution_count": null,
   "id": "fe7bef0b",
   "metadata": {},
   "outputs": [],
   "source": [
    "test = np.polyfit(X_test, y_test, 1)\n",
    "test"
   ]
  },
  {
   "cell_type": "code",
   "execution_count": null,
   "id": "3efde1e1",
   "metadata": {},
   "outputs": [],
   "source": [
    "a1, b1 = test[0], test[1]"
   ]
  },
  {
   "cell_type": "code",
   "execution_count": null,
   "id": "346ca55b",
   "metadata": {},
   "outputs": [],
   "source": [
    "# Visualise the Linear Regression \n",
    "plt.title('Linear Regression')\n",
    "plt.scatter(X, y, color='green')\n",
    "plt.plot(X_test, a1*X_test + b1, color='orange')\n",
    "plt.plot(X_train, a*X_train + b, color='blue')\n",
    "\n",
    "plt.xlabel('date')\n",
    "plt.ylabel('value')\n",
    "plt.show()"
   ]
  },
  {
   "cell_type": "markdown",
   "id": "f1808046",
   "metadata": {},
   "source": [
    "### Test the models"
   ]
  },
  {
   "cell_type": "markdown",
   "id": "5f5ff79c",
   "metadata": {},
   "source": [
    "#### Test with Known Data"
   ]
  },
  {
   "cell_type": "code",
   "execution_count": null,
   "id": "1a618d77",
   "metadata": {},
   "outputs": [],
   "source": [
    "date_predicted = myreg.predict([[2000]])\n",
    "date_predicted"
   ]
  },
  {
   "cell_type": "code",
   "execution_count": null,
   "id": "fdc628be",
   "metadata": {},
   "outputs": [],
   "source": [
    "date_predict = a*2000 + b\n",
    "date_predict"
   ]
  },
  {
   "cell_type": "markdown",
   "id": "69939978",
   "metadata": {},
   "source": [
    "### Predict with unknown Data"
   ]
  },
  {
   "cell_type": "code",
   "execution_count": null,
   "id": "4e799dd0",
   "metadata": {},
   "outputs": [],
   "source": [
    "value = 400\n",
    "date_predicted = myreg.predict([[value]])\n",
    "date_predicted"
   ]
  },
  {
   "cell_type": "code",
   "execution_count": null,
   "id": "dfa46e0b",
   "metadata": {},
   "outputs": [],
   "source": [
    "df_inflation.head()"
   ]
  }
 ],
 "metadata": {
  "kernelspec": {
   "display_name": "Python 3 (ipykernel)",
   "language": "python",
   "name": "python3"
  },
  "language_info": {
   "codemirror_mode": {
    "name": "ipython",
    "version": 3
   },
   "file_extension": ".py",
   "mimetype": "text/x-python",
   "name": "python",
   "nbconvert_exporter": "python",
   "pygments_lexer": "ipython3",
   "version": "3.11.4"
  }
 },
 "nbformat": 4,
 "nbformat_minor": 5
}
