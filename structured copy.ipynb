{
 "cells": [
  {
   "cell_type": "markdown",
   "id": "db79ea46",
   "metadata": {},
   "source": [
    "# Business Intelligence Fall 2023 Exam Project\n",
    "\n",
    "This project is designed as experimental research and development of BI implementation solution. It involves systematic and creative work of finding novel, uncertain, and reproducible results by applying modern BI and artificial intelligence (AI) technologies in a context. \n",
    "\n",
    "The development workflow goes through four stages and milestones, each of which has an objective, tasks,\n",
    "and deliverables."
   ]
  },
  {
   "cell_type": "markdown",
   "id": "925374a6",
   "metadata": {},
   "source": [
    "## Stage 1: Problem Definition\n",
    "### Objective: Foundation of a business case and problem statement\n",
    "\n",
    "https://www.kaggle.com/datasets/arnabchaki/data-science-salaries-2023/data\n",
    "\n",
    "1. At this stage you brainstorm, browse sources of inspiration and information, collect ideas and discuss business or social domains, where BI and AI can bring a value.\n",
    "2. Choose one of your ideas and define context, purpose, research questions, and hypotheses for a BI problem statement. Write a brief annotation of your project, in about four sentences, explaining:\n",
    "     - which challenge you would like to address?\n",
    "     - why is it important or interesting research goal?\n",
    "     - what is the expected solution your project would provide?\n",
    "     - what would be the impact of the solution and which category of users could benefit from it?\n",
    "3. Prepare the development environment\n",
    "     - give a title to your project\n",
    "     - plan and organise the execution of the individual tasks in terms of time, milestones, deliverables, team members engagement\n",
    "     - prepare the development platform and procedures – Github repository, IDE, software tools\n",
    "4. Create and upload the initial project document with the information from above in a .md file in your repository as an initial release of the project. "
   ]
  },
  {
   "cell_type": "markdown",
   "id": "a764e200",
   "metadata": {},
   "source": [
    "## Stage 2: Data Preparation\n"
   ]
  },
  {
   "cell_type": "code",
   "execution_count": 123,
   "id": "90284c77",
   "metadata": {},
   "outputs": [],
   "source": [
    "import numpy as np\n",
    "import pandas as pd\n",
    "import matplotlib.pyplot as plt\n",
    "\n",
    "from sklearn.model_selection import train_test_split\n",
    "from sklearn import linear_model\n",
    "from sklearn.linear_model import LinearRegression\n",
    "import sklearn.metrics as sm\n",
    "import seaborn as sns\n",
    "from sklearn.preprocessing import PolynomialFeatures\n",
    "from sklearn.metrics import r2_score"
   ]
  },
  {
   "cell_type": "markdown",
   "id": "1ed95203",
   "metadata": {},
   "source": [
    "### Objective: Data collection, exploration and pre-processing\n",
    "Based on the ideas and assumptions defined at the previous stage:\n",
    "1. Collect and load relevant data from various sources\n",
    "2. Clean and integrate the collected data in appropriate data structures. Apply any transformations needed for the integration and the operations - ETL (Extract Transform Load) or ELT (Extract Load Transform).\n",
    "3. Explore the data by applying measures from statistics to discover its basic features. Create charts and diagrams to visualize the features for better understanding and support of further decisions.\n",
    "4. Apply the necessary pre-processing to prepare the data for machine learning analysis, ensuring that the data is:\n",
    "    - Meaningful – describes relevant and correctly measured features and observations.\n",
    "    - Sufficient – describes various cases and feature occurrences, decided by testing.\n",
    "    - Shaped – presented in a structure, appropriate for processing by machine learning algorithms.\n",
    "    - Cleaned – repaired from missing values and outliners.\n",
    "    - Scaled – transform data distributions in comparable scales, when necessary.\n",
    "    - Engineered – analyse all features and select the most informative for further processing.\n",
    "    \n",
    "Export your initial version of the solution to the Github repository."
   ]
  },
  {
   "cell_type": "code",
   "execution_count": 12,
   "id": "8d8a58f2",
   "metadata": {},
   "outputs": [],
   "source": [
    "#Dresen Links:\n",
    "#df_travel= pd.read_csv('../../../../OneDrive/Dokumenter/GitHub/github-bi/BI-Fall-2023-Exam-Project/Data/traveldistmin.csv')\n",
    "#df_infl= pd.read_csv('../../../../OneDrive/Dokumenter/GitHub/github-bi/BI-Fall-2023-Exam-Project/Data/US_inflation_rates.csv')\n",
    "#df_remoteWork = pd.read_excel('../../../../OneDrive/Dokumenter/GitHub/github-bi/BI-Fall-2023-Exam-Project/Data/statistic_id1356325_us-workers-working-hybrid-or-remote-vs-on-site-2019-q4-2022.xlsx', sheet_name='Data')\n",
    "#df_happiness = pd.read_excel('../../../../OneDrive/Dokumenter/GitHub/github-bi/BI-Fall-2023-Exam-Project/Data/statistic_id1111316_struggles-with-working-remotely-2020-2022.xlsx', sheet_name='Data')\n",
    "#df = pd.read_csv('../../../../OneDrive/Dokumenter/GitHub/github-bi/BI-Fall-2023-Exam-Project/Data/ds_salaries2.csv')"
   ]
  },
  {
   "cell_type": "code",
   "execution_count": 13,
   "id": "dac5fc0d",
   "metadata": {},
   "outputs": [],
   "source": [
    "#df_travel= pd.read_csv('../../../Documents/GitHub/BI-Fall-2023-Exam-Project/Data/traveldistmin.csv')\n",
    "#df_infl= pd.read_csv('../../../Documents/GitHub/BI-Fall-2023-Exam-Project/Data/US_inflation_rates.csv')\n",
    "#df_remoteWork = pd.read_excel('../../../Documents/GitHub/BI-Fall-2023-Exam-Project/Data/statistic_id1356325_us-workers-working-hybrid-or-remote-vs-on-site-2019-q4-2022.xlsx', sheet_name='Data')\n",
    "#df_happiness = pd.read_excel('../../../Documents/GitHub/BI-Fall-2023-Exam-Project/Data/statistic_id1111316_struggles-with-working-remotely-2020-2022.xlsx', sheet_name='Data')\n",
    "#df_sal = pd.read_csv('../../../Documents/GitHub/BI-Fall-2023-Exam-Project/Data/ds_salaries2.csv')"
   ]
  },
  {
   "cell_type": "code",
   "execution_count": 14,
   "id": "e09a19db",
   "metadata": {},
   "outputs": [
    {
     "data": {
      "text/html": [
       "<div>\n",
       "<style scoped>\n",
       "    .dataframe tbody tr th:only-of-type {\n",
       "        vertical-align: middle;\n",
       "    }\n",
       "\n",
       "    .dataframe tbody tr th {\n",
       "        vertical-align: top;\n",
       "    }\n",
       "\n",
       "    .dataframe thead th {\n",
       "        text-align: right;\n",
       "    }\n",
       "</style>\n",
       "<table border=\"1\" class=\"dataframe\">\n",
       "  <thead>\n",
       "    <tr style=\"text-align: right;\">\n",
       "      <th></th>\n",
       "      <th>date</th>\n",
       "      <th>value</th>\n",
       "    </tr>\n",
       "  </thead>\n",
       "  <tbody>\n",
       "    <tr>\n",
       "      <th>0</th>\n",
       "      <td>1947-01-01</td>\n",
       "      <td>21.48</td>\n",
       "    </tr>\n",
       "    <tr>\n",
       "      <th>1</th>\n",
       "      <td>1947-02-01</td>\n",
       "      <td>21.62</td>\n",
       "    </tr>\n",
       "    <tr>\n",
       "      <th>2</th>\n",
       "      <td>1947-03-01</td>\n",
       "      <td>22.00</td>\n",
       "    </tr>\n",
       "    <tr>\n",
       "      <th>3</th>\n",
       "      <td>1947-04-01</td>\n",
       "      <td>22.00</td>\n",
       "    </tr>\n",
       "    <tr>\n",
       "      <th>4</th>\n",
       "      <td>1947-05-01</td>\n",
       "      <td>21.95</td>\n",
       "    </tr>\n",
       "  </tbody>\n",
       "</table>\n",
       "</div>"
      ],
      "text/plain": [
       "         date  value\n",
       "0  1947-01-01  21.48\n",
       "1  1947-02-01  21.62\n",
       "2  1947-03-01  22.00\n",
       "3  1947-04-01  22.00\n",
       "4  1947-05-01  21.95"
      ]
     },
     "execution_count": 14,
     "metadata": {},
     "output_type": "execute_result"
    }
   ],
   "source": [
    "df_inflation= pd.read_csv('../../../Documents/GitHub/BI-Fall-2023-Exam-Project/Data/US_inflation_rates.csv')\n",
    "\n",
    "df_inflation.head()"
   ]
  },
  {
   "cell_type": "code",
   "execution_count": 15,
   "id": "6fe8e6f3",
   "metadata": {},
   "outputs": [
    {
     "data": {
      "text/plain": [
       "['date', 'value']"
      ]
     },
     "execution_count": 15,
     "metadata": {},
     "output_type": "execute_result"
    }
   ],
   "source": [
    "list(df_inflation)"
   ]
  },
  {
   "cell_type": "code",
   "execution_count": 16,
   "id": "648a8ca3",
   "metadata": {},
   "outputs": [
    {
     "data": {
      "text/html": [
       "<div>\n",
       "<style scoped>\n",
       "    .dataframe tbody tr th:only-of-type {\n",
       "        vertical-align: middle;\n",
       "    }\n",
       "\n",
       "    .dataframe tbody tr th {\n",
       "        vertical-align: top;\n",
       "    }\n",
       "\n",
       "    .dataframe thead th {\n",
       "        text-align: right;\n",
       "    }\n",
       "</style>\n",
       "<table border=\"1\" class=\"dataframe\">\n",
       "  <thead>\n",
       "    <tr style=\"text-align: right;\">\n",
       "      <th></th>\n",
       "      <th>date</th>\n",
       "      <th>value</th>\n",
       "    </tr>\n",
       "  </thead>\n",
       "  <tbody>\n",
       "    <tr>\n",
       "      <th>0</th>\n",
       "      <td>1947-01-01</td>\n",
       "      <td>21.480</td>\n",
       "    </tr>\n",
       "    <tr>\n",
       "      <th>1</th>\n",
       "      <td>1947-02-01</td>\n",
       "      <td>21.620</td>\n",
       "    </tr>\n",
       "    <tr>\n",
       "      <th>2</th>\n",
       "      <td>1947-03-01</td>\n",
       "      <td>22.000</td>\n",
       "    </tr>\n",
       "    <tr>\n",
       "      <th>3</th>\n",
       "      <td>1947-04-01</td>\n",
       "      <td>22.000</td>\n",
       "    </tr>\n",
       "    <tr>\n",
       "      <th>4</th>\n",
       "      <td>1947-05-01</td>\n",
       "      <td>21.950</td>\n",
       "    </tr>\n",
       "    <tr>\n",
       "      <th>...</th>\n",
       "      <td>...</td>\n",
       "      <td>...</td>\n",
       "    </tr>\n",
       "    <tr>\n",
       "      <th>913</th>\n",
       "      <td>2023-02-01</td>\n",
       "      <td>301.648</td>\n",
       "    </tr>\n",
       "    <tr>\n",
       "      <th>914</th>\n",
       "      <td>2023-03-01</td>\n",
       "      <td>301.808</td>\n",
       "    </tr>\n",
       "    <tr>\n",
       "      <th>915</th>\n",
       "      <td>2023-04-01</td>\n",
       "      <td>302.918</td>\n",
       "    </tr>\n",
       "    <tr>\n",
       "      <th>916</th>\n",
       "      <td>2023-05-01</td>\n",
       "      <td>303.294</td>\n",
       "    </tr>\n",
       "    <tr>\n",
       "      <th>917</th>\n",
       "      <td>2023-06-01</td>\n",
       "      <td>303.841</td>\n",
       "    </tr>\n",
       "  </tbody>\n",
       "</table>\n",
       "<p>918 rows × 2 columns</p>\n",
       "</div>"
      ],
      "text/plain": [
       "           date    value\n",
       "0    1947-01-01   21.480\n",
       "1    1947-02-01   21.620\n",
       "2    1947-03-01   22.000\n",
       "3    1947-04-01   22.000\n",
       "4    1947-05-01   21.950\n",
       "..          ...      ...\n",
       "913  2023-02-01  301.648\n",
       "914  2023-03-01  301.808\n",
       "915  2023-04-01  302.918\n",
       "916  2023-05-01  303.294\n",
       "917  2023-06-01  303.841\n",
       "\n",
       "[918 rows x 2 columns]"
      ]
     },
     "execution_count": 16,
     "metadata": {},
     "output_type": "execute_result"
    }
   ],
   "source": [
    "df_inflation"
   ]
  },
  {
   "cell_type": "code",
   "execution_count": 17,
   "id": "6fd4bde6",
   "metadata": {},
   "outputs": [
    {
     "name": "stdout",
     "output_type": "stream",
     "text": [
      "<class 'pandas.core.frame.DataFrame'>\n",
      "RangeIndex: 918 entries, 0 to 917\n",
      "Data columns (total 2 columns):\n",
      " #   Column  Non-Null Count  Dtype  \n",
      "---  ------  --------------  -----  \n",
      " 0   date    918 non-null    object \n",
      " 1   value   918 non-null    float64\n",
      "dtypes: float64(1), object(1)\n",
      "memory usage: 14.5+ KB\n"
     ]
    }
   ],
   "source": [
    "df_inflation.info()"
   ]
  },
  {
   "cell_type": "code",
   "execution_count": 18,
   "id": "81c87765",
   "metadata": {},
   "outputs": [
    {
     "data": {
      "text/plain": [
       "date     0\n",
       "value    0\n",
       "dtype: int64"
      ]
     },
     "execution_count": 18,
     "metadata": {},
     "output_type": "execute_result"
    }
   ],
   "source": [
    "df_inflation.isnull().sum()"
   ]
  },
  {
   "cell_type": "code",
   "execution_count": 19,
   "id": "4c94bcc1",
   "metadata": {},
   "outputs": [
    {
     "data": {
      "text/plain": [
       "<Axes: >"
      ]
     },
     "execution_count": 19,
     "metadata": {},
     "output_type": "execute_result"
    },
    {
     "data": {
      "image/png": "[encoded data removed]",
      "text/plain": [
       "<Figure size 640x480 with 1 Axes>"
      ]
     },
     "metadata": {},
     "output_type": "display_data"
    }
   ],
   "source": [
    "sns.heatmap(df_inflation.isnull(), yticklabels = False, cbar = False, cmap = 'viridis')"
   ]
  },
  {
   "cell_type": "code",
   "execution_count": 20,
   "id": "0cff6128",
   "metadata": {},
   "outputs": [
    {
     "data": {
      "text/html": [
       "<div>\n",
       "<style scoped>\n",
       "    .dataframe tbody tr th:only-of-type {\n",
       "        vertical-align: middle;\n",
       "    }\n",
       "\n",
       "    .dataframe tbody tr th {\n",
       "        vertical-align: top;\n",
       "    }\n",
       "\n",
       "    .dataframe thead th {\n",
       "        text-align: right;\n",
       "    }\n",
       "</style>\n",
       "<table border=\"1\" class=\"dataframe\">\n",
       "  <thead>\n",
       "    <tr style=\"text-align: right;\">\n",
       "      <th></th>\n",
       "      <th>value</th>\n",
       "    </tr>\n",
       "  </thead>\n",
       "  <tbody>\n",
       "    <tr>\n",
       "      <th>count</th>\n",
       "      <td>918.000000</td>\n",
       "    </tr>\n",
       "    <tr>\n",
       "      <th>mean</th>\n",
       "      <td>117.794828</td>\n",
       "    </tr>\n",
       "    <tr>\n",
       "      <th>std</th>\n",
       "      <td>83.736360</td>\n",
       "    </tr>\n",
       "    <tr>\n",
       "      <th>min</th>\n",
       "      <td>21.480000</td>\n",
       "    </tr>\n",
       "    <tr>\n",
       "      <th>25%</th>\n",
       "      <td>32.105000</td>\n",
       "    </tr>\n",
       "    <tr>\n",
       "      <th>50%</th>\n",
       "      <td>106.900000</td>\n",
       "    </tr>\n",
       "    <tr>\n",
       "      <th>75%</th>\n",
       "      <td>188.000000</td>\n",
       "    </tr>\n",
       "    <tr>\n",
       "      <th>max</th>\n",
       "      <td>303.841000</td>\n",
       "    </tr>\n",
       "  </tbody>\n",
       "</table>\n",
       "</div>"
      ],
      "text/plain": [
       "            value\n",
       "count  918.000000\n",
       "mean   117.794828\n",
       "std     83.736360\n",
       "min     21.480000\n",
       "25%     32.105000\n",
       "50%    106.900000\n",
       "75%    188.000000\n",
       "max    303.841000"
      ]
     },
     "execution_count": 20,
     "metadata": {},
     "output_type": "execute_result"
    }
   ],
   "source": [
    "df_inflation.describe()"
   ]
  },
  {
   "cell_type": "code",
   "execution_count": 21,
   "id": "5a010615",
   "metadata": {},
   "outputs": [
    {
     "data": {
      "text/html": [
       "<div>\n",
       "<style scoped>\n",
       "    .dataframe tbody tr th:only-of-type {\n",
       "        vertical-align: middle;\n",
       "    }\n",
       "\n",
       "    .dataframe tbody tr th {\n",
       "        vertical-align: top;\n",
       "    }\n",
       "\n",
       "    .dataframe thead th {\n",
       "        text-align: right;\n",
       "    }\n",
       "</style>\n",
       "<table border=\"1\" class=\"dataframe\">\n",
       "  <thead>\n",
       "    <tr style=\"text-align: right;\">\n",
       "      <th></th>\n",
       "      <th>date</th>\n",
       "      <th>value</th>\n",
       "    </tr>\n",
       "  </thead>\n",
       "  <tbody>\n",
       "    <tr>\n",
       "      <th>212</th>\n",
       "      <td>1964-09-01</td>\n",
       "      <td>31.080</td>\n",
       "    </tr>\n",
       "    <tr>\n",
       "      <th>204</th>\n",
       "      <td>1964-01-01</td>\n",
       "      <td>30.940</td>\n",
       "    </tr>\n",
       "    <tr>\n",
       "      <th>303</th>\n",
       "      <td>1972-04-01</td>\n",
       "      <td>41.500</td>\n",
       "    </tr>\n",
       "    <tr>\n",
       "      <th>726</th>\n",
       "      <td>2007-07-01</td>\n",
       "      <td>207.603</td>\n",
       "    </tr>\n",
       "    <tr>\n",
       "      <th>426</th>\n",
       "      <td>1982-07-01</td>\n",
       "      <td>97.500</td>\n",
       "    </tr>\n",
       "  </tbody>\n",
       "</table>\n",
       "</div>"
      ],
      "text/plain": [
       "           date    value\n",
       "212  1964-09-01   31.080\n",
       "204  1964-01-01   30.940\n",
       "303  1972-04-01   41.500\n",
       "726  2007-07-01  207.603\n",
       "426  1982-07-01   97.500"
      ]
     },
     "execution_count": 21,
     "metadata": {},
     "output_type": "execute_result"
    }
   ],
   "source": [
    "df_inflation.sample(5)"
   ]
  },
  {
   "cell_type": "code",
   "execution_count": 22,
   "id": "6acd9625",
   "metadata": {},
   "outputs": [],
   "source": [
    "# Convert the 'date' column to datetime if it's not already\n",
    "df_inflation['date'] = pd.to_datetime(df_inflation['date'])\n",
    "\n",
    "# Extract the year from the 'date' column\n",
    "df_inflation['year'] = df_inflation['date'].dt.year"
   ]
  },
  {
   "cell_type": "code",
   "execution_count": 23,
   "id": "f34134f7",
   "metadata": {},
   "outputs": [
    {
     "data": {
      "image/png": "[encoded data removed]",
      "text/plain": [
       "<Figure size 640x480 with 1 Axes>"
      ]
     },
     "metadata": {},
     "output_type": "display_data"
    }
   ],
   "source": [
    "# plot the cleaned dataframe from the US Inflation dataset\n",
    "plt.xlabel('year')\n",
    "plt.ylabel('value')\n",
    "plt.scatter(df_inflation.date, df_inflation.value, color='red')\n",
    "plt.title('US Inflation Rate Over Time (Every 12th year)')\n",
    "# Set the x-axis ticks to show only every year\n",
    "plt.xticks(rotation=45)  # Rotate x-axis labels for readability\n",
    "plt.gca().xaxis.set_major_locator(plt.MaxNLocator(integer=True))  # Show only integer values on the x-axis\n",
    "plt.show()\n"
   ]
  },
  {
   "cell_type": "code",
   "execution_count": 24,
   "id": "b61b229a",
   "metadata": {},
   "outputs": [
    {
     "data": {
      "text/html": [
       "<div>\n",
       "<style scoped>\n",
       "    .dataframe tbody tr th:only-of-type {\n",
       "        vertical-align: middle;\n",
       "    }\n",
       "\n",
       "    .dataframe tbody tr th {\n",
       "        vertical-align: top;\n",
       "    }\n",
       "\n",
       "    .dataframe thead th {\n",
       "        text-align: right;\n",
       "    }\n",
       "</style>\n",
       "<table border=\"1\" class=\"dataframe\">\n",
       "  <thead>\n",
       "    <tr style=\"text-align: right;\">\n",
       "      <th></th>\n",
       "      <th>date</th>\n",
       "      <th>value</th>\n",
       "      <th>year</th>\n",
       "    </tr>\n",
       "  </thead>\n",
       "  <tbody>\n",
       "    <tr>\n",
       "      <th>0</th>\n",
       "      <td>1947-01-01</td>\n",
       "      <td>21.48</td>\n",
       "      <td>1947</td>\n",
       "    </tr>\n",
       "    <tr>\n",
       "      <th>1</th>\n",
       "      <td>1947-02-01</td>\n",
       "      <td>21.62</td>\n",
       "      <td>1947</td>\n",
       "    </tr>\n",
       "    <tr>\n",
       "      <th>2</th>\n",
       "      <td>1947-03-01</td>\n",
       "      <td>22.00</td>\n",
       "      <td>1947</td>\n",
       "    </tr>\n",
       "    <tr>\n",
       "      <th>3</th>\n",
       "      <td>1947-04-01</td>\n",
       "      <td>22.00</td>\n",
       "      <td>1947</td>\n",
       "    </tr>\n",
       "    <tr>\n",
       "      <th>4</th>\n",
       "      <td>1947-05-01</td>\n",
       "      <td>21.95</td>\n",
       "      <td>1947</td>\n",
       "    </tr>\n",
       "  </tbody>\n",
       "</table>\n",
       "</div>"
      ],
      "text/plain": [
       "        date  value  year\n",
       "0 1947-01-01  21.48  1947\n",
       "1 1947-02-01  21.62  1947\n",
       "2 1947-03-01  22.00  1947\n",
       "3 1947-04-01  22.00  1947\n",
       "4 1947-05-01  21.95  1947"
      ]
     },
     "execution_count": 24,
     "metadata": {},
     "output_type": "execute_result"
    }
   ],
   "source": [
    "df_inflation.head()"
   ]
  },
  {
   "cell_type": "code",
   "execution_count": 25,
   "id": "1478c8e9",
   "metadata": {},
   "outputs": [],
   "source": [
    "# Filter the DataFrame to include only the first 12 years of data\n",
    "#start_year = min(df_inflation.date.dt.year)\n",
    "#end_year = start_year + 12\n",
    "#filtered_df = df_inflation[(df_inflation.date.dt.year >= start_year) & (df_inflation.date.dt.year <= end_year)]\n",
    "\n",
    "# Create the scatter plot with the filtered data\n",
    "#plt.xlabel('Year')\n",
    "#plt.ylabel('Inflation Value')\n",
    "#plt.scatter(filtered_df.date, filtered_df.value, color='red')\n",
    "#plt.title('US Inflation Rate Over the First 12 Years (1947-1960)')\n",
    "#plt.xticks(rotation=45)  # Rotate x-axis labels for readability\n",
    "#plt.gca().xaxis.set_major_locator(plt.MaxNLocator(integer=True))  # Show only integer values on the x-axis\n",
    "#plt.show()"
   ]
  },
  {
   "cell_type": "code",
   "execution_count": 26,
   "id": "b5551584",
   "metadata": {},
   "outputs": [
    {
     "name": "stderr",
     "output_type": "stream",
     "text": [
      "C:\\Users\\Johan\\AppData\\Local\\Temp\\ipykernel_22568\\3839249195.py:3: UserWarning: \n",
      "\n",
      "`distplot` is a deprecated function and will be removed in seaborn v0.14.0.\n",
      "\n",
      "Please adapt your code to use either `displot` (a figure-level function with\n",
      "similar flexibility) or `histplot` (an axes-level function for histograms).\n",
      "\n",
      "For a guide to updating your code to use the new functions, please see\n",
      "https://gist.github.com/mwaskom/de44147ed2974457ad6372750bbe5751\n",
      "\n",
      "  sns.distplot(df_inflation['year'], label='year', norm_hist=True)\n"
     ]
    },
    {
     "data": {
      "text/plain": [
       "<Axes: xlabel='year', ylabel='Density'>"
      ]
     },
     "execution_count": 26,
     "metadata": {},
     "output_type": "execute_result"
    },
    {
     "data": {
      "image/png": "[encoded data removed]",
      "text/plain": [
       "<Figure size 640x480 with 1 Axes>"
      ]
     },
     "metadata": {},
     "output_type": "display_data"
    }
   ],
   "source": [
    "# Create a histogram of the years\n",
    "#sns.histplot(filtered_df['year'], label='year')\n",
    "sns.distplot(df_inflation['year'], label='year', norm_hist=True)"
   ]
  },
  {
   "cell_type": "code",
   "execution_count": 27,
   "id": "56e59317",
   "metadata": {},
   "outputs": [
    {
     "name": "stderr",
     "output_type": "stream",
     "text": [
      "C:\\Users\\Johan\\AppData\\Local\\Temp\\ipykernel_22568\\3676746267.py:2: UserWarning: \n",
      "\n",
      "`distplot` is a deprecated function and will be removed in seaborn v0.14.0.\n",
      "\n",
      "Please adapt your code to use either `displot` (a figure-level function with\n",
      "similar flexibility) or `histplot` (an axes-level function for histograms).\n",
      "\n",
      "For a guide to updating your code to use the new functions, please see\n",
      "https://gist.github.com/mwaskom/de44147ed2974457ad6372750bbe5751\n",
      "\n",
      "  sns.distplot(df_inflation['value'], label='value', norm_hist=True)\n"
     ]
    },
    {
     "data": {
      "text/plain": [
       "<Axes: xlabel='value', ylabel='Density'>"
      ]
     },
     "execution_count": 27,
     "metadata": {},
     "output_type": "execute_result"
    },
    {
     "data": {
      "image/png": "[encoded data removed]",
      "text/plain": [
       "<Figure size 640x480 with 1 Axes>"
      ]
     },
     "metadata": {},
     "output_type": "display_data"
    }
   ],
   "source": [
    "# Create a histogram of the years\n",
    "sns.distplot(df_inflation['value'], label='value', norm_hist=True)"
   ]
  },
  {
   "cell_type": "markdown",
   "id": "370ea590",
   "metadata": {},
   "source": [
    "### Train the data model"
   ]
  },
  {
   "cell_type": "markdown",
   "id": "e77fabc7",
   "metadata": {},
   "source": [
    "#### Split the Data in Dependent y and Independent X Data Sets"
   ]
  },
  {
   "cell_type": "code",
   "execution_count": 28,
   "id": "65ecb0c4",
   "metadata": {},
   "outputs": [],
   "source": [
    "X = df_inflation['year'].values.reshape(-1, 1)"
   ]
  },
  {
   "cell_type": "code",
   "execution_count": 29,
   "id": "02266a37",
   "metadata": {},
   "outputs": [],
   "source": [
    "y = df_inflation['value'].values.reshape(-1, 1)"
   ]
  },
  {
   "cell_type": "code",
   "execution_count": 30,
   "id": "a0b6662b",
   "metadata": {},
   "outputs": [
    {
     "data": {
      "image/png": "[encoded data removed]",
      "text/plain": [
       "<Figure size 640x480 with 1 Axes>"
      ]
     },
     "metadata": {},
     "output_type": "display_data"
    }
   ],
   "source": [
    "plt.xlabel('year')\n",
    "plt.ylabel('value')\n",
    "plt.scatter(X, y, color = 'red')\n",
    "plt.show()"
   ]
  },
  {
   "cell_type": "code",
   "execution_count": 31,
   "id": "136c14f3",
   "metadata": {},
   "outputs": [
    {
     "data": {
      "text/html": [
       "<div>\n",
       "<style scoped>\n",
       "    .dataframe tbody tr th:only-of-type {\n",
       "        vertical-align: middle;\n",
       "    }\n",
       "\n",
       "    .dataframe tbody tr th {\n",
       "        vertical-align: top;\n",
       "    }\n",
       "\n",
       "    .dataframe thead th {\n",
       "        text-align: right;\n",
       "    }\n",
       "</style>\n",
       "<table border=\"1\" class=\"dataframe\">\n",
       "  <thead>\n",
       "    <tr style=\"text-align: right;\">\n",
       "      <th></th>\n",
       "      <th>date</th>\n",
       "      <th>value</th>\n",
       "      <th>year</th>\n",
       "    </tr>\n",
       "  </thead>\n",
       "  <tbody>\n",
       "    <tr>\n",
       "      <th>0</th>\n",
       "      <td>1947-01-01</td>\n",
       "      <td>21.48</td>\n",
       "      <td>1947</td>\n",
       "    </tr>\n",
       "    <tr>\n",
       "      <th>1</th>\n",
       "      <td>1947-02-01</td>\n",
       "      <td>21.62</td>\n",
       "      <td>1947</td>\n",
       "    </tr>\n",
       "    <tr>\n",
       "      <th>2</th>\n",
       "      <td>1947-03-01</td>\n",
       "      <td>22.00</td>\n",
       "      <td>1947</td>\n",
       "    </tr>\n",
       "    <tr>\n",
       "      <th>3</th>\n",
       "      <td>1947-04-01</td>\n",
       "      <td>22.00</td>\n",
       "      <td>1947</td>\n",
       "    </tr>\n",
       "    <tr>\n",
       "      <th>4</th>\n",
       "      <td>1947-05-01</td>\n",
       "      <td>21.95</td>\n",
       "      <td>1947</td>\n",
       "    </tr>\n",
       "  </tbody>\n",
       "</table>\n",
       "</div>"
      ],
      "text/plain": [
       "        date  value  year\n",
       "0 1947-01-01  21.48  1947\n",
       "1 1947-02-01  21.62  1947\n",
       "2 1947-03-01  22.00  1947\n",
       "3 1947-04-01  22.00  1947\n",
       "4 1947-05-01  21.95  1947"
      ]
     },
     "execution_count": 31,
     "metadata": {},
     "output_type": "execute_result"
    }
   ],
   "source": [
    "df_inflation.head()"
   ]
  },
  {
   "cell_type": "markdown",
   "id": "4b15a171",
   "metadata": {},
   "source": [
    "#### Split the Data in Training and Testing Sets"
   ]
  },
  {
   "cell_type": "code",
   "execution_count": 32,
   "id": "e5d1000e",
   "metadata": {},
   "outputs": [],
   "source": [
    "X_train, X_test, y_train, y_test = train_test_split(X, y, random_state=123, test_size=0.2)"
   ]
  },
  {
   "cell_type": "code",
   "execution_count": 33,
   "id": "93645df2",
   "metadata": {},
   "outputs": [
    {
     "name": "stdout",
     "output_type": "stream",
     "text": [
      "(734, 1)\n",
      "(734, 1)\n",
      "(184, 1)\n",
      "(184, 1)\n"
     ]
    }
   ],
   "source": [
    "print(X_train.shape)\n",
    "print(y_train.shape)\n",
    "print(X_test.shape)\n",
    "print(y_test.shape)"
   ]
  },
  {
   "cell_type": "code",
   "execution_count": 34,
   "id": "8c8647b8",
   "metadata": {},
   "outputs": [
    {
     "data": {
      "text/plain": [
       "array([[ 55.9  ],\n",
       "       [177.7  ],\n",
       "       [ 22.4  ],\n",
       "       [149.   ],\n",
       "       [ 29.81 ],\n",
       "       [ 29.98 ],\n",
       "       [140.5  ],\n",
       "       [ 28.87 ],\n",
       "       [262.035],\n",
       "       [152.1  ],\n",
       "       [135.1  ],\n",
       "       [207.603],\n",
       "       [ 30.48 ],\n",
       "       [ 68.5  ],\n",
       "       [235.547],\n",
       "       [ 41.8  ],\n",
       "       [298.598],\n",
       "       [218.69 ],\n",
       "       [ 36.3  ],\n",
       "       [ 51.9  ],\n",
       "       [ 26.99 ],\n",
       "       [ 29.84 ],\n",
       "       [182.9  ],\n",
       "       [ 29.   ],\n",
       "       [ 61.6  ],\n",
       "       [181.2  ],\n",
       "       [183.2  ],\n",
       "       [260.286],\n",
       "       [135.6  ],\n",
       "       [ 29.61 ],\n",
       "       [ 28.89 ],\n",
       "       [146.7  ],\n",
       "       [242.026],\n",
       "       [216.509],\n",
       "       [ 30.94 ],\n",
       "       [ 79.   ],\n",
       "       [ 36.8  ],\n",
       "       [ 49.   ],\n",
       "       [193.7  ],\n",
       "       [203.1  ],\n",
       "       [251.663],\n",
       "       [249.529],\n",
       "       [ 80.9  ],\n",
       "       [ 30.21 ],\n",
       "       [153.1  ],\n",
       "       [109.7  ],\n",
       "       [ 29.81 ],\n",
       "       [ 22.08 ],\n",
       "       [ 30.72 ],\n",
       "       [ 32.92 ],\n",
       "       [ 33.4  ],\n",
       "       [ 40.1  ],\n",
       "       [ 23.88 ],\n",
       "       [178.5  ],\n",
       "       [ 41.2  ],\n",
       "       [ 44.2  ],\n",
       "       [ 54.6  ],\n",
       "       [ 30.42 ],\n",
       "       [ 30.51 ],\n",
       "       [244.163],\n",
       "       [ 41.5  ],\n",
       "       [ 31.02 ],\n",
       "       [151.2  ],\n",
       "       [216.995],\n",
       "       [144.5  ],\n",
       "       [124.5  ],\n",
       "       [186.3  ],\n",
       "       [300.536],\n",
       "       [ 38.5  ],\n",
       "       [ 25.38 ],\n",
       "       [144.2  ],\n",
       "       [202.8  ],\n",
       "       [201.3  ],\n",
       "       [ 63.4  ],\n",
       "       [153.7  ],\n",
       "       [ 31.61 ],\n",
       "       [ 23.61 ],\n",
       "       [ 55.8  ],\n",
       "       [191.7  ],\n",
       "       [236.222],\n",
       "       [ 32.08 ],\n",
       "       [ 85.6  ],\n",
       "       [ 21.95 ],\n",
       "       [ 42.4  ],\n",
       "       [213.448],\n",
       "       [256.059],\n",
       "       [229.187],\n",
       "       [ 41.9  ],\n",
       "       [118.5  ],\n",
       "       [ 25.88 ],\n",
       "       [ 30.24 ],\n",
       "       [236.983],\n",
       "       [159.8  ],\n",
       "       [145.   ],\n",
       "       [ 62.   ],\n",
       "       [ 35.3  ],\n",
       "       [ 29.55 ],\n",
       "       [129.9  ],\n",
       "       [ 30.88 ],\n",
       "       [ 26.16 ],\n",
       "       [ 34.1  ],\n",
       "       [110.4  ],\n",
       "       [177.4  ],\n",
       "       [112.2  ],\n",
       "       [162.   ],\n",
       "       [172.7  ],\n",
       "       [173.6  ],\n",
       "       [ 25.86 ],\n",
       "       [ 33.7  ],\n",
       "       [ 43.9  ],\n",
       "       [163.4  ],\n",
       "       [167.8  ],\n",
       "       [ 26.72 ],\n",
       "       [ 71.4  ],\n",
       "       [ 37.1  ],\n",
       "       [207.234],\n",
       "       [153.5  ],\n",
       "       [ 25.99 ],\n",
       "       [ 28.47 ],\n",
       "       [217.403],\n",
       "       [161.7  ],\n",
       "       [ 25.91 ],\n",
       "       [ 27.51 ],\n",
       "       [219.016],\n",
       "       [ 29.84 ],\n",
       "       [ 72.2  ],\n",
       "       [228.524],\n",
       "       [129.1  ],\n",
       "       [ 36.1  ],\n",
       "       [ 23.7  ],\n",
       "       [ 92.2  ],\n",
       "       [237.657],\n",
       "       [ 23.51 ],\n",
       "       [239.557],\n",
       "       [168.1  ],\n",
       "       [198.8  ],\n",
       "       [ 35.1  ],\n",
       "       [ 44.2  ],\n",
       "       [ 26.77 ],\n",
       "       [ 28.98 ],\n",
       "       [164.8  ],\n",
       "       [ 29.61 ],\n",
       "       [ 31.85 ],\n",
       "       [163.2  ],\n",
       "       [157.   ],\n",
       "       [ 52.3  ],\n",
       "       [ 26.79 ],\n",
       "       [228.329],\n",
       "       [193.7  ],\n",
       "       [ 26.85 ],\n",
       "       [205.288],\n",
       "       [139.4  ],\n",
       "       [ 39.4  ],\n",
       "       [208.547],\n",
       "       [150.9  ],\n",
       "       [191.6  ],\n",
       "       [ 31.01 ],\n",
       "       [ 26.85 ],\n",
       "       [136.2  ],\n",
       "       [ 26.86 ],\n",
       "       [ 26.69 ],\n",
       "       [ 38.6  ],\n",
       "       [263.638],\n",
       "       [ 48.6  ],\n",
       "       [234.747],\n",
       "       [181.5  ],\n",
       "       [193.6  ],\n",
       "       [237.001],\n",
       "       [141.1  ],\n",
       "       [235.288],\n",
       "       [250.227],\n",
       "       [137.8  ],\n",
       "       [175.6  ],\n",
       "       [ 41.1  ],\n",
       "       [134.7  ],\n",
       "       [ 78.   ],\n",
       "       [110.   ],\n",
       "       [ 32.75 ],\n",
       "       [ 23.67 ],\n",
       "       [ 26.63 ],\n",
       "       [185.5  ],\n",
       "       [ 31.75 ],\n",
       "       [ 97.7  ],\n",
       "       [ 26.47 ]])"
      ]
     },
     "execution_count": 34,
     "metadata": {},
     "output_type": "execute_result"
    }
   ],
   "source": [
    "y_test"
   ]
  },
  {
   "cell_type": "code",
   "execution_count": 35,
   "id": "7eea4355",
   "metadata": {},
   "outputs": [],
   "source": [
    "myreg = LinearRegression()"
   ]
  },
  {
   "cell_type": "code",
   "execution_count": 36,
   "id": "f5f31659",
   "metadata": {},
   "outputs": [
    {
     "data": {
      "text/html": [
       "<style>#sk-container-id-1 {color: black;}#sk-container-id-1 pre{padding: 0;}#sk-container-id-1 div.sk-toggleable {background-color: white;}#sk-container-id-1 label.sk-toggleable__label {cursor: pointer;display: block;width: 100%;margin-bottom: 0;padding: 0.3em;box-sizing: border-box;text-align: center;}#sk-container-id-1 label.sk-toggleable__label-arrow:before {content: \"▸\";float: left;margin-right: 0.25em;color: #696969;}#sk-container-id-1 label.sk-toggleable__label-arrow:hover:before {color: black;}#sk-container-id-1 div.sk-estimator:hover label.sk-toggleable__label-arrow:before {color: black;}#sk-container-id-1 div.sk-toggleable__content {max-height: 0;max-width: 0;overflow: hidden;text-align: left;background-color: #f0f8ff;}#sk-container-id-1 div.sk-toggleable__content pre {margin: 0.2em;color: black;border-radius: 0.25em;background-color: #f0f8ff;}#sk-container-id-1 input.sk-toggleable__control:checked~div.sk-toggleable__content {max-height: 200px;max-width: 100%;overflow: auto;}#sk-container-id-1 input.sk-toggleable__control:checked~label.sk-toggleable__label-arrow:before {content: \"▾\";}#sk-container-id-1 div.sk-estimator input.sk-toggleable__control:checked~label.sk-toggleable__label {background-color: #d4ebff;}#sk-container-id-1 div.sk-label input.sk-toggleable__control:checked~label.sk-toggleable__label {background-color: #d4ebff;}#sk-container-id-1 input.sk-hidden--visually {border: 0;clip: rect(1px 1px 1px 1px);clip: rect(1px, 1px, 1px, 1px);height: 1px;margin: -1px;overflow: hidden;padding: 0;position: absolute;width: 1px;}#sk-container-id-1 div.sk-estimator {font-family: monospace;background-color: #f0f8ff;border: 1px dotted black;border-radius: 0.25em;box-sizing: border-box;margin-bottom: 0.5em;}#sk-container-id-1 div.sk-estimator:hover {background-color: #d4ebff;}#sk-container-id-1 div.sk-parallel-item::after {content: \"\";width: 100%;border-bottom: 1px solid gray;flex-grow: 1;}#sk-container-id-1 div.sk-label:hover label.sk-toggleable__label {background-color: #d4ebff;}#sk-container-id-1 div.sk-serial::before {content: \"\";position: absolute;border-left: 1px solid gray;box-sizing: border-box;top: 0;bottom: 0;left: 50%;z-index: 0;}#sk-container-id-1 div.sk-serial {display: flex;flex-direction: column;align-items: center;background-color: white;padding-right: 0.2em;padding-left: 0.2em;position: relative;}#sk-container-id-1 div.sk-item {position: relative;z-index: 1;}#sk-container-id-1 div.sk-parallel {display: flex;align-items: stretch;justify-content: center;background-color: white;position: relative;}#sk-container-id-1 div.sk-item::before, #sk-container-id-1 div.sk-parallel-item::before {content: \"\";position: absolute;border-left: 1px solid gray;box-sizing: border-box;top: 0;bottom: 0;left: 50%;z-index: -1;}#sk-container-id-1 div.sk-parallel-item {display: flex;flex-direction: column;z-index: 1;position: relative;background-color: white;}#sk-container-id-1 div.sk-parallel-item:first-child::after {align-self: flex-end;width: 50%;}#sk-container-id-1 div.sk-parallel-item:last-child::after {align-self: flex-start;width: 50%;}#sk-container-id-1 div.sk-parallel-item:only-child::after {width: 0;}#sk-container-id-1 div.sk-dashed-wrapped {border: 1px dashed gray;margin: 0 0.4em 0.5em 0.4em;box-sizing: border-box;padding-bottom: 0.4em;background-color: white;}#sk-container-id-1 div.sk-label label {font-family: monospace;font-weight: bold;display: inline-block;line-height: 1.2em;}#sk-container-id-1 div.sk-label-container {text-align: center;}#sk-container-id-1 div.sk-container {/* jupyter's `normalize.less` sets `[hidden] { display: none; }` but bootstrap.min.css set `[hidden] { display: none !important; }` so we also need the `!important` here to be able to override the default hidden behavior on the sphinx rendered scikit-learn.org. See: https://github.com/scikit-learn/scikit-learn/issues/21755 */display: inline-block !important;position: relative;}#sk-container-id-1 div.sk-text-repr-fallback {display: none;}</style><div id=\"sk-container-id-1\" class=\"sk-top-container\"><div class=\"sk-text-repr-fallback\"><pre>LinearRegression()</pre><b>In a Jupyter environment, please rerun this cell to show the HTML representation or trust the notebook. <br />On GitHub, the HTML representation is unable to render, please try loading this page with nbviewer.org.</b></div><div class=\"sk-container\" hidden><div class=\"sk-item\"><div class=\"sk-estimator sk-toggleable\"><input class=\"sk-toggleable__control sk-hidden--visually\" id=\"sk-estimator-id-1\" type=\"checkbox\" checked><label for=\"sk-estimator-id-1\" class=\"sk-toggleable__label sk-toggleable__label-arrow\">LinearRegression</label><div class=\"sk-toggleable__content\"><pre>LinearRegression()</pre></div></div></div></div></div>"
      ],
      "text/plain": [
       "LinearRegression()"
      ]
     },
     "execution_count": 36,
     "metadata": {},
     "output_type": "execute_result"
    }
   ],
   "source": [
    "myreg.fit(X_train, y_train)\n",
    "myreg"
   ]
  },
  {
   "cell_type": "code",
   "execution_count": 37,
   "id": "1f25dc61",
   "metadata": {},
   "outputs": [],
   "source": [
    "a = myreg.coef_\n",
    "b = myreg.intercept_"
   ]
  },
  {
   "cell_type": "code",
   "execution_count": 38,
   "id": "e539f471",
   "metadata": {},
   "outputs": [
    {
     "data": {
      "text/plain": [
       "array([[3.7052336]])"
      ]
     },
     "execution_count": 38,
     "metadata": {},
     "output_type": "execute_result"
    }
   ],
   "source": [
    "a"
   ]
  },
  {
   "cell_type": "code",
   "execution_count": 39,
   "id": "38e2fe7c",
   "metadata": {},
   "outputs": [
    {
     "data": {
      "text/plain": [
       "array([-7235.98309691])"
      ]
     },
     "execution_count": 39,
     "metadata": {},
     "output_type": "execute_result"
    }
   ],
   "source": [
    "b"
   ]
  },
  {
   "cell_type": "code",
   "execution_count": 40,
   "id": "d0902d65",
   "metadata": {},
   "outputs": [
    {
     "data": {
      "text/plain": [
       "array([[ 85.55848805],\n",
       "       [178.18932794],\n",
       "       [-21.89328622],\n",
       "       [152.25269277],\n",
       "       [ 29.97998412],\n",
       "       [ 29.97998412],\n",
       "       [144.84222558],\n",
       "       [ 18.86428333],\n",
       "       [248.58876626],\n",
       "       [155.95792637],\n",
       "       [141.13699199],\n",
       "       [200.42072952],\n",
       "       [ 37.39045131],\n",
       "       [ 96.67418884],\n",
       "       [226.35736469],\n",
       "       [ 70.73755367],\n",
       "       [255.99923345],\n",
       "       [204.12596311],\n",
       "       [ 59.62185288],\n",
       "       [ 78.14802086],\n",
       "       [  4.04334895],\n",
       "       [ 29.97998412],\n",
       "       [185.59979513],\n",
       "       [ 22.56951693],\n",
       "       [ 89.26372165],\n",
       "       [181.89456154],\n",
       "       [185.59979513],\n",
       "       [248.58876626],\n",
       "       [141.13699199],\n",
       "       [ 26.27475052],\n",
       "       [ 18.86428333],\n",
       "       [152.25269277],\n",
       "       [233.76783188],\n",
       "       [207.83119671],\n",
       "       [ 41.0956849 ],\n",
       "       [100.37942243],\n",
       "       [ 59.62185288],\n",
       "       [ 78.14802086],\n",
       "       [193.01026232],\n",
       "       [196.71549592],\n",
       "       [241.17829907],\n",
       "       [241.17829907],\n",
       "       [100.37942243],\n",
       "       [ 33.68521771],\n",
       "       [155.95792637],\n",
       "       [122.61082401],\n",
       "       [ 26.27475052],\n",
       "       [-21.89328622],\n",
       "       [ 37.39045131],\n",
       "       [ 48.50615209],\n",
       "       [ 52.21138569],\n",
       "       [ 67.03232007],\n",
       "       [-10.77758544],\n",
       "       [181.89456154],\n",
       "       [ 70.73755367],\n",
       "       [ 74.44278726],\n",
       "       [ 81.85325446],\n",
       "       [ 33.68521771],\n",
       "       [ 37.39045131],\n",
       "       [237.47306547],\n",
       "       [ 70.73755367],\n",
       "       [ 41.0956849 ],\n",
       "       [155.95792637],\n",
       "       [204.12596311],\n",
       "       [148.54745918],\n",
       "       [133.72652479],\n",
       "       [189.30502873],\n",
       "       [259.70446705],\n",
       "       [ 63.32708648],\n",
       "       [ -7.07235184],\n",
       "       [148.54745918],\n",
       "       [196.71549592],\n",
       "       [196.71549592],\n",
       "       [ 92.96895524],\n",
       "       [155.95792637],\n",
       "       [ 44.8009185 ],\n",
       "       [-14.48281903],\n",
       "       [ 85.55848805],\n",
       "       [189.30502873],\n",
       "       [230.06259828],\n",
       "       [ 48.50615209],\n",
       "       [100.37942243],\n",
       "       [-21.89328622],\n",
       "       [ 70.73755367],\n",
       "       [204.12596311],\n",
       "       [244.88353266],\n",
       "       [218.94689749],\n",
       "       [ 70.73755367],\n",
       "       [130.0212912 ],\n",
       "       [ -7.07235184],\n",
       "       [ 33.68521771],\n",
       "       [226.35736469],\n",
       "       [163.36839356],\n",
       "       [148.54745918],\n",
       "       [ 89.26372165],\n",
       "       [ 55.91661929],\n",
       "       [ 26.27475052],\n",
       "       [137.43175839],\n",
       "       [ 37.39045131],\n",
       "       [ -7.07235184],\n",
       "       [ 55.91661929],\n",
       "       [122.61082401],\n",
       "       [178.18932794],\n",
       "       [126.3160576 ],\n",
       "       [167.07362715],\n",
       "       [174.48409435],\n",
       "       [174.48409435],\n",
       "       [ -7.07235184],\n",
       "       [ 52.21138569],\n",
       "       [ 74.44278726],\n",
       "       [167.07362715],\n",
       "       [170.77886075],\n",
       "       [  7.74858254],\n",
       "       [ 96.67418884],\n",
       "       [ 59.62185288],\n",
       "       [200.42072952],\n",
       "       [155.95792637],\n",
       "       [ -7.07235184],\n",
       "       [ 15.15904973],\n",
       "       [211.5364303 ],\n",
       "       [163.36839356],\n",
       "       [ -7.07235184],\n",
       "       [ 11.45381614],\n",
       "       [204.12596311],\n",
       "       [ 29.97998412],\n",
       "       [ 96.67418884],\n",
       "       [218.94689749],\n",
       "       [137.43175839],\n",
       "       [ 59.62185288],\n",
       "       [-14.48281903],\n",
       "       [104.08465603],\n",
       "       [230.06259828],\n",
       "       [-10.77758544],\n",
       "       [233.76783188],\n",
       "       [170.77886075],\n",
       "       [193.01026232],\n",
       "       [ 55.91661929],\n",
       "       [ 74.44278726],\n",
       "       [  7.74858254],\n",
       "       [ 22.56951693],\n",
       "       [170.77886075],\n",
       "       [ 26.27475052],\n",
       "       [ 44.8009185 ],\n",
       "       [167.07362715],\n",
       "       [159.66315996],\n",
       "       [ 81.85325446],\n",
       "       [  0.33811535],\n",
       "       [218.94689749],\n",
       "       [193.01026232],\n",
       "       [  0.33811535],\n",
       "       [200.42072952],\n",
       "       [144.84222558],\n",
       "       [ 63.32708648],\n",
       "       [200.42072952],\n",
       "       [155.95792637],\n",
       "       [193.01026232],\n",
       "       [ 41.0956849 ],\n",
       "       [  4.04334895],\n",
       "       [141.13699199],\n",
       "       [  4.04334895],\n",
       "       [  0.33811535],\n",
       "       [ 63.32708648],\n",
       "       [252.29399985],\n",
       "       [ 78.14802086],\n",
       "       [230.06259828],\n",
       "       [181.89456154],\n",
       "       [193.01026232],\n",
       "       [230.06259828],\n",
       "       [144.84222558],\n",
       "       [226.35736469],\n",
       "       [241.17829907],\n",
       "       [141.13699199],\n",
       "       [178.18932794],\n",
       "       [ 67.03232007],\n",
       "       [141.13699199],\n",
       "       [100.37942243],\n",
       "       [122.61082401],\n",
       "       [ 48.50615209],\n",
       "       [-18.18805263],\n",
       "       [  0.33811535],\n",
       "       [185.59979513],\n",
       "       [ 44.8009185 ],\n",
       "       [107.78988962],\n",
       "       [ -7.07235184]])"
      ]
     },
     "execution_count": 40,
     "metadata": {},
     "output_type": "execute_result"
    }
   ],
   "source": [
    "y_predicted = myreg.predict(X_test)\n",
    "y_predicted"
   ]
  },
  {
   "cell_type": "code",
   "execution_count": 41,
   "id": "49ba6eb1",
   "metadata": {},
   "outputs": [
    {
     "data": {
      "image/png": "[encoded data removed]",
      "text/plain": [
       "<Figure size 640x480 with 1 Axes>"
      ]
     },
     "metadata": {},
     "output_type": "display_data"
    }
   ],
   "source": [
    "# Visualize the Linear Regression\n",
    "plt.title('Linear Regression')\n",
    "plt.scatter(X, y, color='green')\n",
    "plt.plot(X_train, a*X_train + b, color='blue')\n",
    "plt.plot(X_test, y_predicted, color='orange')\n",
    "plt.xlabel('date by year')\n",
    "plt.ylabel('value')\n",
    "plt.show()"
   ]
  },
  {
   "cell_type": "code",
   "execution_count": 42,
   "id": "0a48e026",
   "metadata": {},
   "outputs": [
    {
     "data": {
      "text/plain": [
       "0.9517383505382754"
      ]
     },
     "execution_count": 42,
     "metadata": {},
     "output_type": "execute_result"
    }
   ],
   "source": [
    "R2 = myreg.score(X, y)\n",
    "R2"
   ]
  },
  {
   "cell_type": "markdown",
   "id": "82980775",
   "metadata": {},
   "source": [
    "### Polytfit\n",
    "#### Split the Data in Dependent y and Independent X Data Sets"
   ]
  },
  {
   "cell_type": "code",
   "execution_count": 43,
   "id": "0ba1c42a",
   "metadata": {},
   "outputs": [],
   "source": [
    "X, y = df_inflation.year, df_inflation.value"
   ]
  },
  {
   "cell_type": "markdown",
   "id": "c6d2b358",
   "metadata": {},
   "source": [
    "#### Split the Data in Training and Testing Sets"
   ]
  },
  {
   "cell_type": "code",
   "execution_count": 44,
   "id": "4aceb77e",
   "metadata": {},
   "outputs": [],
   "source": [
    "# split the set into subsets for training and testing\n",
    "from sklearn.model_selection import train_test_split\n",
    "\n",
    "# default proportion is 75:25\n",
    "# X_train, X_test, y_train, y_test = train_test_split(X, y, random_state=1)\n",
    "X_train, X_test, y_train, y_test = train_test_split(X, y, random_state=1, test_size=0.2) "
   ]
  },
  {
   "cell_type": "code",
   "execution_count": 45,
   "id": "918ed81c",
   "metadata": {},
   "outputs": [
    {
     "name": "stdout",
     "output_type": "stream",
     "text": [
      "(734,)\n",
      "(734,)\n",
      "(184,)\n",
      "(184,)\n"
     ]
    }
   ],
   "source": [
    "# the shape of the subsets\n",
    "print(X_train.shape)\n",
    "print(y_train.shape)\n",
    "print(X_test.shape)\n",
    "print(y_test.shape)"
   ]
  },
  {
   "cell_type": "code",
   "execution_count": 46,
   "id": "b20affc7",
   "metadata": {},
   "outputs": [
    {
     "data": {
      "text/plain": [
       "852    248.859\n",
       "121     27.800\n",
       "664    179.500\n",
       "187     30.280\n",
       "108     26.830\n",
       "        ...   \n",
       "767    220.472\n",
       "72      26.640\n",
       "908    296.539\n",
       "235     32.650\n",
       "37      23.610\n",
       "Name: value, Length: 734, dtype: float64"
      ]
     },
     "execution_count": 46,
     "metadata": {},
     "output_type": "execute_result"
    }
   ],
   "source": [
    "y_train"
   ]
  },
  {
   "cell_type": "code",
   "execution_count": 47,
   "id": "a4aaebff",
   "metadata": {},
   "outputs": [
    {
     "data": {
      "text/html": [
       "<div>\n",
       "<style scoped>\n",
       "    .dataframe tbody tr th:only-of-type {\n",
       "        vertical-align: middle;\n",
       "    }\n",
       "\n",
       "    .dataframe tbody tr th {\n",
       "        vertical-align: top;\n",
       "    }\n",
       "\n",
       "    .dataframe thead th {\n",
       "        text-align: right;\n",
       "    }\n",
       "</style>\n",
       "<table border=\"1\" class=\"dataframe\">\n",
       "  <thead>\n",
       "    <tr style=\"text-align: right;\">\n",
       "      <th></th>\n",
       "      <th>date</th>\n",
       "      <th>value</th>\n",
       "      <th>year</th>\n",
       "    </tr>\n",
       "  </thead>\n",
       "  <tbody>\n",
       "    <tr>\n",
       "      <th>0</th>\n",
       "      <td>1947-01-01</td>\n",
       "      <td>21.48</td>\n",
       "      <td>1947</td>\n",
       "    </tr>\n",
       "    <tr>\n",
       "      <th>1</th>\n",
       "      <td>1947-02-01</td>\n",
       "      <td>21.62</td>\n",
       "      <td>1947</td>\n",
       "    </tr>\n",
       "    <tr>\n",
       "      <th>2</th>\n",
       "      <td>1947-03-01</td>\n",
       "      <td>22.00</td>\n",
       "      <td>1947</td>\n",
       "    </tr>\n",
       "    <tr>\n",
       "      <th>3</th>\n",
       "      <td>1947-04-01</td>\n",
       "      <td>22.00</td>\n",
       "      <td>1947</td>\n",
       "    </tr>\n",
       "    <tr>\n",
       "      <th>4</th>\n",
       "      <td>1947-05-01</td>\n",
       "      <td>21.95</td>\n",
       "      <td>1947</td>\n",
       "    </tr>\n",
       "  </tbody>\n",
       "</table>\n",
       "</div>"
      ],
      "text/plain": [
       "        date  value  year\n",
       "0 1947-01-01  21.48  1947\n",
       "1 1947-02-01  21.62  1947\n",
       "2 1947-03-01  22.00  1947\n",
       "3 1947-04-01  22.00  1947\n",
       "4 1947-05-01  21.95  1947"
      ]
     },
     "execution_count": 47,
     "metadata": {},
     "output_type": "execute_result"
    }
   ],
   "source": [
    "df_inflation.head()"
   ]
  },
  {
   "cell_type": "markdown",
   "id": "7e29b91a",
   "metadata": {},
   "source": [
    "#### Train data model"
   ]
  },
  {
   "cell_type": "code",
   "execution_count": 48,
   "id": "14578580",
   "metadata": {},
   "outputs": [],
   "source": [
    "# build a model from the train data with method 'polyfit'\n",
    "model = np.polyfit(X_train, y_train, 1)"
   ]
  },
  {
   "cell_type": "code",
   "execution_count": 49,
   "id": "dcd9706d",
   "metadata": {},
   "outputs": [
    {
     "data": {
      "text/plain": [
       "array([ 3.69983720e+00, -7.22596232e+03])"
      ]
     },
     "execution_count": 49,
     "metadata": {},
     "output_type": "execute_result"
    }
   ],
   "source": [
    "model"
   ]
  },
  {
   "cell_type": "code",
   "execution_count": 50,
   "id": "f7791c8d",
   "metadata": {},
   "outputs": [],
   "source": [
    "a, b = model[0], model[1]"
   ]
  },
  {
   "cell_type": "code",
   "execution_count": 51,
   "id": "fe7bef0b",
   "metadata": {},
   "outputs": [
    {
     "data": {
      "text/plain": [
       "array([ 3.68037556e+00, -7.18482064e+03])"
      ]
     },
     "execution_count": 51,
     "metadata": {},
     "output_type": "execute_result"
    }
   ],
   "source": [
    "test = np.polyfit(X_test, y_test, 1)\n",
    "test"
   ]
  },
  {
   "cell_type": "code",
   "execution_count": 52,
   "id": "3efde1e1",
   "metadata": {},
   "outputs": [],
   "source": [
    "a1, b1 = test[0], test[1]"
   ]
  },
  {
   "cell_type": "code",
   "execution_count": 53,
   "id": "346ca55b",
   "metadata": {},
   "outputs": [
    {
     "data": {
      "image/png": "[encoded data removed]",
      "text/plain": [
       "<Figure size 640x480 with 1 Axes>"
      ]
     },
     "metadata": {},
     "output_type": "display_data"
    }
   ],
   "source": [
    "# Visualise the Linear Regression \n",
    "plt.title('Linear Regression')\n",
    "plt.scatter(X, y, color='green')\n",
    "plt.plot(X_test, a1*X_test + b1, color='orange')\n",
    "plt.plot(X_train, a*X_train + b, color='blue')\n",
    "\n",
    "plt.xlabel('date')\n",
    "plt.ylabel('value')\n",
    "plt.show()"
   ]
  },
  {
   "cell_type": "markdown",
   "id": "f1808046",
   "metadata": {},
   "source": [
    "### Test the models"
   ]
  },
  {
   "cell_type": "markdown",
   "id": "5f5ff79c",
   "metadata": {},
   "source": [
    "#### Test with Known Data"
   ]
  },
  {
   "cell_type": "code",
   "execution_count": 54,
   "id": "1a618d77",
   "metadata": {},
   "outputs": [
    {
     "data": {
      "text/plain": [
       "array([[174.48409435]])"
      ]
     },
     "execution_count": 54,
     "metadata": {},
     "output_type": "execute_result"
    }
   ],
   "source": [
    "date_predicted = myreg.predict([[2000]])\n",
    "date_predicted"
   ]
  },
  {
   "cell_type": "code",
   "execution_count": 55,
   "id": "fdc628be",
   "metadata": {},
   "outputs": [
    {
     "data": {
      "text/plain": [
       "173.71208611957718"
      ]
     },
     "execution_count": 55,
     "metadata": {},
     "output_type": "execute_result"
    }
   ],
   "source": [
    "date_predict = a*2000 + b\n",
    "date_predict"
   ]
  },
  {
   "cell_type": "markdown",
   "id": "69939978",
   "metadata": {},
   "source": [
    "### Predict with unknown Data"
   ]
  },
  {
   "cell_type": "code",
   "execution_count": 56,
   "id": "4e799dd0",
   "metadata": {},
   "outputs": [
    {
     "data": {
      "text/plain": [
       "array([[-5753.88965866]])"
      ]
     },
     "execution_count": 56,
     "metadata": {},
     "output_type": "execute_result"
    }
   ],
   "source": [
    "value = 400\n",
    "date_predicted = myreg.predict([[value]])\n",
    "date_predicted"
   ]
  },
  {
   "cell_type": "code",
   "execution_count": 57,
   "id": "dfa46e0b",
   "metadata": {},
   "outputs": [
    {
     "data": {
      "text/html": [
       "<div>\n",
       "<style scoped>\n",
       "    .dataframe tbody tr th:only-of-type {\n",
       "        vertical-align: middle;\n",
       "    }\n",
       "\n",
       "    .dataframe tbody tr th {\n",
       "        vertical-align: top;\n",
       "    }\n",
       "\n",
       "    .dataframe thead th {\n",
       "        text-align: right;\n",
       "    }\n",
       "</style>\n",
       "<table border=\"1\" class=\"dataframe\">\n",
       "  <thead>\n",
       "    <tr style=\"text-align: right;\">\n",
       "      <th></th>\n",
       "      <th>date</th>\n",
       "      <th>value</th>\n",
       "      <th>year</th>\n",
       "    </tr>\n",
       "  </thead>\n",
       "  <tbody>\n",
       "    <tr>\n",
       "      <th>0</th>\n",
       "      <td>1947-01-01</td>\n",
       "      <td>21.48</td>\n",
       "      <td>1947</td>\n",
       "    </tr>\n",
       "    <tr>\n",
       "      <th>1</th>\n",
       "      <td>1947-02-01</td>\n",
       "      <td>21.62</td>\n",
       "      <td>1947</td>\n",
       "    </tr>\n",
       "    <tr>\n",
       "      <th>2</th>\n",
       "      <td>1947-03-01</td>\n",
       "      <td>22.00</td>\n",
       "      <td>1947</td>\n",
       "    </tr>\n",
       "    <tr>\n",
       "      <th>3</th>\n",
       "      <td>1947-04-01</td>\n",
       "      <td>22.00</td>\n",
       "      <td>1947</td>\n",
       "    </tr>\n",
       "    <tr>\n",
       "      <th>4</th>\n",
       "      <td>1947-05-01</td>\n",
       "      <td>21.95</td>\n",
       "      <td>1947</td>\n",
       "    </tr>\n",
       "  </tbody>\n",
       "</table>\n",
       "</div>"
      ],
      "text/plain": [
       "        date  value  year\n",
       "0 1947-01-01  21.48  1947\n",
       "1 1947-02-01  21.62  1947\n",
       "2 1947-03-01  22.00  1947\n",
       "3 1947-04-01  22.00  1947\n",
       "4 1947-05-01  21.95  1947"
      ]
     },
     "execution_count": 57,
     "metadata": {},
     "output_type": "execute_result"
    }
   ],
   "source": [
    "df_inflation.head()"
   ]
  },
  {
   "cell_type": "markdown",
   "id": "3949d6cd",
   "metadata": {},
   "source": [
    "# Salary exploration and cleaning"
   ]
  },
  {
   "cell_type": "code",
   "execution_count": 245,
   "id": "0f0ff296",
   "metadata": {},
   "outputs": [],
   "source": [
    "df_salary_ini = pd.read_csv('../../../Documents/GitHub/BI-Fall-2023-Exam-Project/Data/ds_salaries2.csv')"
   ]
  },
  {
   "cell_type": "code",
   "execution_count": 246,
   "id": "93b19a5d",
   "metadata": {},
   "outputs": [],
   "source": [
    "import pandas as pd\n",
    "\n",
    "def clean_and_extract_data(df):\n",
    "    # Initialize empty arrays for storing the matching rows\n",
    "    work_year_values = []\n",
    "    job_title_values = []\n",
    "    employee_residence_values = []\n",
    "    employment_type_values = []\n",
    "    salary_in_usd_values = []\n",
    "    experience_level_values = []\n",
    "    remote_ratio_values = []\n",
    "\n",
    "    # Criteria for filtering the data\n",
    "    for index, row in df.iterrows():\n",
    "        employee_residence = row['employee_residence']\n",
    "        employment_type = row['employment_type']\n",
    "        job_title = row['job_title']\n",
    "        experience_level = row['experience_level']\n",
    "\n",
    "        if (\n",
    "            employee_residence == 'US' and\n",
    "            employment_type == 'FT' and\n",
    "            job_title in ['Data Scientist', 'Data Engineer', 'Data Analyst', 'Machine Learning Engineer'] and\n",
    "            experience_level in ['EN', 'MI', 'SE', 'EX']\n",
    "        ):\n",
    "            # Save the values from the matching rows into arrays\n",
    "            work_year_values.append(row['work_year'])\n",
    "            job_title_values.append(job_title)\n",
    "            employee_residence_values.append(employee_residence)\n",
    "            employment_type_values.append(employment_type)\n",
    "            salary_in_usd_values.append(row['salary_in_usd'])\n",
    "            experience_level_values.append(experience_level)\n",
    "            remote_ratio_values.append(row['remote_ratio'])\n",
    "\n",
    "    # Create a DataFrame from the matching data\n",
    "    data = {\n",
    "        'work_year': work_year_values,\n",
    "        'job_title': job_title_values,\n",
    "        'employee_residence': employee_residence_values,\n",
    "        'employment_type': employment_type_values,\n",
    "        'salary_in_usd': salary_in_usd_values,\n",
    "        'experience_level': experience_level_values,\n",
    "        'remote_ratio': remote_ratio_values\n",
    "    }\n",
    "    matching_df = pd.DataFrame(data)\n",
    "\n",
    "    return matching_df\n",
    "\n",
    "\n"
   ]
  },
  {
   "cell_type": "code",
   "execution_count": 247,
   "id": "41f58275",
   "metadata": {},
   "outputs": [],
   "source": [
    "df_sal = clean_and_extract_data(df_salary_ini)\n"
   ]
  },
  {
   "cell_type": "code",
   "execution_count": 248,
   "id": "31335ff1",
   "metadata": {},
   "outputs": [
    {
     "name": "stdout",
     "output_type": "stream",
     "text": [
      "Number of 'Data Analyst' jobs: 517\n"
     ]
    }
   ],
   "source": [
    "data_analyst_count = df_sal['job_title'].value_counts()['Data Analyst']\n",
    "print(\"Number of 'Data Analyst' jobs:\", data_analyst_count)"
   ]
  },
  {
   "cell_type": "code",
   "execution_count": 249,
   "id": "5c01b4c6",
   "metadata": {},
   "outputs": [
    {
     "name": "stdout",
     "output_type": "stream",
     "text": [
      "Number of 'Data Engineer' jobs: 903\n"
     ]
    }
   ],
   "source": [
    "data_engineer_count = df_sal['job_title'].value_counts()['Data Engineer']\n",
    "print(\"Number of 'Data Engineer' jobs:\", data_engineer_count)"
   ]
  },
  {
   "cell_type": "code",
   "execution_count": 250,
   "id": "af5d686a",
   "metadata": {},
   "outputs": [
    {
     "name": "stdout",
     "output_type": "stream",
     "text": [
      "Number of 'Data Scientist' jobs: 667\n"
     ]
    }
   ],
   "source": [
    "data_scientist_count = df_sal['job_title'].value_counts()['Data Scientist']\n",
    "print(\"Number of 'Data Scientist' jobs:\", data_scientist_count)"
   ]
  },
  {
   "cell_type": "code",
   "execution_count": 251,
   "id": "adeaafaf",
   "metadata": {},
   "outputs": [
    {
     "name": "stdout",
     "output_type": "stream",
     "text": [
      "Number of 'Machine Learning Engineer' jobs: 218\n"
     ]
    }
   ],
   "source": [
    "machine_learning_engineer_count = df_sal['job_title'].value_counts()['Machine Learning Engineer']\n",
    "print(\"Number of 'Machine Learning Engineer' jobs:\", machine_learning_engineer_count)"
   ]
  },
  {
   "cell_type": "code",
   "execution_count": 252,
   "id": "709dcecb",
   "metadata": {},
   "outputs": [
    {
     "name": "stdout",
     "output_type": "stream",
     "text": [
      "work_year              int64\n",
      "job_title             object\n",
      "employee_residence    object\n",
      "employment_type       object\n",
      "salary_in_usd          int64\n",
      "experience_level      object\n",
      "remote_ratio           int64\n",
      "dtype: object\n"
     ]
    }
   ],
   "source": [
    "# Assuming 'sal_df' is your DataFrame\n",
    "column_data_types = df_sal.dtypes\n",
    "\n",
    "# Display the data types of each column\n",
    "print(column_data_types)"
   ]
  },
  {
   "cell_type": "markdown",
   "id": "ba1eccff",
   "metadata": {},
   "source": [
    "## Remote vs On-site vs Hybrid working from salary data"
   ]
  },
  {
   "cell_type": "code",
   "execution_count": 253,
   "id": "7de29c01",
   "metadata": {},
   "outputs": [
    {
     "data": {
      "image/png": "[encoded data removed]",
      "text/plain": [
       "<Figure size 800x600 with 1 Axes>"
      ]
     },
     "metadata": {},
     "output_type": "display_data"
    }
   ],
   "source": [
    "# Create a simple bar chart\n",
    "plt.figure(figsize=(8, 6))\n",
    "\n",
    "# Extract the values for each category\n",
    "remote = df_sal[df_sal['remote_ratio'] == 100]['remote_ratio'].count()\n",
    "hybrid = df_sal[df_sal['remote_ratio'] == 50]['remote_ratio'].count()\n",
    "office = df_sal[df_sal['remote_ratio'] == 0]['remote_ratio'].count()\n",
    "\n",
    "categories = ['Remote', 'Hybrid', 'Fully In Office']\n",
    "values = [remote, hybrid, office]\n",
    "\n",
    "# Create the bar chart\n",
    "plt.bar(categories, values, color=['blue', 'orange', 'green'])\n",
    "\n",
    "# Add labels and title\n",
    "plt.xlabel('Work Arrangement')\n",
    "plt.ylabel('Count')\n",
    "plt.title('Distribution of Work Arrangement')\n",
    "\n",
    "# Show the plot\n",
    "plt.show()"
   ]
  },
  {
   "cell_type": "code",
   "execution_count": 254,
   "id": "62386f19",
   "metadata": {},
   "outputs": [
    {
     "data": {
      "image/png": "[encoded data removed]",
      "text/plain": [
       "<Figure size 640x480 with 1 Axes>"
      ]
     },
     "metadata": {},
     "output_type": "display_data"
    },
    {
     "name": "stdout",
     "output_type": "stream",
     "text": [
      "Slope (Coefficient): 8.896394467966248\n",
      "Intercept: 148600.2531049204\n"
     ]
    }
   ],
   "source": [
    "# Assuming 'sal_df' is your DataFrame\n",
    "# We'll use 'salary_in_usd' for the dependent variable (y) and 'remote_ratio' for the independent variable (x)\n",
    "X = df_sal['remote_ratio'].values.reshape(-1, 1)\n",
    "y = df_sal['salary_in_usd'].values\n",
    "\n",
    "model = LinearRegression()\n",
    "model.fit(X, y)\n",
    "\n",
    "# Predictions for the entire range of remote_ratio values\n",
    "y_pred = model.predict(X)\n",
    "\n",
    "# Create a scatter plot of the data points\n",
    "plt.scatter(X, y, color='blue', label='Data')\n",
    "\n",
    "# Create a line plot for the regression line\n",
    "#plt.plot(X, y_pred, color='red', linewidth=2, label='Linear Regression')\n",
    "\n",
    "# Add labels and a legend\n",
    "plt.xlabel('Remote Ratio')\n",
    "plt.ylabel('Salary in USD')\n",
    "plt.legend()\n",
    "\n",
    "# Show the plot\n",
    "plt.show()\n",
    "\n",
    "slope = model.coef_[0]\n",
    "intercept = model.intercept_\n",
    "\n",
    "print(f\"Slope (Coefficient): {slope}\")\n",
    "print(f\"Intercept: {intercept}\")"
   ]
  },
  {
   "cell_type": "code",
   "execution_count": 255,
   "id": "4b387a23",
   "metadata": {},
   "outputs": [
    {
     "name": "stdout",
     "output_type": "stream",
     "text": [
      "      remote_ratio  average_salary\n",
      "0  Fully In Office   148810.603673\n",
      "1           Hybrid   120105.263158\n",
      "2           Remote   149770.718080\n"
     ]
    }
   ],
   "source": [
    "# Group the data by 'remote_ratio' and calculate the mean salary for each group\n",
    "average_salaries = df_sal.groupby('remote_ratio')['salary_in_usd'].mean()\n",
    "\n",
    "# Reset the index to make 'remote_ratio' a column\n",
    "average_salaries = average_salaries.reset_index()\n",
    "\n",
    "# Rename the 'salary_in_usd' column to 'average_salary'\n",
    "average_salaries = average_salaries.rename(columns={'salary_in_usd': 'average_salary'})\n",
    "\n",
    "# Replace 'remote_ratio' values with descriptive labels\n",
    "average_salaries['remote_ratio'] = average_salaries['remote_ratio'].replace({0: 'Fully In Office', 50: 'Hybrid', 100: 'Remote'})\n",
    "\n",
    "# Print the average salaries\n",
    "print(average_salaries)\n"
   ]
  },
  {
   "cell_type": "markdown",
   "id": "240f8617",
   "metadata": {},
   "source": [
    "work_year - The year the salary was paid.\n",
    "\n",
    "experience_level - The experience level in the job during the year with the following possible values: EN Entry-level / Junior MI Mid-level / Intermediate SE Senior-level / Expert EX Executive-level / Director\n",
    "\n",
    "employment_type - The type of employement for the role: PT Part-time FT Full-time CT Contract FL Freelance\n",
    "\n",
    "job_title - The role worked in during the year.\n",
    "\n",
    "salary - The total gross salary amount paid.\n",
    "\n",
    "salary_currency - The currency of the salary paid as an ISO 4217 currency code.\n",
    "\n",
    "salary_in_usd - The salary in USD (FX rate divided by avg. USD rate for the respective year via fxdata.foorilla.com).\n",
    "\n",
    "employee_residence - Employee's primary country of residence in during the work year as an ISO 3166 country code.\n",
    "\n",
    "remote_ratio - The overall amount of work done remotely, possible values are as follows: 0 No remote work (less than 20%) 50 Partially remote 100 Fully remote (more than 80%)\n",
    "\n",
    "company_location - The country of the employer's main office or contracting branch as an ISO 3166 country code.\n",
    "\n",
    "company_size - The average number of people that worked for the company during the year: S less than 50 employees (small) M 50 to 250 employees (medium) L more than 250 employees (large)"
   ]
  },
  {
   "cell_type": "markdown",
   "id": "f20ee22d",
   "metadata": {},
   "source": [
    "# Remote vs on-site vs Hybrid generally in US"
   ]
  },
  {
   "cell_type": "code",
   "execution_count": 36,
   "id": "9f464321",
   "metadata": {
    "scrolled": true
   },
   "outputs": [
    {
     "data": {
      "image/png": "[encoded data removed]",
      "text/plain": [
       "<Figure size 640x480 with 1 Axes>"
      ]
     },
     "metadata": {},
     "output_type": "display_data"
    }
   ],
   "source": [
    "df_remoteWork = pd.read_excel('../../../Documents/GitHub/BI-Fall-2023-Exam-Project/Data/statistic_id1356325_us-workers-working-hybrid-or-remote-vs-on-site-2019-q4-2022.xlsx', sheet_name='Data')\n",
    "\n",
    "\n",
    "# Create a figure and axis\n",
    "fig, ax = plt.subplots()\n",
    "\n",
    "# Plot the lines using the DataFrame columns\n",
    "ax.plot(df_remoteWork['Period'], df_remoteWork['Hybrid'], label='Hybrid', marker='o')\n",
    "ax.plot(df_remoteWork['Period'], df_remoteWork['Remote'], label='Remote', marker='o')\n",
    "ax.plot(df_remoteWork['Period'], df_remoteWork['On-site'], label='On-site', marker='o')\n",
    "\n",
    "# Add labels and title\n",
    "ax.set_xlabel('Period')\n",
    "ax.set_ylabel('Count')\n",
    "ax.set_title('Hybrid vs. Remote vs. On-site')\n",
    "\n",
    "# Add a legend\n",
    "ax.legend()\n",
    "\n",
    "# Show the plot\n",
    "plt.xticks(rotation=45)\n",
    "plt.tight_layout()\n",
    "plt.show()"
   ]
  },
  {
   "cell_type": "markdown",
   "id": "dfc1b3db",
   "metadata": {},
   "source": [
    "# Putting salaries together"
   ]
  },
  {
   "cell_type": "code",
   "execution_count": 229,
   "id": "90871f31",
   "metadata": {},
   "outputs": [],
   "source": [
    "import matplotlib.pyplot as plt\n",
    "import pandas as pd\n",
    "from sklearn.linear_model import LinearRegression\n",
    "\n",
    "def filter_and_save_data_as_dataframe_with_regression(df, job_title_to_match, experience_levels):\n",
    "    plt.figure(figsize=(8, 6))\n",
    "\n",
    "    # Define colors for different experience levels\n",
    "    colors = ['blue', 'green', 'red', 'purple']\n",
    "\n",
    "    for i, experience_level in enumerate(experience_levels):\n",
    "        work_year_values = []\n",
    "        salary_in_usd_values = []\n",
    "\n",
    "        for index, row in df.iterrows():\n",
    "            job_title = row['job_title']\n",
    "            employment_type = row['employment_type']\n",
    "            employee_residence = row['employee_residence']\n",
    "            current_experience_level = row['experience_level']\n",
    "\n",
    "            # Checking for matching values\n",
    "            if (\n",
    "                job_title == job_title_to_match\n",
    "                and employment_type == 'FT'\n",
    "                and employee_residence == 'US'\n",
    "                and current_experience_level == experience_level\n",
    "            ):\n",
    "                work_year_values.append(row['work_year'])\n",
    "                salary_in_usd_values.append(row['salary_in_usd'])\n",
    "\n",
    "        x = pd.DataFrame(work_year_values, columns=['work_year'])\n",
    "        y = pd.Series(salary_in_usd_values)\n",
    "        model = LinearRegression()\n",
    "        model.fit(x, y)\n",
    "        y_pred = model.predict(x)\n",
    "\n",
    "        # Plot the linear regression line\n",
    "        plt.plot(x, y_pred, color=colors[i], label=f'{experience_level}')\n",
    "\n",
    "    # Customize the plot\n",
    "    plt.xlabel('Work Year')\n",
    "    plt.ylabel('Salary in USD')\n",
    "    plt.title('Linear Regression for ' + job_title_to_match)\n",
    "    plt.grid(True)\n",
    "    plt.legend()\n",
    "\n",
    "    plt.show()\n",
    "\n"
   ]
  },
  {
   "cell_type": "code",
   "execution_count": null,
   "id": "ab4007ef",
   "metadata": {},
   "outputs": [],
   "source": [
    "#We are aware that some of the data looks weird, either going steeply down in salary or steeply up\n",
    "#This is most likely because of the amount of data we have after cleaning, and also the time it spands over\n",
    "#If we had more data for each proffession and more data from past years -\n",
    "#the regression lines with very steep curves would probably look a lot different"
   ]
  },
  {
   "cell_type": "code",
   "execution_count": 256,
   "id": "e6a74624",
   "metadata": {},
   "outputs": [
    {
     "data": {
      "image/png": "[encoded data removed]",
      "text/plain": [
       "<Figure size 800x600 with 1 Axes>"
      ]
     },
     "metadata": {},
     "output_type": "display_data"
    }
   ],
   "source": [
    "filter_and_save_data_as_dataframe_with_regression(df_sal, 'Data Scientist', ['EN', 'MI', 'SE', 'EX'])"
   ]
  },
  {
   "cell_type": "markdown",
   "id": "2cfdd27c",
   "metadata": {},
   "source": [
    "# Average fuel cost for average american"
   ]
  },
  {
   "cell_type": "markdown",
   "id": "f396151e",
   "metadata": {},
   "source": [
    "## Average travel time and distance for communing, daily"
   ]
  },
  {
   "cell_type": "code",
   "execution_count": 33,
   "id": "1d252d0b",
   "metadata": {},
   "outputs": [
    {
     "data": {
      "text/html": [
       "<div>\n",
       "<style scoped>\n",
       "    .dataframe tbody tr th:only-of-type {\n",
       "        vertical-align: middle;\n",
       "    }\n",
       "\n",
       "    .dataframe tbody tr th {\n",
       "        vertical-align: top;\n",
       "    }\n",
       "\n",
       "    .dataframe thead th {\n",
       "        text-align: right;\n",
       "    }\n",
       "</style>\n",
       "<table border=\"1\" class=\"dataframe\">\n",
       "  <thead>\n",
       "    <tr style=\"text-align: right;\">\n",
       "      <th></th>\n",
       "      <th>TRVLCMIN</th>\n",
       "      <th>TRPMILES</th>\n",
       "    </tr>\n",
       "  </thead>\n",
       "  <tbody>\n",
       "    <tr>\n",
       "      <th>0</th>\n",
       "      <td>15</td>\n",
       "      <td>5.244</td>\n",
       "    </tr>\n",
       "    <tr>\n",
       "      <th>1</th>\n",
       "      <td>20</td>\n",
       "      <td>5.149</td>\n",
       "    </tr>\n",
       "    <tr>\n",
       "      <th>2</th>\n",
       "      <td>120</td>\n",
       "      <td>84.004</td>\n",
       "    </tr>\n",
       "    <tr>\n",
       "      <th>3</th>\n",
       "      <td>150</td>\n",
       "      <td>81.628</td>\n",
       "    </tr>\n",
       "    <tr>\n",
       "      <th>4</th>\n",
       "      <td>15</td>\n",
       "      <td>2.250</td>\n",
       "    </tr>\n",
       "  </tbody>\n",
       "</table>\n",
       "</div>"
      ],
      "text/plain": [
       "   TRVLCMIN  TRPMILES\n",
       "0        15     5.244\n",
       "1        20     5.149\n",
       "2       120    84.004\n",
       "3       150    81.628\n",
       "4        15     2.250"
      ]
     },
     "execution_count": 33,
     "metadata": {},
     "output_type": "execute_result"
    }
   ],
   "source": [
    "df_travel= pd.read_csv('../../../Documents/GitHub/BI-Fall-2023-Exam-Project/Data/traveldistmin.csv')\n",
    "df_travel=df_travel.drop(['Unnamed: 0'], axis=1)\n",
    "df_travel.head()\n"
   ]
  },
  {
   "cell_type": "code",
   "execution_count": 34,
   "id": "ef6f4790",
   "metadata": {},
   "outputs": [
    {
     "data": {
      "text/html": [
       "<div>\n",
       "<style scoped>\n",
       "    .dataframe tbody tr th:only-of-type {\n",
       "        vertical-align: middle;\n",
       "    }\n",
       "\n",
       "    .dataframe tbody tr th {\n",
       "        vertical-align: top;\n",
       "    }\n",
       "\n",
       "    .dataframe thead th {\n",
       "        text-align: right;\n",
       "    }\n",
       "</style>\n",
       "<table border=\"1\" class=\"dataframe\">\n",
       "  <thead>\n",
       "    <tr style=\"text-align: right;\">\n",
       "      <th></th>\n",
       "      <th>TRVLCMIN</th>\n",
       "      <th>TRPMILES</th>\n",
       "    </tr>\n",
       "  </thead>\n",
       "  <tbody>\n",
       "    <tr>\n",
       "      <th>count</th>\n",
       "      <td>923572.000000</td>\n",
       "      <td>923572.000000</td>\n",
       "    </tr>\n",
       "    <tr>\n",
       "      <th>mean</th>\n",
       "      <td>21.557486</td>\n",
       "      <td>11.436043</td>\n",
       "    </tr>\n",
       "    <tr>\n",
       "      <th>std</th>\n",
       "      <td>32.884552</td>\n",
       "      <td>74.559992</td>\n",
       "    </tr>\n",
       "    <tr>\n",
       "      <th>min</th>\n",
       "      <td>-9.000000</td>\n",
       "      <td>-9.000000</td>\n",
       "    </tr>\n",
       "    <tr>\n",
       "      <th>25%</th>\n",
       "      <td>8.000000</td>\n",
       "      <td>1.335000</td>\n",
       "    </tr>\n",
       "    <tr>\n",
       "      <th>50%</th>\n",
       "      <td>15.000000</td>\n",
       "      <td>3.443000</td>\n",
       "    </tr>\n",
       "    <tr>\n",
       "      <th>75%</th>\n",
       "      <td>25.000000</td>\n",
       "      <td>8.743000</td>\n",
       "    </tr>\n",
       "    <tr>\n",
       "      <th>max</th>\n",
       "      <td>1200.000000</td>\n",
       "      <td>9621.053000</td>\n",
       "    </tr>\n",
       "  </tbody>\n",
       "</table>\n",
       "</div>"
      ],
      "text/plain": [
       "            TRVLCMIN       TRPMILES\n",
       "count  923572.000000  923572.000000\n",
       "mean       21.557486      11.436043\n",
       "std        32.884552      74.559992\n",
       "min        -9.000000      -9.000000\n",
       "25%         8.000000       1.335000\n",
       "50%        15.000000       3.443000\n",
       "75%        25.000000       8.743000\n",
       "max      1200.000000    9621.053000"
      ]
     },
     "execution_count": 34,
     "metadata": {},
     "output_type": "execute_result"
    }
   ],
   "source": [
    "df_travel.describe()\n",
    "#The extreme values should be taken into account in this  analysis\n",
    "#For example, high extreme values would be an indicator of remote working being a positive\n",
    "#Negative values doesnt make any sense."
   ]
  },
  {
   "cell_type": "code",
   "execution_count": 35,
   "id": "f2132e35",
   "metadata": {},
   "outputs": [
    {
     "data": {
      "text/plain": [
       "<matplotlib.collections.PathCollection at 0x1f30220ab10>"
      ]
     },
     "execution_count": 35,
     "metadata": {},
     "output_type": "execute_result"
    },
    {
     "data": {
      "image/png": "[encoded data removed]",
      "text/plain": [
       "<Figure size 640x480 with 1 Axes>"
      ]
     },
     "metadata": {},
     "output_type": "display_data"
    }
   ],
   "source": [
    "#As seen in the scatterplot below, there's some really odd values.\n",
    "#A travel time close to 0 with more than 1000 miles traveled is impossible\n",
    "plt.xlabel('TRVLCMIN')\n",
    "plt.ylabel('TRPMILES')\n",
    "plt.scatter(df_travel.TRVLCMIN, df_travel.TRPMILES, color='green')"
   ]
  },
  {
   "cell_type": "code",
   "execution_count": 26,
   "id": "90633ea4",
   "metadata": {},
   "outputs": [
    {
     "name": "stdout",
     "output_type": "stream",
     "text": [
      "Updated DataFrame:\n",
      "        TRVLCMIN  TRPMILES\n",
      "0             15     5.244\n",
      "1             20     5.149\n",
      "2            120    84.004\n",
      "3            150    81.628\n",
      "4             15     2.250\n",
      "...          ...       ...\n",
      "923560        12     4.778\n",
      "923561        26     9.115\n",
      "923564        29     9.562\n",
      "923565        26     9.115\n",
      "923566        29     9.562\n",
      "\n",
      "[737646 rows x 2 columns]\n"
     ]
    }
   ],
   "source": [
    "#We made our own breakpoint for when we find the data valuable, which is as long as the miles and minutes -\n",
    "# - are within the 8 times of each other, and removed all of the rows with 0-values\n",
    "# Drop rows with 0 values in 'TRPMILES' or 'TRVLCMIN'\n",
    "df_travel = df_travel[(df_travel['TRPMILES'] != 0) & (df_travel['TRVLCMIN'] != 0)]\n",
    "\n",
    "# Drop rows where one value is 8 times greater than the other in the same row\n",
    "df_travel = df_travel[~((df_travel['TRPMILES'] >= 8 * df_travel['TRVLCMIN']) | (df_travel['TRVLCMIN'] >= 8 * df_travel['TRPMILES']))]\n",
    "\n",
    "print(\"Updated DataFrame:\")\n",
    "print(df_travel)\n"
   ]
  },
  {
   "cell_type": "code",
   "execution_count": 30,
   "id": "ae31b155",
   "metadata": {},
   "outputs": [
    {
     "name": "stdout",
     "output_type": "stream",
     "text": [
      "0\n"
     ]
    }
   ],
   "source": [
    "count_of_zeros_miles = np.count_nonzero(df_travel.TRPMILES == 0)\n",
    "print(count_of_zeros_miles)"
   ]
  },
  {
   "cell_type": "code",
   "execution_count": 31,
   "id": "a3a2a729",
   "metadata": {},
   "outputs": [
    {
     "name": "stdout",
     "output_type": "stream",
     "text": [
      "0\n"
     ]
    }
   ],
   "source": [
    "count_of_zeros_mins = np.count_nonzero(df_travel.TRVLCMIN == 0)\n",
    "print(count_of_zeros_mins)"
   ]
  },
  {
   "cell_type": "code",
   "execution_count": 27,
   "id": "43ff5c4d",
   "metadata": {},
   "outputs": [
    {
     "data": {
      "text/plain": [
       "<matplotlib.collections.PathCollection at 0x1f301cec810>"
      ]
     },
     "execution_count": 27,
     "metadata": {},
     "output_type": "execute_result"
    },
    {
     "data": {
      "image/png": "[encoded data removed]",
      "text/plain": [
       "<Figure size 640x480 with 1 Axes>"
      ]
     },
     "metadata": {},
     "output_type": "display_data"
    }
   ],
   "source": [
    "# As seen below this data looks much more reasonable\n",
    "plt.xlabel('TRVLCMIN')\n",
    "plt.ylabel('TRPMILES')\n",
    "plt.scatter(df_travel.TRVLCMIN, df_travel.TRPMILES, color='green')"
   ]
  },
  {
   "cell_type": "code",
   "execution_count": 28,
   "id": "ef475337",
   "metadata": {},
   "outputs": [
    {
     "data": {
      "text/html": [
       "<div>\n",
       "<style scoped>\n",
       "    .dataframe tbody tr th:only-of-type {\n",
       "        vertical-align: middle;\n",
       "    }\n",
       "\n",
       "    .dataframe tbody tr th {\n",
       "        vertical-align: top;\n",
       "    }\n",
       "\n",
       "    .dataframe thead th {\n",
       "        text-align: right;\n",
       "    }\n",
       "</style>\n",
       "<table border=\"1\" class=\"dataframe\">\n",
       "  <thead>\n",
       "    <tr style=\"text-align: right;\">\n",
       "      <th></th>\n",
       "      <th>TRVLCMIN</th>\n",
       "      <th>TRPMILES</th>\n",
       "    </tr>\n",
       "  </thead>\n",
       "  <tbody>\n",
       "    <tr>\n",
       "      <th>count</th>\n",
       "      <td>737646.000000</td>\n",
       "      <td>737646.000000</td>\n",
       "    </tr>\n",
       "    <tr>\n",
       "      <th>mean</th>\n",
       "      <td>22.405099</td>\n",
       "      <td>12.677658</td>\n",
       "    </tr>\n",
       "    <tr>\n",
       "      <th>std</th>\n",
       "      <td>32.473744</td>\n",
       "      <td>54.363180</td>\n",
       "    </tr>\n",
       "    <tr>\n",
       "      <th>min</th>\n",
       "      <td>1.000000</td>\n",
       "      <td>0.126000</td>\n",
       "    </tr>\n",
       "    <tr>\n",
       "      <th>25%</th>\n",
       "      <td>10.000000</td>\n",
       "      <td>2.276000</td>\n",
       "    </tr>\n",
       "    <tr>\n",
       "      <th>50%</th>\n",
       "      <td>15.000000</td>\n",
       "      <td>4.774000</td>\n",
       "    </tr>\n",
       "    <tr>\n",
       "      <th>75%</th>\n",
       "      <td>25.000000</td>\n",
       "      <td>10.839000</td>\n",
       "    </tr>\n",
       "    <tr>\n",
       "      <th>max</th>\n",
       "      <td>1140.000000</td>\n",
       "      <td>5315.834000</td>\n",
       "    </tr>\n",
       "  </tbody>\n",
       "</table>\n",
       "</div>"
      ],
      "text/plain": [
       "            TRVLCMIN       TRPMILES\n",
       "count  737646.000000  737646.000000\n",
       "mean       22.405099      12.677658\n",
       "std        32.473744      54.363180\n",
       "min         1.000000       0.126000\n",
       "25%        10.000000       2.276000\n",
       "50%        15.000000       4.774000\n",
       "75%        25.000000      10.839000\n",
       "max      1140.000000    5315.834000"
      ]
     },
     "execution_count": 28,
     "metadata": {},
     "output_type": "execute_result"
    }
   ],
   "source": [
    "df_travel.describe()"
   ]
  },
  {
   "cell_type": "markdown",
   "id": "5acae722",
   "metadata": {},
   "source": [
    "## Average miles per gallon (MPG) for modern cars"
   ]
  },
  {
   "cell_type": "code",
   "execution_count": 232,
   "id": "982e1a00",
   "metadata": {},
   "outputs": [],
   "source": [
    "#And now we can (roughly) tell that the average travel time is 22,4 minutes\n",
    "# And average travel distance is 12,7 miles"
   ]
  },
  {
   "cell_type": "code",
   "execution_count": 47,
   "id": "98e8b75c",
   "metadata": {},
   "outputs": [],
   "source": [
    "#pip install Pillow\n",
    "from PIL import Image\n"
   ]
  },
  {
   "cell_type": "code",
   "execution_count": 49,
   "id": "e3403e5e",
   "metadata": {},
   "outputs": [],
   "source": [
    "#On the following image we can tell the average MPG (miles pr gallon) is 20-30 in 2021\n",
    "#Considering evolution in the field of car production, it's not unreasonable to set mpg to 30 in 2023 and a few years going forward\n",
    "image = Image.open('../../../Documents/GitHub/BI-Fall-2023-Exam-Project/Data/MPG_avg_us_2021.png')\n",
    "image.show()"
   ]
  },
  {
   "cell_type": "markdown",
   "id": "184bc20b",
   "metadata": {},
   "source": [
    "## Historical data of price in dollars per gallon in US"
   ]
  },
  {
   "cell_type": "code",
   "execution_count": 50,
   "id": "0b1b2902",
   "metadata": {},
   "outputs": [
    {
     "data": {
      "text/html": [
       "<div>\n",
       "<style scoped>\n",
       "    .dataframe tbody tr th:only-of-type {\n",
       "        vertical-align: middle;\n",
       "    }\n",
       "\n",
       "    .dataframe tbody tr th {\n",
       "        vertical-align: top;\n",
       "    }\n",
       "\n",
       "    .dataframe thead th {\n",
       "        text-align: right;\n",
       "    }\n",
       "</style>\n",
       "<table border=\"1\" class=\"dataframe\">\n",
       "  <thead>\n",
       "    <tr style=\"text-align: right;\">\n",
       "      <th></th>\n",
       "      <th>Year</th>\n",
       "      <th>Dollarprice</th>\n",
       "    </tr>\n",
       "  </thead>\n",
       "  <tbody>\n",
       "    <tr>\n",
       "      <th>count</th>\n",
       "      <td>33.00000</td>\n",
       "      <td>33.000000</td>\n",
       "    </tr>\n",
       "    <tr>\n",
       "      <th>mean</th>\n",
       "      <td>2006.00000</td>\n",
       "      <td>2.134848</td>\n",
       "    </tr>\n",
       "    <tr>\n",
       "      <th>std</th>\n",
       "      <td>9.66954</td>\n",
       "      <td>0.914191</td>\n",
       "    </tr>\n",
       "    <tr>\n",
       "      <th>min</th>\n",
       "      <td>1990.00000</td>\n",
       "      <td>1.030000</td>\n",
       "    </tr>\n",
       "    <tr>\n",
       "      <th>25%</th>\n",
       "      <td>1998.00000</td>\n",
       "      <td>1.200000</td>\n",
       "    </tr>\n",
       "    <tr>\n",
       "      <th>50%</th>\n",
       "      <td>2006.00000</td>\n",
       "      <td>2.170000</td>\n",
       "    </tr>\n",
       "    <tr>\n",
       "      <th>75%</th>\n",
       "      <td>2014.00000</td>\n",
       "      <td>2.780000</td>\n",
       "    </tr>\n",
       "    <tr>\n",
       "      <th>max</th>\n",
       "      <td>2022.00000</td>\n",
       "      <td>3.950000</td>\n",
       "    </tr>\n",
       "  </tbody>\n",
       "</table>\n",
       "</div>"
      ],
      "text/plain": [
       "             Year  Dollarprice\n",
       "count    33.00000    33.000000\n",
       "mean   2006.00000     2.134848\n",
       "std       9.66954     0.914191\n",
       "min    1990.00000     1.030000\n",
       "25%    1998.00000     1.200000\n",
       "50%    2006.00000     2.170000\n",
       "75%    2014.00000     2.780000\n",
       "max    2022.00000     3.950000"
      ]
     },
     "execution_count": 50,
     "metadata": {},
     "output_type": "execute_result"
    }
   ],
   "source": [
    "df_gas = pd.read_excel('../../../Documents/GitHub/BI-Fall-2023-Exam-Project/Data/statistic_id204740_annual-gas-prices-in-the-united-states-1990-2022.xlsx', sheet_name='Data')\n",
    "df_gas.describe()"
   ]
  },
  {
   "cell_type": "code",
   "execution_count": 51,
   "id": "7fdd93b2",
   "metadata": {},
   "outputs": [
    {
     "name": "stdout",
     "output_type": "stream",
     "text": [
      "<class 'pandas.core.frame.DataFrame'>\n",
      "RangeIndex: 33 entries, 0 to 32\n",
      "Data columns (total 2 columns):\n",
      " #   Column       Non-Null Count  Dtype  \n",
      "---  ------       --------------  -----  \n",
      " 0   Year         33 non-null     int64  \n",
      " 1   Dollarprice  33 non-null     float64\n",
      "dtypes: float64(1), int64(1)\n",
      "memory usage: 660.0 bytes\n"
     ]
    }
   ],
   "source": [
    "df_gas.info()"
   ]
  },
  {
   "cell_type": "code",
   "execution_count": 52,
   "id": "f4a9c62e",
   "metadata": {
    "scrolled": true
   },
   "outputs": [
    {
     "data": {
      "image/png": "[encoded data removed]",
      "text/plain": [
       "<Figure size 640x480 with 1 Axes>"
      ]
     },
     "metadata": {},
     "output_type": "display_data"
    }
   ],
   "source": [
    "plt.xlabel('year')\n",
    "plt.ylabel('gasprice/galon')\n",
    "plt.scatter(df_gas.Year, df_gas.Dollarprice, color='red')\n",
    "plt.title('US Inflation Rate Over Time (Every 12th year)')\n",
    "plt.xticks(rotation=45)\n",
    "plt.gca().xaxis.set_major_locator(plt.MaxNLocator(integer=True))\n",
    "plt.plot(df_gas.Year, df_gas.Dollarprice, color='blue', linestyle='-', marker='o', markersize=5)\n",
    "\n",
    "plt.show()\n"
   ]
  },
  {
   "cell_type": "code",
   "execution_count": 53,
   "id": "d5498848",
   "metadata": {},
   "outputs": [],
   "source": [
    "X = df_gas.iloc[:, 0:1].values\n",
    "y = df_gas.iloc[:, 1].values"
   ]
  },
  {
   "cell_type": "code",
   "execution_count": 54,
   "id": "b4d246f6",
   "metadata": {},
   "outputs": [],
   "source": [
    "X_train, X_test, y_train, y_test = train_test_split(X, y, test_size=0.2, random_state=0)"
   ]
  },
  {
   "cell_type": "code",
   "execution_count": 55,
   "id": "801724df",
   "metadata": {},
   "outputs": [],
   "source": [
    "#Starting with linear regression"
   ]
  },
  {
   "cell_type": "code",
   "execution_count": 56,
   "id": "6f398cb4",
   "metadata": {},
   "outputs": [
    {
     "data": {
      "text/html": [
       "<style>#sk-container-id-4 {color: black;}#sk-container-id-4 pre{padding: 0;}#sk-container-id-4 div.sk-toggleable {background-color: white;}#sk-container-id-4 label.sk-toggleable__label {cursor: pointer;display: block;width: 100%;margin-bottom: 0;padding: 0.3em;box-sizing: border-box;text-align: center;}#sk-container-id-4 label.sk-toggleable__label-arrow:before {content: \"▸\";float: left;margin-right: 0.25em;color: #696969;}#sk-container-id-4 label.sk-toggleable__label-arrow:hover:before {color: black;}#sk-container-id-4 div.sk-estimator:hover label.sk-toggleable__label-arrow:before {color: black;}#sk-container-id-4 div.sk-toggleable__content {max-height: 0;max-width: 0;overflow: hidden;text-align: left;background-color: #f0f8ff;}#sk-container-id-4 div.sk-toggleable__content pre {margin: 0.2em;color: black;border-radius: 0.25em;background-color: #f0f8ff;}#sk-container-id-4 input.sk-toggleable__control:checked~div.sk-toggleable__content {max-height: 200px;max-width: 100%;overflow: auto;}#sk-container-id-4 input.sk-toggleable__control:checked~label.sk-toggleable__label-arrow:before {content: \"▾\";}#sk-container-id-4 div.sk-estimator input.sk-toggleable__control:checked~label.sk-toggleable__label {background-color: #d4ebff;}#sk-container-id-4 div.sk-label input.sk-toggleable__control:checked~label.sk-toggleable__label {background-color: #d4ebff;}#sk-container-id-4 input.sk-hidden--visually {border: 0;clip: rect(1px 1px 1px 1px);clip: rect(1px, 1px, 1px, 1px);height: 1px;margin: -1px;overflow: hidden;padding: 0;position: absolute;width: 1px;}#sk-container-id-4 div.sk-estimator {font-family: monospace;background-color: #f0f8ff;border: 1px dotted black;border-radius: 0.25em;box-sizing: border-box;margin-bottom: 0.5em;}#sk-container-id-4 div.sk-estimator:hover {background-color: #d4ebff;}#sk-container-id-4 div.sk-parallel-item::after {content: \"\";width: 100%;border-bottom: 1px solid gray;flex-grow: 1;}#sk-container-id-4 div.sk-label:hover label.sk-toggleable__label {background-color: #d4ebff;}#sk-container-id-4 div.sk-serial::before {content: \"\";position: absolute;border-left: 1px solid gray;box-sizing: border-box;top: 0;bottom: 0;left: 50%;z-index: 0;}#sk-container-id-4 div.sk-serial {display: flex;flex-direction: column;align-items: center;background-color: white;padding-right: 0.2em;padding-left: 0.2em;position: relative;}#sk-container-id-4 div.sk-item {position: relative;z-index: 1;}#sk-container-id-4 div.sk-parallel {display: flex;align-items: stretch;justify-content: center;background-color: white;position: relative;}#sk-container-id-4 div.sk-item::before, #sk-container-id-4 div.sk-parallel-item::before {content: \"\";position: absolute;border-left: 1px solid gray;box-sizing: border-box;top: 0;bottom: 0;left: 50%;z-index: -1;}#sk-container-id-4 div.sk-parallel-item {display: flex;flex-direction: column;z-index: 1;position: relative;background-color: white;}#sk-container-id-4 div.sk-parallel-item:first-child::after {align-self: flex-end;width: 50%;}#sk-container-id-4 div.sk-parallel-item:last-child::after {align-self: flex-start;width: 50%;}#sk-container-id-4 div.sk-parallel-item:only-child::after {width: 0;}#sk-container-id-4 div.sk-dashed-wrapped {border: 1px dashed gray;margin: 0 0.4em 0.5em 0.4em;box-sizing: border-box;padding-bottom: 0.4em;background-color: white;}#sk-container-id-4 div.sk-label label {font-family: monospace;font-weight: bold;display: inline-block;line-height: 1.2em;}#sk-container-id-4 div.sk-label-container {text-align: center;}#sk-container-id-4 div.sk-container {/* jupyter's `normalize.less` sets `[hidden] { display: none; }` but bootstrap.min.css set `[hidden] { display: none !important; }` so we also need the `!important` here to be able to override the default hidden behavior on the sphinx rendered scikit-learn.org. See: https://github.com/scikit-learn/scikit-learn/issues/21755 */display: inline-block !important;position: relative;}#sk-container-id-4 div.sk-text-repr-fallback {display: none;}</style><div id=\"sk-container-id-4\" class=\"sk-top-container\"><div class=\"sk-text-repr-fallback\"><pre>LinearRegression()</pre><b>In a Jupyter environment, please rerun this cell to show the HTML representation or trust the notebook. <br />On GitHub, the HTML representation is unable to render, please try loading this page with nbviewer.org.</b></div><div class=\"sk-container\" hidden><div class=\"sk-item\"><div class=\"sk-estimator sk-toggleable\"><input class=\"sk-toggleable__control sk-hidden--visually\" id=\"sk-estimator-id-4\" type=\"checkbox\" checked><label for=\"sk-estimator-id-4\" class=\"sk-toggleable__label sk-toggleable__label-arrow\">LinearRegression</label><div class=\"sk-toggleable__content\"><pre>LinearRegression()</pre></div></div></div></div></div>"
      ],
      "text/plain": [
       "LinearRegression()"
      ]
     },
     "execution_count": 56,
     "metadata": {},
     "output_type": "execute_result"
    }
   ],
   "source": [
    "myreg_gas = LinearRegression()\n",
    "\n",
    "myreg_gas.fit(X_train, y_train)\n",
    "myreg_gas"
   ]
  },
  {
   "cell_type": "code",
   "execution_count": 57,
   "id": "46e55637",
   "metadata": {},
   "outputs": [],
   "source": [
    "a = myreg_gas.coef_\n",
    "b = myreg_gas.intercept_"
   ]
  },
  {
   "cell_type": "code",
   "execution_count": 60,
   "id": "d24fd7aa",
   "metadata": {},
   "outputs": [
    {
     "data": {
      "text/plain": [
       "array([1.74080719, 2.44611588, 2.75958641, 2.21101299, 1.0354985 ,\n",
       "       2.83795405, 2.91632168])"
      ]
     },
     "execution_count": 60,
     "metadata": {},
     "output_type": "execute_result"
    }
   ],
   "source": [
    "ygas_predicted = myreg_gas.predict(X_test)\n",
    "ygas_predicted"
   ]
  },
  {
   "cell_type": "code",
   "execution_count": 61,
   "id": "5d61e74c",
   "metadata": {},
   "outputs": [
    {
     "data": {
      "text/plain": [
       "0.6644238139764997"
      ]
     },
     "execution_count": 61,
     "metadata": {},
     "output_type": "execute_result"
    }
   ],
   "source": [
    "R2 = myreg_gas.score(X, y)\n",
    "R2\n",
    "#Not too high of a score"
   ]
  },
  {
   "cell_type": "code",
   "execution_count": 62,
   "id": "74ad9a70",
   "metadata": {},
   "outputs": [
    {
     "data": {
      "text/html": [
       "<style>#sk-container-id-5 {color: black;}#sk-container-id-5 pre{padding: 0;}#sk-container-id-5 div.sk-toggleable {background-color: white;}#sk-container-id-5 label.sk-toggleable__label {cursor: pointer;display: block;width: 100%;margin-bottom: 0;padding: 0.3em;box-sizing: border-box;text-align: center;}#sk-container-id-5 label.sk-toggleable__label-arrow:before {content: \"▸\";float: left;margin-right: 0.25em;color: #696969;}#sk-container-id-5 label.sk-toggleable__label-arrow:hover:before {color: black;}#sk-container-id-5 div.sk-estimator:hover label.sk-toggleable__label-arrow:before {color: black;}#sk-container-id-5 div.sk-toggleable__content {max-height: 0;max-width: 0;overflow: hidden;text-align: left;background-color: #f0f8ff;}#sk-container-id-5 div.sk-toggleable__content pre {margin: 0.2em;color: black;border-radius: 0.25em;background-color: #f0f8ff;}#sk-container-id-5 input.sk-toggleable__control:checked~div.sk-toggleable__content {max-height: 200px;max-width: 100%;overflow: auto;}#sk-container-id-5 input.sk-toggleable__control:checked~label.sk-toggleable__label-arrow:before {content: \"▾\";}#sk-container-id-5 div.sk-estimator input.sk-toggleable__control:checked~label.sk-toggleable__label {background-color: #d4ebff;}#sk-container-id-5 div.sk-label input.sk-toggleable__control:checked~label.sk-toggleable__label {background-color: #d4ebff;}#sk-container-id-5 input.sk-hidden--visually {border: 0;clip: rect(1px 1px 1px 1px);clip: rect(1px, 1px, 1px, 1px);height: 1px;margin: -1px;overflow: hidden;padding: 0;position: absolute;width: 1px;}#sk-container-id-5 div.sk-estimator {font-family: monospace;background-color: #f0f8ff;border: 1px dotted black;border-radius: 0.25em;box-sizing: border-box;margin-bottom: 0.5em;}#sk-container-id-5 div.sk-estimator:hover {background-color: #d4ebff;}#sk-container-id-5 div.sk-parallel-item::after {content: \"\";width: 100%;border-bottom: 1px solid gray;flex-grow: 1;}#sk-container-id-5 div.sk-label:hover label.sk-toggleable__label {background-color: #d4ebff;}#sk-container-id-5 div.sk-serial::before {content: \"\";position: absolute;border-left: 1px solid gray;box-sizing: border-box;top: 0;bottom: 0;left: 50%;z-index: 0;}#sk-container-id-5 div.sk-serial {display: flex;flex-direction: column;align-items: center;background-color: white;padding-right: 0.2em;padding-left: 0.2em;position: relative;}#sk-container-id-5 div.sk-item {position: relative;z-index: 1;}#sk-container-id-5 div.sk-parallel {display: flex;align-items: stretch;justify-content: center;background-color: white;position: relative;}#sk-container-id-5 div.sk-item::before, #sk-container-id-5 div.sk-parallel-item::before {content: \"\";position: absolute;border-left: 1px solid gray;box-sizing: border-box;top: 0;bottom: 0;left: 50%;z-index: -1;}#sk-container-id-5 div.sk-parallel-item {display: flex;flex-direction: column;z-index: 1;position: relative;background-color: white;}#sk-container-id-5 div.sk-parallel-item:first-child::after {align-self: flex-end;width: 50%;}#sk-container-id-5 div.sk-parallel-item:last-child::after {align-self: flex-start;width: 50%;}#sk-container-id-5 div.sk-parallel-item:only-child::after {width: 0;}#sk-container-id-5 div.sk-dashed-wrapped {border: 1px dashed gray;margin: 0 0.4em 0.5em 0.4em;box-sizing: border-box;padding-bottom: 0.4em;background-color: white;}#sk-container-id-5 div.sk-label label {font-family: monospace;font-weight: bold;display: inline-block;line-height: 1.2em;}#sk-container-id-5 div.sk-label-container {text-align: center;}#sk-container-id-5 div.sk-container {/* jupyter's `normalize.less` sets `[hidden] { display: none; }` but bootstrap.min.css set `[hidden] { display: none !important; }` so we also need the `!important` here to be able to override the default hidden behavior on the sphinx rendered scikit-learn.org. See: https://github.com/scikit-learn/scikit-learn/issues/21755 */display: inline-block !important;position: relative;}#sk-container-id-5 div.sk-text-repr-fallback {display: none;}</style><div id=\"sk-container-id-5\" class=\"sk-top-container\"><div class=\"sk-text-repr-fallback\"><pre>LinearRegression()</pre><b>In a Jupyter environment, please rerun this cell to show the HTML representation or trust the notebook. <br />On GitHub, the HTML representation is unable to render, please try loading this page with nbviewer.org.</b></div><div class=\"sk-container\" hidden><div class=\"sk-item\"><div class=\"sk-estimator sk-toggleable\"><input class=\"sk-toggleable__control sk-hidden--visually\" id=\"sk-estimator-id-5\" type=\"checkbox\" checked><label for=\"sk-estimator-id-5\" class=\"sk-toggleable__label sk-toggleable__label-arrow\">LinearRegression</label><div class=\"sk-toggleable__content\"><pre>LinearRegression()</pre></div></div></div></div></div>"
      ],
      "text/plain": [
       "LinearRegression()"
      ]
     },
     "execution_count": 62,
     "metadata": {},
     "output_type": "execute_result"
    }
   ],
   "source": [
    "lin_reg = LinearRegression()\n",
    "lin_reg.fit(X, y)"
   ]
  },
  {
   "cell_type": "code",
   "execution_count": 63,
   "id": "b54132d6",
   "metadata": {},
   "outputs": [
    {
     "data": {
      "image/png": "[encoded data removed]",
      "text/plain": [
       "<Figure size 640x480 with 1 Axes>"
      ]
     },
     "metadata": {},
     "output_type": "display_data"
    }
   ],
   "source": [
    "def viz_linear():\n",
    "    plt.scatter(X, y, color='red')\n",
    "    plt.plot(X, lin_reg.predict(X), color='blue')\n",
    "    plt.title('Linear Regression')\n",
    "    plt.xlabel('Year')\n",
    "    plt.ylabel('Price')\n",
    "    plt.show()\n",
    "    return\n",
    "viz_linear()"
   ]
  },
  {
   "cell_type": "code",
   "execution_count": 64,
   "id": "9290e527",
   "metadata": {},
   "outputs": [],
   "source": [
    "#now poly reg"
   ]
  },
  {
   "cell_type": "code",
   "execution_count": 65,
   "id": "94d6b3f0",
   "metadata": {},
   "outputs": [
    {
     "data": {
      "text/html": [
       "<style>#sk-container-id-6 {color: black;}#sk-container-id-6 pre{padding: 0;}#sk-container-id-6 div.sk-toggleable {background-color: white;}#sk-container-id-6 label.sk-toggleable__label {cursor: pointer;display: block;width: 100%;margin-bottom: 0;padding: 0.3em;box-sizing: border-box;text-align: center;}#sk-container-id-6 label.sk-toggleable__label-arrow:before {content: \"▸\";float: left;margin-right: 0.25em;color: #696969;}#sk-container-id-6 label.sk-toggleable__label-arrow:hover:before {color: black;}#sk-container-id-6 div.sk-estimator:hover label.sk-toggleable__label-arrow:before {color: black;}#sk-container-id-6 div.sk-toggleable__content {max-height: 0;max-width: 0;overflow: hidden;text-align: left;background-color: #f0f8ff;}#sk-container-id-6 div.sk-toggleable__content pre {margin: 0.2em;color: black;border-radius: 0.25em;background-color: #f0f8ff;}#sk-container-id-6 input.sk-toggleable__control:checked~div.sk-toggleable__content {max-height: 200px;max-width: 100%;overflow: auto;}#sk-container-id-6 input.sk-toggleable__control:checked~label.sk-toggleable__label-arrow:before {content: \"▾\";}#sk-container-id-6 div.sk-estimator input.sk-toggleable__control:checked~label.sk-toggleable__label {background-color: #d4ebff;}#sk-container-id-6 div.sk-label input.sk-toggleable__control:checked~label.sk-toggleable__label {background-color: #d4ebff;}#sk-container-id-6 input.sk-hidden--visually {border: 0;clip: rect(1px 1px 1px 1px);clip: rect(1px, 1px, 1px, 1px);height: 1px;margin: -1px;overflow: hidden;padding: 0;position: absolute;width: 1px;}#sk-container-id-6 div.sk-estimator {font-family: monospace;background-color: #f0f8ff;border: 1px dotted black;border-radius: 0.25em;box-sizing: border-box;margin-bottom: 0.5em;}#sk-container-id-6 div.sk-estimator:hover {background-color: #d4ebff;}#sk-container-id-6 div.sk-parallel-item::after {content: \"\";width: 100%;border-bottom: 1px solid gray;flex-grow: 1;}#sk-container-id-6 div.sk-label:hover label.sk-toggleable__label {background-color: #d4ebff;}#sk-container-id-6 div.sk-serial::before {content: \"\";position: absolute;border-left: 1px solid gray;box-sizing: border-box;top: 0;bottom: 0;left: 50%;z-index: 0;}#sk-container-id-6 div.sk-serial {display: flex;flex-direction: column;align-items: center;background-color: white;padding-right: 0.2em;padding-left: 0.2em;position: relative;}#sk-container-id-6 div.sk-item {position: relative;z-index: 1;}#sk-container-id-6 div.sk-parallel {display: flex;align-items: stretch;justify-content: center;background-color: white;position: relative;}#sk-container-id-6 div.sk-item::before, #sk-container-id-6 div.sk-parallel-item::before {content: \"\";position: absolute;border-left: 1px solid gray;box-sizing: border-box;top: 0;bottom: 0;left: 50%;z-index: -1;}#sk-container-id-6 div.sk-parallel-item {display: flex;flex-direction: column;z-index: 1;position: relative;background-color: white;}#sk-container-id-6 div.sk-parallel-item:first-child::after {align-self: flex-end;width: 50%;}#sk-container-id-6 div.sk-parallel-item:last-child::after {align-self: flex-start;width: 50%;}#sk-container-id-6 div.sk-parallel-item:only-child::after {width: 0;}#sk-container-id-6 div.sk-dashed-wrapped {border: 1px dashed gray;margin: 0 0.4em 0.5em 0.4em;box-sizing: border-box;padding-bottom: 0.4em;background-color: white;}#sk-container-id-6 div.sk-label label {font-family: monospace;font-weight: bold;display: inline-block;line-height: 1.2em;}#sk-container-id-6 div.sk-label-container {text-align: center;}#sk-container-id-6 div.sk-container {/* jupyter's `normalize.less` sets `[hidden] { display: none; }` but bootstrap.min.css set `[hidden] { display: none !important; }` so we also need the `!important` here to be able to override the default hidden behavior on the sphinx rendered scikit-learn.org. See: https://github.com/scikit-learn/scikit-learn/issues/21755 */display: inline-block !important;position: relative;}#sk-container-id-6 div.sk-text-repr-fallback {display: none;}</style><div id=\"sk-container-id-6\" class=\"sk-top-container\"><div class=\"sk-text-repr-fallback\"><pre>LinearRegression()</pre><b>In a Jupyter environment, please rerun this cell to show the HTML representation or trust the notebook. <br />On GitHub, the HTML representation is unable to render, please try loading this page with nbviewer.org.</b></div><div class=\"sk-container\" hidden><div class=\"sk-item\"><div class=\"sk-estimator sk-toggleable\"><input class=\"sk-toggleable__control sk-hidden--visually\" id=\"sk-estimator-id-6\" type=\"checkbox\" checked><label for=\"sk-estimator-id-6\" class=\"sk-toggleable__label sk-toggleable__label-arrow\">LinearRegression</label><div class=\"sk-toggleable__content\"><pre>LinearRegression()</pre></div></div></div></div></div>"
      ],
      "text/plain": [
       "LinearRegression()"
      ]
     },
     "execution_count": 65,
     "metadata": {},
     "output_type": "execute_result"
    }
   ],
   "source": [
    "poly_model = PolynomialFeatures(degree=10)\n",
    "X_poly = poly_model.fit_transform(X)\n",
    "pol_reg = LinearRegression()\n",
    "pol_reg.fit(X_poly, y)"
   ]
  },
  {
   "cell_type": "code",
   "execution_count": 66,
   "id": "ac886870",
   "metadata": {},
   "outputs": [],
   "source": [
    "y_predict = pol_reg.predict(X_poly)"
   ]
  },
  {
   "cell_type": "code",
   "execution_count": 67,
   "id": "3c978507",
   "metadata": {},
   "outputs": [],
   "source": [
    "# Visualizing the Polymonial Regression results\n",
    "def viz_polymonial():\n",
    "    plt.scatter(X, y, color='red')\n",
    "    plt.plot(X, y_predict , color='blue')\n",
    "    plt.title('Polynomia Regression)')\n",
    "    plt.xlabel('Year')\n",
    "    plt.ylabel('Price')\n",
    "    plt.show()\n",
    "    return"
   ]
  },
  {
   "cell_type": "code",
   "execution_count": 68,
   "id": "cd62b2b0",
   "metadata": {},
   "outputs": [
    {
     "data": {
      "image/png": "[encoded data removed]",
      "text/plain": [
       "<Figure size 640x480 with 1 Axes>"
      ]
     },
     "metadata": {},
     "output_type": "display_data"
    }
   ],
   "source": [
    "viz_polymonial()"
   ]
  },
  {
   "cell_type": "code",
   "execution_count": 69,
   "id": "0c62aa46",
   "metadata": {},
   "outputs": [],
   "source": [
    "def viz_polymonial_smooth():\n",
    "    X_grid = np.arange(min(X), max(X), 0.1)\n",
    "    X_grid = X_grid.reshape(len(X_grid), 1) #Why do we need to reshape? (https://www.tutorialspoint.com/numpy/numpy_reshape.htm)\n",
    "    # Visualizing the Polymonial Regression results\n",
    "    plt.scatter(X, y, color='red')\n",
    "    plt.plot(X_grid, pol_reg.predict(poly_model.fit_transform(X_grid)), color='blue')\n",
    "    plt.title('Polynomial Regression')\n",
    "    plt.xlabel('Year')\n",
    "    plt.ylabel('Price')\n",
    "    plt.show()\n",
    "    return\n"
   ]
  },
  {
   "cell_type": "code",
   "execution_count": 70,
   "id": "f04faeec",
   "metadata": {},
   "outputs": [
    {
     "data": {
      "image/png": "[encoded data removed]",
      "text/plain": [
       "<Figure size 640x480 with 1 Axes>"
      ]
     },
     "metadata": {},
     "output_type": "display_data"
    }
   ],
   "source": [
    "viz_polymonial_smooth()"
   ]
  },
  {
   "cell_type": "code",
   "execution_count": 71,
   "id": "dbe4ff01",
   "metadata": {},
   "outputs": [
    {
     "name": "stdout",
     "output_type": "stream",
     "text": [
      "R-squared (R^2) score for Polynomial Regression: 0.7339647876\n"
     ]
    }
   ],
   "source": [
    "# r2 score look much better\n",
    "r2_score_poly = r2_score(y, y_predict)\n",
    "print(f'R-squared (R^2) score for Polynomial Regression: {r2_score_poly:.10f}')"
   ]
  },
  {
   "cell_type": "code",
   "execution_count": 72,
   "id": "b3e7e50e",
   "metadata": {},
   "outputs": [
    {
     "data": {
      "text/plain": [
       "array([4.13881239])"
      ]
     },
     "execution_count": 72,
     "metadata": {},
     "output_type": "execute_result"
    }
   ],
   "source": [
    "lin_reg.predict([[2032]])"
   ]
  },
  {
   "cell_type": "code",
   "execution_count": 73,
   "id": "d687e63a",
   "metadata": {},
   "outputs": [
    {
     "data": {
      "text/plain": [
       "array([-1.02784483])"
      ]
     },
     "execution_count": 73,
     "metadata": {},
     "output_type": "execute_result"
    }
   ],
   "source": [
    "pol_reg.predict(poly_model.fit_transform([[2032]]))"
   ]
  },
  {
   "cell_type": "code",
   "execution_count": 74,
   "id": "ee7c825b",
   "metadata": {},
   "outputs": [],
   "source": [
    "#Start ish data"
   ]
  },
  {
   "cell_type": "code",
   "execution_count": 75,
   "id": "0b710381",
   "metadata": {},
   "outputs": [
    {
     "data": {
      "text/plain": [
       "array([1.2870176])"
      ]
     },
     "execution_count": 75,
     "metadata": {},
     "output_type": "execute_result"
    }
   ],
   "source": [
    "lin_reg.predict([[1995]])"
   ]
  },
  {
   "cell_type": "code",
   "execution_count": 76,
   "id": "5711c106",
   "metadata": {},
   "outputs": [
    {
     "data": {
      "text/plain": [
       "array([1.10772233])"
      ]
     },
     "execution_count": 76,
     "metadata": {},
     "output_type": "execute_result"
    }
   ],
   "source": [
    "pol_reg.predict(poly_model.fit_transform([[1995]]))"
   ]
  },
  {
   "cell_type": "code",
   "execution_count": 77,
   "id": "3beb94c9",
   "metadata": {},
   "outputs": [],
   "source": [
    "#middle ish data"
   ]
  },
  {
   "cell_type": "code",
   "execution_count": 78,
   "id": "0e1533e1",
   "metadata": {},
   "outputs": [
    {
     "data": {
      "text/plain": [
       "array([2.00552891])"
      ]
     },
     "execution_count": 78,
     "metadata": {},
     "output_type": "execute_result"
    }
   ],
   "source": [
    "pol_reg.predict(poly_model.fit_transform([[2004]]))"
   ]
  },
  {
   "cell_type": "code",
   "execution_count": 79,
   "id": "cec801c1",
   "metadata": {},
   "outputs": [
    {
     "data": {
      "text/plain": [
       "array([1.98069742])"
      ]
     },
     "execution_count": 79,
     "metadata": {},
     "output_type": "execute_result"
    }
   ],
   "source": [
    "lin_reg.predict([[2004]])"
   ]
  },
  {
   "cell_type": "code",
   "execution_count": null,
   "id": "9d19e397",
   "metadata": {},
   "outputs": [],
   "source": [
    "#Even though poly reg showed better results vs linear reg, linear reg is the best fit for a real life scenario.\n",
    "#The reason for this, is shown below.\n",
    "#You should never get paid for taking a product, which would be the case if looking on forexample 2032 prediction for polyreg\n",
    "#Being realistic, linear regression is going to be the best suited regression"
   ]
  },
  {
   "cell_type": "markdown",
   "id": "dbaf88b8",
   "metadata": {},
   "source": [
    "## Putting it all together for average fuel price in dollars for communing"
   ]
  },
  {
   "cell_type": "code",
   "execution_count": null,
   "id": "0210629a",
   "metadata": {},
   "outputs": [],
   "source": [
    "#Now we can make an estimate of the price for fuel the average US citizen would have to pay for commuting with their own vehicle\n",
    "#We set the average commuting distance to be 12,68 miles each day (mean of commuting data)\n",
    "#MPG set to 30\n",
    "#Price we can predict (roughly)\n"
   ]
  },
  {
   "cell_type": "code",
   "execution_count": 88,
   "id": "4c8d28f4",
   "metadata": {},
   "outputs": [],
   "source": [
    "def calc_daily_commuting_price(year):\n",
    "    prediction=lin_reg.predict([[year]]) \n",
    "    prediction_value=prediction[0]\n",
    "    MPG=30.0\n",
    "    distance=12.68\n",
    "    gallons_pr_day=distance/MPG\n",
    "    daily_dollarprice_commuting_avg=gallons_pr_day*prediction_value\n",
    "    return daily_dollarprice_commuting_avg"
   ]
  },
  {
   "cell_type": "code",
   "execution_count": 90,
   "id": "7264d18d",
   "metadata": {},
   "outputs": [],
   "source": [
    "def calc_monthly_commuting_price(year):\n",
    "    prediction=lin_reg.predict([[year]]) \n",
    "    prediction_value=prediction[0]\n",
    "    MPG=30.0\n",
    "    distance=12.68\n",
    "    gallons_pr_day=distance/MPG\n",
    "    daily_dollarprice_commuting_avg=gallons_pr_day*prediction_value*30.436875\n",
    "    return daily_dollarprice_commuting_avg"
   ]
  },
  {
   "cell_type": "code",
   "execution_count": 93,
   "id": "703f1311",
   "metadata": {},
   "outputs": [],
   "source": [
    "def calc_yearly_commuting_price(year):\n",
    "    prediction=lin_reg.predict([[year]]) \n",
    "    prediction_value=prediction[0]\n",
    "    MPG=30.0\n",
    "    distance=12.68\n",
    "    gallons_pr_day=distance/MPG\n",
    "    daily_dollarprice_commuting_avg=gallons_pr_day*prediction_value*365.25\n",
    "    return daily_dollarprice_commuting_avg"
   ]
  },
  {
   "cell_type": "code",
   "execution_count": 100,
   "id": "695006e0",
   "metadata": {},
   "outputs": [
    {
     "data": {
      "text/plain": [
       "1.456142702020205"
      ]
     },
     "execution_count": 100,
     "metadata": {},
     "output_type": "execute_result"
    }
   ],
   "source": [
    "calc_daily_commuting_price(2023)"
   ]
  },
  {
   "cell_type": "code",
   "execution_count": 101,
   "id": "3cd11f1d",
   "metadata": {},
   "outputs": [
    {
     "data": {
      "text/plain": [
       "44.32043340355123"
      ]
     },
     "execution_count": 101,
     "metadata": {},
     "output_type": "execute_result"
    }
   ],
   "source": [
    "calc_monthly_commuting_price(2023)"
   ]
  },
  {
   "cell_type": "code",
   "execution_count": 102,
   "id": "92373894",
   "metadata": {},
   "outputs": [
    {
     "data": {
      "text/plain": [
       "531.8561219128799"
      ]
     },
     "execution_count": 102,
     "metadata": {},
     "output_type": "execute_result"
    }
   ],
   "source": [
    "calc_yearly_commuting_price(2023)"
   ]
  },
  {
   "cell_type": "markdown",
   "id": "7e72bf9c",
   "metadata": {},
   "source": [
    "## Stage 3: Solution Prototype\n",
    "### Objective: Using data and analysis for building predictive models\n",
    "Extend the data analysis by implementing machine learning and deep learning methods and algorithms.\n",
    "1. Select relevant methods that could solve the problem. Train, test and validate data models by use of\n",
    "supervised and unsupervised methods, neural networks or graphs.\n",
    "2. Select and apply appropriate measures for assessing the quality of your models. Iterate the process to\n",
    "explore possibilities for improvement the quality of the models.\n",
    "\n",
    "Publish the new version of your solution in Github as a prototype."
   ]
  },
  {
   "cell_type": "markdown",
   "id": "83d8d0e5",
   "metadata": {},
   "source": [
    "## Stage 4: Visualisation, Explanation and Usability Evaluation\n",
    "### Objective: Present the process and the results of the analysis in human-understandable form\n",
    "Extend your solution with visualisation, explanation and interpretation of the results:\n",
    "1. Design and develop visual representation of the data, the analysis process, the applied methods and usage\n",
    "scenarios. Consider the use of animation, 3D or VR visualisation, as appropriate.\n",
    "2. Create a simple visual interface of the application to make it accessible and interactive for other users.\n",
    "3. Present the visualised prototype to potential users for usability evaluation. Take notes and implement the\n",
    "relevant feedback outcomes. Elaborate on the benefits of applying visualisation and explanation\n",
    "techniques for data analytics.\n",
    "\n",
    "Revise, complete, and deliver the final solution to Github and a link to it in Wiseflow."
   ]
  },
  {
   "cell_type": "code",
   "execution_count": null,
   "id": "287480ff",
   "metadata": {},
   "outputs": [],
   "source": []
  }
 ],
 "metadata": {
  "kernelspec": {
   "display_name": "Python 3 (ipykernel)",
   "language": "python",
   "name": "python3"
  },
  "language_info": {
   "codemirror_mode": {
    "name": "ipython",
    "version": 3
   },
   "file_extension": ".py",
   "mimetype": "text/x-python",
   "name": "python",
   "nbconvert_exporter": "python",
   "pygments_lexer": "ipython3",
   "version": "3.11.4"
  }
 },
 "nbformat": 4,
 "nbformat_minor": 5
}
