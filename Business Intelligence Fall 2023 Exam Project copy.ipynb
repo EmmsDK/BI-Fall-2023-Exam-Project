{
 "cells": [
  {
   "cell_type": "markdown",
   "id": "db79ea46",
   "metadata": {},
   "source": [
    "# Business Intelligence Fall 2023 Exam Project\n",
    "\n",
    "This project is designed as experimental research and development of BI implementation solution. It involves systematic and creative work of finding novel, uncertain, and reproducible results by applying modern BI and artificial intelligence (AI) technologies in a context. \n",
    "\n",
    "The development workflow goes through four stages and milestones, each of which has an objective, tasks,\n",
    "and deliverables."
   ]
  },
  {
   "cell_type": "markdown",
   "id": "925374a6",
   "metadata": {},
   "source": [
    "## Stage 1: Problem Definition\n",
    "### Objective: Foundation of a business case and problem statement\n",
    "\n",
    "https://www.kaggle.com/datasets/arnabchaki/data-science-salaries-2023/data\n",
    "\n",
    "1. At this stage you brainstorm, browse sources of inspiration and information, collect ideas and discuss business or social domains, where BI and AI can bring a value.\n",
    "2. Choose one of your ideas and define context, purpose, research questions, and hypotheses for a BI problem statement. Write a brief annotation of your project, in about four sentences, explaining:\n",
    "     - which challenge you would like to address?\n",
    "     - why is it important or interesting research goal?\n",
    "     - what is the expected solution your project would provide?\n",
    "     - what would be the impact of the solution and which category of users could benefit from it?\n",
    "3. Prepare the development environment\n",
    "     - give a title to your project\n",
    "     - plan and organise the execution of the individual tasks in terms of time, milestones, deliverables, team members engagement\n",
    "     - prepare the development platform and procedures – Github repository, IDE, software tools\n",
    "4. Create and upload the initial project document with the information from above in a .md file in your repository as an initial release of the project. "
   ]
  },
  {
   "cell_type": "markdown",
   "id": "a764e200",
   "metadata": {},
   "source": [
    "## Stage 2: Data Preparation\n"
   ]
  },
  {
   "cell_type": "code",
   "execution_count": 11,
   "id": "90284c77",
   "metadata": {},
   "outputs": [],
   "source": [
    "import numpy as np\n",
    "import pandas as pd\n",
    "import matplotlib.pyplot as plt\n",
    "\n",
    "from sklearn.model_selection import train_test_split\n",
    "from sklearn import linear_model\n",
    "from sklearn.linear_model import LinearRegression\n",
    "import sklearn.metrics as sm\n",
    "import seaborn as sns"
   ]
  },
  {
   "cell_type": "markdown",
   "id": "1ed95203",
   "metadata": {},
   "source": [
    "### Objective: Data collection, exploration and pre-processing\n",
    "Based on the ideas and assumptions defined at the previous stage:\n",
    "1. Collect and load relevant data from various sources\n",
    "2. Clean and integrate the collected data in appropriate data structures. Apply any transformations needed for the integration and the operations - ETL (Extract Transform Load) or ELT (Extract Load Transform).\n",
    "3. Explore the data by applying measures from statistics to discover its basic features. Create charts and diagrams to visualize the features for better understanding and support of further decisions.\n",
    "4. Apply the necessary pre-processing to prepare the data for machine learning analysis, ensuring that the data is:\n",
    "    - Meaningful – describes relevant and correctly measured features and observations.\n",
    "    - Sufficient – describes various cases and feature occurrences, decided by testing.\n",
    "    - Shaped – presented in a structure, appropriate for processing by machine learning algorithms.\n",
    "    - Cleaned – repaired from missing values and outliners.\n",
    "    - Scaled – transform data distributions in comparable scales, when necessary.\n",
    "    - Engineered – analyse all features and select the most informative for further processing.\n",
    "    \n",
    "Export your initial version of the solution to the Github repository."
   ]
  },
  {
   "cell_type": "code",
   "execution_count": 12,
   "id": "8d8a58f2",
   "metadata": {},
   "outputs": [],
   "source": [
    "#Dresen Links:\n",
    "#df_travel= pd.read_csv('../../../../OneDrive/Dokumenter/GitHub/github-bi/BI-Fall-2023-Exam-Project/Data/traveldistmin.csv')\n",
    "#df_infl= pd.read_csv('../../../../OneDrive/Dokumenter/GitHub/github-bi/BI-Fall-2023-Exam-Project/Data/US_inflation_rates.csv')\n",
    "#df_remoteWork = pd.read_excel('../../../../OneDrive/Dokumenter/GitHub/github-bi/BI-Fall-2023-Exam-Project/Data/statistic_id1356325_us-workers-working-hybrid-or-remote-vs-on-site-2019-q4-2022.xlsx', sheet_name='Data')\n",
    "#df_happiness = pd.read_excel('../../../../OneDrive/Dokumenter/GitHub/github-bi/BI-Fall-2023-Exam-Project/Data/statistic_id1111316_struggles-with-working-remotely-2020-2022.xlsx', sheet_name='Data')\n",
    "#df = pd.read_csv('../../../../OneDrive/Dokumenter/GitHub/github-bi/BI-Fall-2023-Exam-Project/Data/ds_salaries2.csv')"
   ]
  },
  {
   "cell_type": "code",
   "execution_count": 13,
   "id": "dac5fc0d",
   "metadata": {},
   "outputs": [],
   "source": [
    "#df_travel= pd.read_csv('../../../Documents/GitHub/BI-Fall-2023-Exam-Project/Data/traveldistmin.csv')\n",
    "#df_infl= pd.read_csv('../../../Documents/GitHub/BI-Fall-2023-Exam-Project/Data/US_inflation_rates.csv')\n",
    "#df_remoteWork = pd.read_excel('../../../Documents/GitHub/BI-Fall-2023-Exam-Project/Data/statistic_id1356325_us-workers-working-hybrid-or-remote-vs-on-site-2019-q4-2022.xlsx', sheet_name='Data')\n",
    "#df_happiness = pd.read_excel('../../../Documents/GitHub/BI-Fall-2023-Exam-Project/Data/statistic_id1111316_struggles-with-working-remotely-2020-2022.xlsx', sheet_name='Data')\n",
    "#df_sal = pd.read_csv('../../../Documents/GitHub/BI-Fall-2023-Exam-Project/Data/ds_salaries2.csv')"
   ]
  },
  {
   "cell_type": "code",
   "execution_count": 14,
   "id": "e09a19db",
   "metadata": {},
   "outputs": [
    {
     "data": {
      "text/html": [
       "<div>\n",
       "<style scoped>\n",
       "    .dataframe tbody tr th:only-of-type {\n",
       "        vertical-align: middle;\n",
       "    }\n",
       "\n",
       "    .dataframe tbody tr th {\n",
       "        vertical-align: top;\n",
       "    }\n",
       "\n",
       "    .dataframe thead th {\n",
       "        text-align: right;\n",
       "    }\n",
       "</style>\n",
       "<table border=\"1\" class=\"dataframe\">\n",
       "  <thead>\n",
       "    <tr style=\"text-align: right;\">\n",
       "      <th></th>\n",
       "      <th>date</th>\n",
       "      <th>value</th>\n",
       "    </tr>\n",
       "  </thead>\n",
       "  <tbody>\n",
       "    <tr>\n",
       "      <th>0</th>\n",
       "      <td>1947-01-01</td>\n",
       "      <td>21.48</td>\n",
       "    </tr>\n",
       "    <tr>\n",
       "      <th>1</th>\n",
       "      <td>1947-02-01</td>\n",
       "      <td>21.62</td>\n",
       "    </tr>\n",
       "    <tr>\n",
       "      <th>2</th>\n",
       "      <td>1947-03-01</td>\n",
       "      <td>22.00</td>\n",
       "    </tr>\n",
       "    <tr>\n",
       "      <th>3</th>\n",
       "      <td>1947-04-01</td>\n",
       "      <td>22.00</td>\n",
       "    </tr>\n",
       "    <tr>\n",
       "      <th>4</th>\n",
       "      <td>1947-05-01</td>\n",
       "      <td>21.95</td>\n",
       "    </tr>\n",
       "  </tbody>\n",
       "</table>\n",
       "</div>"
      ],
      "text/plain": [
       "         date  value\n",
       "0  1947-01-01  21.48\n",
       "1  1947-02-01  21.62\n",
       "2  1947-03-01  22.00\n",
       "3  1947-04-01  22.00\n",
       "4  1947-05-01  21.95"
      ]
     },
     "execution_count": 14,
     "metadata": {},
     "output_type": "execute_result"
    }
   ],
   "source": [
    "df_inflation= pd.read_csv('../../../Documents/GitHub/BI-Fall-2023-Exam-Project/Data/US_inflation_rates.csv')\n",
    "\n",
    "df_inflation.head()"
   ]
  },
  {
   "cell_type": "code",
   "execution_count": 15,
   "id": "6fe8e6f3",
   "metadata": {},
   "outputs": [
    {
     "data": {
      "text/plain": [
       "['date', 'value']"
      ]
     },
     "execution_count": 15,
     "metadata": {},
     "output_type": "execute_result"
    }
   ],
   "source": [
    "list(df_inflation)"
   ]
  },
  {
   "cell_type": "code",
   "execution_count": 16,
   "id": "648a8ca3",
   "metadata": {},
   "outputs": [
    {
     "data": {
      "text/html": [
       "<div>\n",
       "<style scoped>\n",
       "    .dataframe tbody tr th:only-of-type {\n",
       "        vertical-align: middle;\n",
       "    }\n",
       "\n",
       "    .dataframe tbody tr th {\n",
       "        vertical-align: top;\n",
       "    }\n",
       "\n",
       "    .dataframe thead th {\n",
       "        text-align: right;\n",
       "    }\n",
       "</style>\n",
       "<table border=\"1\" class=\"dataframe\">\n",
       "  <thead>\n",
       "    <tr style=\"text-align: right;\">\n",
       "      <th></th>\n",
       "      <th>date</th>\n",
       "      <th>value</th>\n",
       "    </tr>\n",
       "  </thead>\n",
       "  <tbody>\n",
       "    <tr>\n",
       "      <th>0</th>\n",
       "      <td>1947-01-01</td>\n",
       "      <td>21.480</td>\n",
       "    </tr>\n",
       "    <tr>\n",
       "      <th>1</th>\n",
       "      <td>1947-02-01</td>\n",
       "      <td>21.620</td>\n",
       "    </tr>\n",
       "    <tr>\n",
       "      <th>2</th>\n",
       "      <td>1947-03-01</td>\n",
       "      <td>22.000</td>\n",
       "    </tr>\n",
       "    <tr>\n",
       "      <th>3</th>\n",
       "      <td>1947-04-01</td>\n",
       "      <td>22.000</td>\n",
       "    </tr>\n",
       "    <tr>\n",
       "      <th>4</th>\n",
       "      <td>1947-05-01</td>\n",
       "      <td>21.950</td>\n",
       "    </tr>\n",
       "    <tr>\n",
       "      <th>...</th>\n",
       "      <td>...</td>\n",
       "      <td>...</td>\n",
       "    </tr>\n",
       "    <tr>\n",
       "      <th>913</th>\n",
       "      <td>2023-02-01</td>\n",
       "      <td>301.648</td>\n",
       "    </tr>\n",
       "    <tr>\n",
       "      <th>914</th>\n",
       "      <td>2023-03-01</td>\n",
       "      <td>301.808</td>\n",
       "    </tr>\n",
       "    <tr>\n",
       "      <th>915</th>\n",
       "      <td>2023-04-01</td>\n",
       "      <td>302.918</td>\n",
       "    </tr>\n",
       "    <tr>\n",
       "      <th>916</th>\n",
       "      <td>2023-05-01</td>\n",
       "      <td>303.294</td>\n",
       "    </tr>\n",
       "    <tr>\n",
       "      <th>917</th>\n",
       "      <td>2023-06-01</td>\n",
       "      <td>303.841</td>\n",
       "    </tr>\n",
       "  </tbody>\n",
       "</table>\n",
       "<p>918 rows × 2 columns</p>\n",
       "</div>"
      ],
      "text/plain": [
       "           date    value\n",
       "0    1947-01-01   21.480\n",
       "1    1947-02-01   21.620\n",
       "2    1947-03-01   22.000\n",
       "3    1947-04-01   22.000\n",
       "4    1947-05-01   21.950\n",
       "..          ...      ...\n",
       "913  2023-02-01  301.648\n",
       "914  2023-03-01  301.808\n",
       "915  2023-04-01  302.918\n",
       "916  2023-05-01  303.294\n",
       "917  2023-06-01  303.841\n",
       "\n",
       "[918 rows x 2 columns]"
      ]
     },
     "execution_count": 16,
     "metadata": {},
     "output_type": "execute_result"
    }
   ],
   "source": [
    "df_inflation"
   ]
  },
  {
   "cell_type": "code",
   "execution_count": 17,
   "id": "6fd4bde6",
   "metadata": {},
   "outputs": [
    {
     "name": "stdout",
     "output_type": "stream",
     "text": [
      "<class 'pandas.core.frame.DataFrame'>\n",
      "RangeIndex: 918 entries, 0 to 917\n",
      "Data columns (total 2 columns):\n",
      " #   Column  Non-Null Count  Dtype  \n",
      "---  ------  --------------  -----  \n",
      " 0   date    918 non-null    object \n",
      " 1   value   918 non-null    float64\n",
      "dtypes: float64(1), object(1)\n",
      "memory usage: 14.5+ KB\n"
     ]
    }
   ],
   "source": [
    "df_inflation.info()"
   ]
  },
  {
   "cell_type": "code",
   "execution_count": 18,
   "id": "81c87765",
   "metadata": {},
   "outputs": [
    {
     "data": {
      "text/plain": [
       "date     0\n",
       "value    0\n",
       "dtype: int64"
      ]
     },
     "execution_count": 18,
     "metadata": {},
     "output_type": "execute_result"
    }
   ],
   "source": [
    "df_inflation.isnull().sum()"
   ]
  },
  {
   "cell_type": "code",
   "execution_count": 19,
   "id": "4c94bcc1",
   "metadata": {},
   "outputs": [
    {
     "data": {
      "text/plain": [
       "<Axes: >"
      ]
     },
     "execution_count": 19,
     "metadata": {},
     "output_type": "execute_result"
    },
    {
     "data": {
      "image/png": "[encoded data removed]",
      "text/plain": [
       "<Figure size 640x480 with 1 Axes>"
      ]
     },
     "metadata": {},
     "output_type": "display_data"
    }
   ],
   "source": [
    "sns.heatmap(df_inflation.isnull(), yticklabels = False, cbar = False, cmap = 'viridis')"
   ]
  },
  {
   "cell_type": "code",
   "execution_count": 20,
   "id": "0cff6128",
   "metadata": {},
   "outputs": [
    {
     "data": {
      "text/html": [
       "<div>\n",
       "<style scoped>\n",
       "    .dataframe tbody tr th:only-of-type {\n",
       "        vertical-align: middle;\n",
       "    }\n",
       "\n",
       "    .dataframe tbody tr th {\n",
       "        vertical-align: top;\n",
       "    }\n",
       "\n",
       "    .dataframe thead th {\n",
       "        text-align: right;\n",
       "    }\n",
       "</style>\n",
       "<table border=\"1\" class=\"dataframe\">\n",
       "  <thead>\n",
       "    <tr style=\"text-align: right;\">\n",
       "      <th></th>\n",
       "      <th>value</th>\n",
       "    </tr>\n",
       "  </thead>\n",
       "  <tbody>\n",
       "    <tr>\n",
       "      <th>count</th>\n",
       "      <td>918.000000</td>\n",
       "    </tr>\n",
       "    <tr>\n",
       "      <th>mean</th>\n",
       "      <td>117.794828</td>\n",
       "    </tr>\n",
       "    <tr>\n",
       "      <th>std</th>\n",
       "      <td>83.736360</td>\n",
       "    </tr>\n",
       "    <tr>\n",
       "      <th>min</th>\n",
       "      <td>21.480000</td>\n",
       "    </tr>\n",
       "    <tr>\n",
       "      <th>25%</th>\n",
       "      <td>32.105000</td>\n",
       "    </tr>\n",
       "    <tr>\n",
       "      <th>50%</th>\n",
       "      <td>106.900000</td>\n",
       "    </tr>\n",
       "    <tr>\n",
       "      <th>75%</th>\n",
       "      <td>188.000000</td>\n",
       "    </tr>\n",
       "    <tr>\n",
       "      <th>max</th>\n",
       "      <td>303.841000</td>\n",
       "    </tr>\n",
       "  </tbody>\n",
       "</table>\n",
       "</div>"
      ],
      "text/plain": [
       "            value\n",
       "count  918.000000\n",
       "mean   117.794828\n",
       "std     83.736360\n",
       "min     21.480000\n",
       "25%     32.105000\n",
       "50%    106.900000\n",
       "75%    188.000000\n",
       "max    303.841000"
      ]
     },
     "execution_count": 20,
     "metadata": {},
     "output_type": "execute_result"
    }
   ],
   "source": [
    "df_inflation.describe()"
   ]
  },
  {
   "cell_type": "code",
   "execution_count": 21,
   "id": "5a010615",
   "metadata": {},
   "outputs": [
    {
     "data": {
      "text/html": [
       "<div>\n",
       "<style scoped>\n",
       "    .dataframe tbody tr th:only-of-type {\n",
       "        vertical-align: middle;\n",
       "    }\n",
       "\n",
       "    .dataframe tbody tr th {\n",
       "        vertical-align: top;\n",
       "    }\n",
       "\n",
       "    .dataframe thead th {\n",
       "        text-align: right;\n",
       "    }\n",
       "</style>\n",
       "<table border=\"1\" class=\"dataframe\">\n",
       "  <thead>\n",
       "    <tr style=\"text-align: right;\">\n",
       "      <th></th>\n",
       "      <th>date</th>\n",
       "      <th>value</th>\n",
       "    </tr>\n",
       "  </thead>\n",
       "  <tbody>\n",
       "    <tr>\n",
       "      <th>212</th>\n",
       "      <td>1964-09-01</td>\n",
       "      <td>31.080</td>\n",
       "    </tr>\n",
       "    <tr>\n",
       "      <th>204</th>\n",
       "      <td>1964-01-01</td>\n",
       "      <td>30.940</td>\n",
       "    </tr>\n",
       "    <tr>\n",
       "      <th>303</th>\n",
       "      <td>1972-04-01</td>\n",
       "      <td>41.500</td>\n",
       "    </tr>\n",
       "    <tr>\n",
       "      <th>726</th>\n",
       "      <td>2007-07-01</td>\n",
       "      <td>207.603</td>\n",
       "    </tr>\n",
       "    <tr>\n",
       "      <th>426</th>\n",
       "      <td>1982-07-01</td>\n",
       "      <td>97.500</td>\n",
       "    </tr>\n",
       "  </tbody>\n",
       "</table>\n",
       "</div>"
      ],
      "text/plain": [
       "           date    value\n",
       "212  1964-09-01   31.080\n",
       "204  1964-01-01   30.940\n",
       "303  1972-04-01   41.500\n",
       "726  2007-07-01  207.603\n",
       "426  1982-07-01   97.500"
      ]
     },
     "execution_count": 21,
     "metadata": {},
     "output_type": "execute_result"
    }
   ],
   "source": [
    "df_inflation.sample(5)"
   ]
  },
  {
   "cell_type": "code",
   "execution_count": 22,
   "id": "6acd9625",
   "metadata": {},
   "outputs": [],
   "source": [
    "# Convert the 'date' column to datetime if it's not already\n",
    "df_inflation['date'] = pd.to_datetime(df_inflation['date'])\n",
    "\n",
    "# Extract the year from the 'date' column\n",
    "df_inflation['year'] = df_inflation['date'].dt.year"
   ]
  },
  {
   "cell_type": "code",
   "execution_count": 23,
   "id": "f34134f7",
   "metadata": {},
   "outputs": [
    {
     "data": {
      "image/png": "[encoded data removed]",
      "text/plain": [
       "<Figure size 640x480 with 1 Axes>"
      ]
     },
     "metadata": {},
     "output_type": "display_data"
    }
   ],
   "source": [
    "# plot the cleaned dataframe from the US Inflation dataset\n",
    "plt.xlabel('year')\n",
    "plt.ylabel('value')\n",
    "plt.scatter(df_inflation.date, df_inflation.value, color='red')\n",
    "plt.title('US Inflation Rate Over Time (Every 12th year)')\n",
    "# Set the x-axis ticks to show only every year\n",
    "plt.xticks(rotation=45)  # Rotate x-axis labels for readability\n",
    "plt.gca().xaxis.set_major_locator(plt.MaxNLocator(integer=True))  # Show only integer values on the x-axis\n",
    "plt.show()\n"
   ]
  },
  {
   "cell_type": "code",
   "execution_count": 24,
   "id": "b61b229a",
   "metadata": {},
   "outputs": [
    {
     "data": {
      "text/html": [
       "<div>\n",
       "<style scoped>\n",
       "    .dataframe tbody tr th:only-of-type {\n",
       "        vertical-align: middle;\n",
       "    }\n",
       "\n",
       "    .dataframe tbody tr th {\n",
       "        vertical-align: top;\n",
       "    }\n",
       "\n",
       "    .dataframe thead th {\n",
       "        text-align: right;\n",
       "    }\n",
       "</style>\n",
       "<table border=\"1\" class=\"dataframe\">\n",
       "  <thead>\n",
       "    <tr style=\"text-align: right;\">\n",
       "      <th></th>\n",
       "      <th>date</th>\n",
       "      <th>value</th>\n",
       "      <th>year</th>\n",
       "    </tr>\n",
       "  </thead>\n",
       "  <tbody>\n",
       "    <tr>\n",
       "      <th>0</th>\n",
       "      <td>1947-01-01</td>\n",
       "      <td>21.48</td>\n",
       "      <td>1947</td>\n",
       "    </tr>\n",
       "    <tr>\n",
       "      <th>1</th>\n",
       "      <td>1947-02-01</td>\n",
       "      <td>21.62</td>\n",
       "      <td>1947</td>\n",
       "    </tr>\n",
       "    <tr>\n",
       "      <th>2</th>\n",
       "      <td>1947-03-01</td>\n",
       "      <td>22.00</td>\n",
       "      <td>1947</td>\n",
       "    </tr>\n",
       "    <tr>\n",
       "      <th>3</th>\n",
       "      <td>1947-04-01</td>\n",
       "      <td>22.00</td>\n",
       "      <td>1947</td>\n",
       "    </tr>\n",
       "    <tr>\n",
       "      <th>4</th>\n",
       "      <td>1947-05-01</td>\n",
       "      <td>21.95</td>\n",
       "      <td>1947</td>\n",
       "    </tr>\n",
       "  </tbody>\n",
       "</table>\n",
       "</div>"
      ],
      "text/plain": [
       "        date  value  year\n",
       "0 1947-01-01  21.48  1947\n",
       "1 1947-02-01  21.62  1947\n",
       "2 1947-03-01  22.00  1947\n",
       "3 1947-04-01  22.00  1947\n",
       "4 1947-05-01  21.95  1947"
      ]
     },
     "execution_count": 24,
     "metadata": {},
     "output_type": "execute_result"
    }
   ],
   "source": [
    "df_inflation.head()"
   ]
  },
  {
   "cell_type": "code",
   "execution_count": 25,
   "id": "1478c8e9",
   "metadata": {},
   "outputs": [],
   "source": [
    "# Filter the DataFrame to include only the first 12 years of data\n",
    "#start_year = min(df_inflation.date.dt.year)\n",
    "#end_year = start_year + 12\n",
    "#filtered_df = df_inflation[(df_inflation.date.dt.year >= start_year) & (df_inflation.date.dt.year <= end_year)]\n",
    "\n",
    "# Create the scatter plot with the filtered data\n",
    "#plt.xlabel('Year')\n",
    "#plt.ylabel('Inflation Value')\n",
    "#plt.scatter(filtered_df.date, filtered_df.value, color='red')\n",
    "#plt.title('US Inflation Rate Over the First 12 Years (1947-1960)')\n",
    "#plt.xticks(rotation=45)  # Rotate x-axis labels for readability\n",
    "#plt.gca().xaxis.set_major_locator(plt.MaxNLocator(integer=True))  # Show only integer values on the x-axis\n",
    "#plt.show()"
   ]
  },
  {
   "cell_type": "code",
   "execution_count": 26,
   "id": "b5551584",
   "metadata": {},
   "outputs": [
    {
     "name": "stderr",
     "output_type": "stream",
     "text": [
      "C:\\Users\\Johan\\AppData\\Local\\Temp\\ipykernel_22568\\3839249195.py:3: UserWarning: \n",
      "\n",
      "`distplot` is a deprecated function and will be removed in seaborn v0.14.0.\n",
      "\n",
      "Please adapt your code to use either `displot` (a figure-level function with\n",
      "similar flexibility) or `histplot` (an axes-level function for histograms).\n",
      "\n",
      "For a guide to updating your code to use the new functions, please see\n",
      "https://gist.github.com/mwaskom/de44147ed2974457ad6372750bbe5751\n",
      "\n",
      "  sns.distplot(df_inflation['year'], label='year', norm_hist=True)\n"
     ]
    },
    {
     "data": {
      "text/plain": [
       "<Axes: xlabel='year', ylabel='Density'>"
      ]
     },
     "execution_count": 26,
     "metadata": {},
     "output_type": "execute_result"
    },
    {
     "data": {
      "image/png": "[encoded data removed]",
      "text/plain": [
       "<Figure size 640x480 with 1 Axes>"
      ]
     },
     "metadata": {},
     "output_type": "display_data"
    }
   ],
   "source": [
    "# Create a histogram of the years\n",
    "#sns.histplot(filtered_df['year'], label='year')\n",
    "sns.distplot(df_inflation['year'], label='year', norm_hist=True)"
   ]
  },
  {
   "cell_type": "code",
   "execution_count": 27,
   "id": "56e59317",
   "metadata": {},
   "outputs": [
    {
     "name": "stderr",
     "output_type": "stream",
     "text": [
      "C:\\Users\\Johan\\AppData\\Local\\Temp\\ipykernel_22568\\3676746267.py:2: UserWarning: \n",
      "\n",
      "`distplot` is a deprecated function and will be removed in seaborn v0.14.0.\n",
      "\n",
      "Please adapt your code to use either `displot` (a figure-level function with\n",
      "similar flexibility) or `histplot` (an axes-level function for histograms).\n",
      "\n",
      "For a guide to updating your code to use the new functions, please see\n",
      "https://gist.github.com/mwaskom/de44147ed2974457ad6372750bbe5751\n",
      "\n",
      "  sns.distplot(df_inflation['value'], label='value', norm_hist=True)\n"
     ]
    },
    {
     "data": {
      "text/plain": [
       "<Axes: xlabel='value', ylabel='Density'>"
      ]
     },
     "execution_count": 27,
     "metadata": {},
     "output_type": "execute_result"
    },
    {
     "data": {
      "image/png": "[encoded data removed]",
      "text/plain": [
       "<Figure size 640x480 with 1 Axes>"
      ]
     },
     "metadata": {},
     "output_type": "display_data"
    }
   ],
   "source": [
    "# Create a histogram of the years\n",
    "sns.distplot(df_inflation['value'], label='value', norm_hist=True)"
   ]
  },
  {
   "cell_type": "markdown",
   "id": "370ea590",
   "metadata": {},
   "source": [
    "### Train the data model"
   ]
  },
  {
   "cell_type": "markdown",
   "id": "e77fabc7",
   "metadata": {},
   "source": [
    "#### Split the Data in Dependent y and Independent X Data Sets"
   ]
  },
  {
   "cell_type": "code",
   "execution_count": 28,
   "id": "65ecb0c4",
   "metadata": {},
   "outputs": [],
   "source": [
    "X = df_inflation['year'].values.reshape(-1, 1)"
   ]
  },
  {
   "cell_type": "code",
   "execution_count": 29,
   "id": "02266a37",
   "metadata": {},
   "outputs": [],
   "source": [
    "y = df_inflation['value'].values.reshape(-1, 1)"
   ]
  },
  {
   "cell_type": "code",
   "execution_count": 30,
   "id": "a0b6662b",
   "metadata": {},
   "outputs": [
    {
     "data": {
      "image/png": "[encoded data removed]",
      "text/plain": [
       "<Figure size 640x480 with 1 Axes>"
      ]
     },
     "metadata": {},
     "output_type": "display_data"
    }
   ],
   "source": [
    "plt.xlabel('year')\n",
    "plt.ylabel('value')\n",
    "plt.scatter(X, y, color = 'red')\n",
    "plt.show()"
   ]
  },
  {
   "cell_type": "code",
   "execution_count": 31,
   "id": "136c14f3",
   "metadata": {},
   "outputs": [
    {
     "data": {
      "text/html": [
       "<div>\n",
       "<style scoped>\n",
       "    .dataframe tbody tr th:only-of-type {\n",
       "        vertical-align: middle;\n",
       "    }\n",
       "\n",
       "    .dataframe tbody tr th {\n",
       "        vertical-align: top;\n",
       "    }\n",
       "\n",
       "    .dataframe thead th {\n",
       "        text-align: right;\n",
       "    }\n",
       "</style>\n",
       "<table border=\"1\" class=\"dataframe\">\n",
       "  <thead>\n",
       "    <tr style=\"text-align: right;\">\n",
       "      <th></th>\n",
       "      <th>date</th>\n",
       "      <th>value</th>\n",
       "      <th>year</th>\n",
       "    </tr>\n",
       "  </thead>\n",
       "  <tbody>\n",
       "    <tr>\n",
       "      <th>0</th>\n",
       "      <td>1947-01-01</td>\n",
       "      <td>21.48</td>\n",
       "      <td>1947</td>\n",
       "    </tr>\n",
       "    <tr>\n",
       "      <th>1</th>\n",
       "      <td>1947-02-01</td>\n",
       "      <td>21.62</td>\n",
       "      <td>1947</td>\n",
       "    </tr>\n",
       "    <tr>\n",
       "      <th>2</th>\n",
       "      <td>1947-03-01</td>\n",
       "      <td>22.00</td>\n",
       "      <td>1947</td>\n",
       "    </tr>\n",
       "    <tr>\n",
       "      <th>3</th>\n",
       "      <td>1947-04-01</td>\n",
       "      <td>22.00</td>\n",
       "      <td>1947</td>\n",
       "    </tr>\n",
       "    <tr>\n",
       "      <th>4</th>\n",
       "      <td>1947-05-01</td>\n",
       "      <td>21.95</td>\n",
       "      <td>1947</td>\n",
       "    </tr>\n",
       "  </tbody>\n",
       "</table>\n",
       "</div>"
      ],
      "text/plain": [
       "        date  value  year\n",
       "0 1947-01-01  21.48  1947\n",
       "1 1947-02-01  21.62  1947\n",
       "2 1947-03-01  22.00  1947\n",
       "3 1947-04-01  22.00  1947\n",
       "4 1947-05-01  21.95  1947"
      ]
     },
     "execution_count": 31,
     "metadata": {},
     "output_type": "execute_result"
    }
   ],
   "source": [
    "df_inflation.head()"
   ]
  },
  {
   "cell_type": "markdown",
   "id": "4b15a171",
   "metadata": {},
   "source": [
    "#### Split the Data in Training and Testing Sets"
   ]
  },
  {
   "cell_type": "code",
   "execution_count": 32,
   "id": "e5d1000e",
   "metadata": {},
   "outputs": [],
   "source": [
    "X_train, X_test, y_train, y_test = train_test_split(X, y, random_state=123, test_size=0.2)"
   ]
  },
  {
   "cell_type": "code",
   "execution_count": 33,
   "id": "93645df2",
   "metadata": {},
   "outputs": [
    {
     "name": "stdout",
     "output_type": "stream",
     "text": [
      "(734, 1)\n",
      "(734, 1)\n",
      "(184, 1)\n",
      "(184, 1)\n"
     ]
    }
   ],
   "source": [
    "print(X_train.shape)\n",
    "print(y_train.shape)\n",
    "print(X_test.shape)\n",
    "print(y_test.shape)"
   ]
  },
  {
   "cell_type": "code",
   "execution_count": 34,
   "id": "8c8647b8",
   "metadata": {},
   "outputs": [
    {
     "data": {
      "text/plain": [
       "array([[ 55.9  ],\n",
       "       [177.7  ],\n",
       "       [ 22.4  ],\n",
       "       [149.   ],\n",
       "       [ 29.81 ],\n",
       "       [ 29.98 ],\n",
       "       [140.5  ],\n",
       "       [ 28.87 ],\n",
       "       [262.035],\n",
       "       [152.1  ],\n",
       "       [135.1  ],\n",
       "       [207.603],\n",
       "       [ 30.48 ],\n",
       "       [ 68.5  ],\n",
       "       [235.547],\n",
       "       [ 41.8  ],\n",
       "       [298.598],\n",
       "       [218.69 ],\n",
       "       [ 36.3  ],\n",
       "       [ 51.9  ],\n",
       "       [ 26.99 ],\n",
       "       [ 29.84 ],\n",
       "       [182.9  ],\n",
       "       [ 29.   ],\n",
       "       [ 61.6  ],\n",
       "       [181.2  ],\n",
       "       [183.2  ],\n",
       "       [260.286],\n",
       "       [135.6  ],\n",
       "       [ 29.61 ],\n",
       "       [ 28.89 ],\n",
       "       [146.7  ],\n",
       "       [242.026],\n",
       "       [216.509],\n",
       "       [ 30.94 ],\n",
       "       [ 79.   ],\n",
       "       [ 36.8  ],\n",
       "       [ 49.   ],\n",
       "       [193.7  ],\n",
       "       [203.1  ],\n",
       "       [251.663],\n",
       "       [249.529],\n",
       "       [ 80.9  ],\n",
       "       [ 30.21 ],\n",
       "       [153.1  ],\n",
       "       [109.7  ],\n",
       "       [ 29.81 ],\n",
       "       [ 22.08 ],\n",
       "       [ 30.72 ],\n",
       "       [ 32.92 ],\n",
       "       [ 33.4  ],\n",
       "       [ 40.1  ],\n",
       "       [ 23.88 ],\n",
       "       [178.5  ],\n",
       "       [ 41.2  ],\n",
       "       [ 44.2  ],\n",
       "       [ 54.6  ],\n",
       "       [ 30.42 ],\n",
       "       [ 30.51 ],\n",
       "       [244.163],\n",
       "       [ 41.5  ],\n",
       "       [ 31.02 ],\n",
       "       [151.2  ],\n",
       "       [216.995],\n",
       "       [144.5  ],\n",
       "       [124.5  ],\n",
       "       [186.3  ],\n",
       "       [300.536],\n",
       "       [ 38.5  ],\n",
       "       [ 25.38 ],\n",
       "       [144.2  ],\n",
       "       [202.8  ],\n",
       "       [201.3  ],\n",
       "       [ 63.4  ],\n",
       "       [153.7  ],\n",
       "       [ 31.61 ],\n",
       "       [ 23.61 ],\n",
       "       [ 55.8  ],\n",
       "       [191.7  ],\n",
       "       [236.222],\n",
       "       [ 32.08 ],\n",
       "       [ 85.6  ],\n",
       "       [ 21.95 ],\n",
       "       [ 42.4  ],\n",
       "       [213.448],\n",
       "       [256.059],\n",
       "       [229.187],\n",
       "       [ 41.9  ],\n",
       "       [118.5  ],\n",
       "       [ 25.88 ],\n",
       "       [ 30.24 ],\n",
       "       [236.983],\n",
       "       [159.8  ],\n",
       "       [145.   ],\n",
       "       [ 62.   ],\n",
       "       [ 35.3  ],\n",
       "       [ 29.55 ],\n",
       "       [129.9  ],\n",
       "       [ 30.88 ],\n",
       "       [ 26.16 ],\n",
       "       [ 34.1  ],\n",
       "       [110.4  ],\n",
       "       [177.4  ],\n",
       "       [112.2  ],\n",
       "       [162.   ],\n",
       "       [172.7  ],\n",
       "       [173.6  ],\n",
       "       [ 25.86 ],\n",
       "       [ 33.7  ],\n",
       "       [ 43.9  ],\n",
       "       [163.4  ],\n",
       "       [167.8  ],\n",
       "       [ 26.72 ],\n",
       "       [ 71.4  ],\n",
       "       [ 37.1  ],\n",
       "       [207.234],\n",
       "       [153.5  ],\n",
       "       [ 25.99 ],\n",
       "       [ 28.47 ],\n",
       "       [217.403],\n",
       "       [161.7  ],\n",
       "       [ 25.91 ],\n",
       "       [ 27.51 ],\n",
       "       [219.016],\n",
       "       [ 29.84 ],\n",
       "       [ 72.2  ],\n",
       "       [228.524],\n",
       "       [129.1  ],\n",
       "       [ 36.1  ],\n",
       "       [ 23.7  ],\n",
       "       [ 92.2  ],\n",
       "       [237.657],\n",
       "       [ 23.51 ],\n",
       "       [239.557],\n",
       "       [168.1  ],\n",
       "       [198.8  ],\n",
       "       [ 35.1  ],\n",
       "       [ 44.2  ],\n",
       "       [ 26.77 ],\n",
       "       [ 28.98 ],\n",
       "       [164.8  ],\n",
       "       [ 29.61 ],\n",
       "       [ 31.85 ],\n",
       "       [163.2  ],\n",
       "       [157.   ],\n",
       "       [ 52.3  ],\n",
       "       [ 26.79 ],\n",
       "       [228.329],\n",
       "       [193.7  ],\n",
       "       [ 26.85 ],\n",
       "       [205.288],\n",
       "       [139.4  ],\n",
       "       [ 39.4  ],\n",
       "       [208.547],\n",
       "       [150.9  ],\n",
       "       [191.6  ],\n",
       "       [ 31.01 ],\n",
       "       [ 26.85 ],\n",
       "       [136.2  ],\n",
       "       [ 26.86 ],\n",
       "       [ 26.69 ],\n",
       "       [ 38.6  ],\n",
       "       [263.638],\n",
       "       [ 48.6  ],\n",
       "       [234.747],\n",
       "       [181.5  ],\n",
       "       [193.6  ],\n",
       "       [237.001],\n",
       "       [141.1  ],\n",
       "       [235.288],\n",
       "       [250.227],\n",
       "       [137.8  ],\n",
       "       [175.6  ],\n",
       "       [ 41.1  ],\n",
       "       [134.7  ],\n",
       "       [ 78.   ],\n",
       "       [110.   ],\n",
       "       [ 32.75 ],\n",
       "       [ 23.67 ],\n",
       "       [ 26.63 ],\n",
       "       [185.5  ],\n",
       "       [ 31.75 ],\n",
       "       [ 97.7  ],\n",
       "       [ 26.47 ]])"
      ]
     },
     "execution_count": 34,
     "metadata": {},
     "output_type": "execute_result"
    }
   ],
   "source": [
    "y_test"
   ]
  },
  {
   "cell_type": "code",
   "execution_count": 35,
   "id": "7eea4355",
   "metadata": {},
   "outputs": [],
   "source": [
    "myreg = LinearRegression()"
   ]
  },
  {
   "cell_type": "code",
   "execution_count": 36,
   "id": "f5f31659",
   "metadata": {},
   "outputs": [
    {
     "data": {
      "text/html": [
       "<style>#sk-container-id-1 {color: black;}#sk-container-id-1 pre{padding: 0;}#sk-container-id-1 div.sk-toggleable {background-color: white;}#sk-container-id-1 label.sk-toggleable__label {cursor: pointer;display: block;width: 100%;margin-bottom: 0;padding: 0.3em;box-sizing: border-box;text-align: center;}#sk-container-id-1 label.sk-toggleable__label-arrow:before {content: \"▸\";float: left;margin-right: 0.25em;color: #696969;}#sk-container-id-1 label.sk-toggleable__label-arrow:hover:before {color: black;}#sk-container-id-1 div.sk-estimator:hover label.sk-toggleable__label-arrow:before {color: black;}#sk-container-id-1 div.sk-toggleable__content {max-height: 0;max-width: 0;overflow: hidden;text-align: left;background-color: #f0f8ff;}#sk-container-id-1 div.sk-toggleable__content pre {margin: 0.2em;color: black;border-radius: 0.25em;background-color: #f0f8ff;}#sk-container-id-1 input.sk-toggleable__control:checked~div.sk-toggleable__content {max-height: 200px;max-width: 100%;overflow: auto;}#sk-container-id-1 input.sk-toggleable__control:checked~label.sk-toggleable__label-arrow:before {content: \"▾\";}#sk-container-id-1 div.sk-estimator input.sk-toggleable__control:checked~label.sk-toggleable__label {background-color: #d4ebff;}#sk-container-id-1 div.sk-label input.sk-toggleable__control:checked~label.sk-toggleable__label {background-color: #d4ebff;}#sk-container-id-1 input.sk-hidden--visually {border: 0;clip: rect(1px 1px 1px 1px);clip: rect(1px, 1px, 1px, 1px);height: 1px;margin: -1px;overflow: hidden;padding: 0;position: absolute;width: 1px;}#sk-container-id-1 div.sk-estimator {font-family: monospace;background-color: #f0f8ff;border: 1px dotted black;border-radius: 0.25em;box-sizing: border-box;margin-bottom: 0.5em;}#sk-container-id-1 div.sk-estimator:hover {background-color: #d4ebff;}#sk-container-id-1 div.sk-parallel-item::after {content: \"\";width: 100%;border-bottom: 1px solid gray;flex-grow: 1;}#sk-container-id-1 div.sk-label:hover label.sk-toggleable__label {background-color: #d4ebff;}#sk-container-id-1 div.sk-serial::before {content: \"\";position: absolute;border-left: 1px solid gray;box-sizing: border-box;top: 0;bottom: 0;left: 50%;z-index: 0;}#sk-container-id-1 div.sk-serial {display: flex;flex-direction: column;align-items: center;background-color: white;padding-right: 0.2em;padding-left: 0.2em;position: relative;}#sk-container-id-1 div.sk-item {position: relative;z-index: 1;}#sk-container-id-1 div.sk-parallel {display: flex;align-items: stretch;justify-content: center;background-color: white;position: relative;}#sk-container-id-1 div.sk-item::before, #sk-container-id-1 div.sk-parallel-item::before {content: \"\";position: absolute;border-left: 1px solid gray;box-sizing: border-box;top: 0;bottom: 0;left: 50%;z-index: -1;}#sk-container-id-1 div.sk-parallel-item {display: flex;flex-direction: column;z-index: 1;position: relative;background-color: white;}#sk-container-id-1 div.sk-parallel-item:first-child::after {align-self: flex-end;width: 50%;}#sk-container-id-1 div.sk-parallel-item:last-child::after {align-self: flex-start;width: 50%;}#sk-container-id-1 div.sk-parallel-item:only-child::after {width: 0;}#sk-container-id-1 div.sk-dashed-wrapped {border: 1px dashed gray;margin: 0 0.4em 0.5em 0.4em;box-sizing: border-box;padding-bottom: 0.4em;background-color: white;}#sk-container-id-1 div.sk-label label {font-family: monospace;font-weight: bold;display: inline-block;line-height: 1.2em;}#sk-container-id-1 div.sk-label-container {text-align: center;}#sk-container-id-1 div.sk-container {/* jupyter's `normalize.less` sets `[hidden] { display: none; }` but bootstrap.min.css set `[hidden] { display: none !important; }` so we also need the `!important` here to be able to override the default hidden behavior on the sphinx rendered scikit-learn.org. See: https://github.com/scikit-learn/scikit-learn/issues/21755 */display: inline-block !important;position: relative;}#sk-container-id-1 div.sk-text-repr-fallback {display: none;}</style><div id=\"sk-container-id-1\" class=\"sk-top-container\"><div class=\"sk-text-repr-fallback\"><pre>LinearRegression()</pre><b>In a Jupyter environment, please rerun this cell to show the HTML representation or trust the notebook. <br />On GitHub, the HTML representation is unable to render, please try loading this page with nbviewer.org.</b></div><div class=\"sk-container\" hidden><div class=\"sk-item\"><div class=\"sk-estimator sk-toggleable\"><input class=\"sk-toggleable__control sk-hidden--visually\" id=\"sk-estimator-id-1\" type=\"checkbox\" checked><label for=\"sk-estimator-id-1\" class=\"sk-toggleable__label sk-toggleable__label-arrow\">LinearRegression</label><div class=\"sk-toggleable__content\"><pre>LinearRegression()</pre></div></div></div></div></div>"
      ],
      "text/plain": [
       "LinearRegression()"
      ]
     },
     "execution_count": 36,
     "metadata": {},
     "output_type": "execute_result"
    }
   ],
   "source": [
    "myreg.fit(X_train, y_train)\n",
    "myreg"
   ]
  },
  {
   "cell_type": "code",
   "execution_count": 37,
   "id": "1f25dc61",
   "metadata": {},
   "outputs": [],
   "source": [
    "a = myreg.coef_\n",
    "b = myreg.intercept_"
   ]
  },
  {
   "cell_type": "code",
   "execution_count": 38,
   "id": "e539f471",
   "metadata": {},
   "outputs": [
    {
     "data": {
      "text/plain": [
       "array([[3.7052336]])"
      ]
     },
     "execution_count": 38,
     "metadata": {},
     "output_type": "execute_result"
    }
   ],
   "source": [
    "a"
   ]
  },
  {
   "cell_type": "code",
   "execution_count": 39,
   "id": "38e2fe7c",
   "metadata": {},
   "outputs": [
    {
     "data": {
      "text/plain": [
       "array([-7235.98309691])"
      ]
     },
     "execution_count": 39,
     "metadata": {},
     "output_type": "execute_result"
    }
   ],
   "source": [
    "b"
   ]
  },
  {
   "cell_type": "code",
   "execution_count": 40,
   "id": "d0902d65",
   "metadata": {},
   "outputs": [
    {
     "data": {
      "text/plain": [
       "array([[ 85.55848805],\n",
       "       [178.18932794],\n",
       "       [-21.89328622],\n",
       "       [152.25269277],\n",
       "       [ 29.97998412],\n",
       "       [ 29.97998412],\n",
       "       [144.84222558],\n",
       "       [ 18.86428333],\n",
       "       [248.58876626],\n",
       "       [155.95792637],\n",
       "       [141.13699199],\n",
       "       [200.42072952],\n",
       "       [ 37.39045131],\n",
       "       [ 96.67418884],\n",
       "       [226.35736469],\n",
       "       [ 70.73755367],\n",
       "       [255.99923345],\n",
       "       [204.12596311],\n",
       "       [ 59.62185288],\n",
       "       [ 78.14802086],\n",
       "       [  4.04334895],\n",
       "       [ 29.97998412],\n",
       "       [185.59979513],\n",
       "       [ 22.56951693],\n",
       "       [ 89.26372165],\n",
       "       [181.89456154],\n",
       "       [185.59979513],\n",
       "       [248.58876626],\n",
       "       [141.13699199],\n",
       "       [ 26.27475052],\n",
       "       [ 18.86428333],\n",
       "       [152.25269277],\n",
       "       [233.76783188],\n",
       "       [207.83119671],\n",
       "       [ 41.0956849 ],\n",
       "       [100.37942243],\n",
       "       [ 59.62185288],\n",
       "       [ 78.14802086],\n",
       "       [193.01026232],\n",
       "       [196.71549592],\n",
       "       [241.17829907],\n",
       "       [241.17829907],\n",
       "       [100.37942243],\n",
       "       [ 33.68521771],\n",
       "       [155.95792637],\n",
       "       [122.61082401],\n",
       "       [ 26.27475052],\n",
       "       [-21.89328622],\n",
       "       [ 37.39045131],\n",
       "       [ 48.50615209],\n",
       "       [ 52.21138569],\n",
       "       [ 67.03232007],\n",
       "       [-10.77758544],\n",
       "       [181.89456154],\n",
       "       [ 70.73755367],\n",
       "       [ 74.44278726],\n",
       "       [ 81.85325446],\n",
       "       [ 33.68521771],\n",
       "       [ 37.39045131],\n",
       "       [237.47306547],\n",
       "       [ 70.73755367],\n",
       "       [ 41.0956849 ],\n",
       "       [155.95792637],\n",
       "       [204.12596311],\n",
       "       [148.54745918],\n",
       "       [133.72652479],\n",
       "       [189.30502873],\n",
       "       [259.70446705],\n",
       "       [ 63.32708648],\n",
       "       [ -7.07235184],\n",
       "       [148.54745918],\n",
       "       [196.71549592],\n",
       "       [196.71549592],\n",
       "       [ 92.96895524],\n",
       "       [155.95792637],\n",
       "       [ 44.8009185 ],\n",
       "       [-14.48281903],\n",
       "       [ 85.55848805],\n",
       "       [189.30502873],\n",
       "       [230.06259828],\n",
       "       [ 48.50615209],\n",
       "       [100.37942243],\n",
       "       [-21.89328622],\n",
       "       [ 70.73755367],\n",
       "       [204.12596311],\n",
       "       [244.88353266],\n",
       "       [218.94689749],\n",
       "       [ 70.73755367],\n",
       "       [130.0212912 ],\n",
       "       [ -7.07235184],\n",
       "       [ 33.68521771],\n",
       "       [226.35736469],\n",
       "       [163.36839356],\n",
       "       [148.54745918],\n",
       "       [ 89.26372165],\n",
       "       [ 55.91661929],\n",
       "       [ 26.27475052],\n",
       "       [137.43175839],\n",
       "       [ 37.39045131],\n",
       "       [ -7.07235184],\n",
       "       [ 55.91661929],\n",
       "       [122.61082401],\n",
       "       [178.18932794],\n",
       "       [126.3160576 ],\n",
       "       [167.07362715],\n",
       "       [174.48409435],\n",
       "       [174.48409435],\n",
       "       [ -7.07235184],\n",
       "       [ 52.21138569],\n",
       "       [ 74.44278726],\n",
       "       [167.07362715],\n",
       "       [170.77886075],\n",
       "       [  7.74858254],\n",
       "       [ 96.67418884],\n",
       "       [ 59.62185288],\n",
       "       [200.42072952],\n",
       "       [155.95792637],\n",
       "       [ -7.07235184],\n",
       "       [ 15.15904973],\n",
       "       [211.5364303 ],\n",
       "       [163.36839356],\n",
       "       [ -7.07235184],\n",
       "       [ 11.45381614],\n",
       "       [204.12596311],\n",
       "       [ 29.97998412],\n",
       "       [ 96.67418884],\n",
       "       [218.94689749],\n",
       "       [137.43175839],\n",
       "       [ 59.62185288],\n",
       "       [-14.48281903],\n",
       "       [104.08465603],\n",
       "       [230.06259828],\n",
       "       [-10.77758544],\n",
       "       [233.76783188],\n",
       "       [170.77886075],\n",
       "       [193.01026232],\n",
       "       [ 55.91661929],\n",
       "       [ 74.44278726],\n",
       "       [  7.74858254],\n",
       "       [ 22.56951693],\n",
       "       [170.77886075],\n",
       "       [ 26.27475052],\n",
       "       [ 44.8009185 ],\n",
       "       [167.07362715],\n",
       "       [159.66315996],\n",
       "       [ 81.85325446],\n",
       "       [  0.33811535],\n",
       "       [218.94689749],\n",
       "       [193.01026232],\n",
       "       [  0.33811535],\n",
       "       [200.42072952],\n",
       "       [144.84222558],\n",
       "       [ 63.32708648],\n",
       "       [200.42072952],\n",
       "       [155.95792637],\n",
       "       [193.01026232],\n",
       "       [ 41.0956849 ],\n",
       "       [  4.04334895],\n",
       "       [141.13699199],\n",
       "       [  4.04334895],\n",
       "       [  0.33811535],\n",
       "       [ 63.32708648],\n",
       "       [252.29399985],\n",
       "       [ 78.14802086],\n",
       "       [230.06259828],\n",
       "       [181.89456154],\n",
       "       [193.01026232],\n",
       "       [230.06259828],\n",
       "       [144.84222558],\n",
       "       [226.35736469],\n",
       "       [241.17829907],\n",
       "       [141.13699199],\n",
       "       [178.18932794],\n",
       "       [ 67.03232007],\n",
       "       [141.13699199],\n",
       "       [100.37942243],\n",
       "       [122.61082401],\n",
       "       [ 48.50615209],\n",
       "       [-18.18805263],\n",
       "       [  0.33811535],\n",
       "       [185.59979513],\n",
       "       [ 44.8009185 ],\n",
       "       [107.78988962],\n",
       "       [ -7.07235184]])"
      ]
     },
     "execution_count": 40,
     "metadata": {},
     "output_type": "execute_result"
    }
   ],
   "source": [
    "y_predicted = myreg.predict(X_test)\n",
    "y_predicted"
   ]
  },
  {
   "cell_type": "code",
   "execution_count": 41,
   "id": "49ba6eb1",
   "metadata": {},
   "outputs": [
    {
     "data": {
      "image/png": "[encoded data removed]",
      "text/plain": [
       "<Figure size 640x480 with 1 Axes>"
      ]
     },
     "metadata": {},
     "output_type": "display_data"
    }
   ],
   "source": [
    "# Visualize the Linear Regression\n",
    "plt.title('Linear Regression')\n",
    "plt.scatter(X, y, color='green')\n",
    "plt.plot(X_train, a*X_train + b, color='blue')\n",
    "plt.plot(X_test, y_predicted, color='orange')\n",
    "plt.xlabel('date by year')\n",
    "plt.ylabel('value')\n",
    "plt.show()"
   ]
  },
  {
   "cell_type": "code",
   "execution_count": 42,
   "id": "0a48e026",
   "metadata": {},
   "outputs": [
    {
     "data": {
      "text/plain": [
       "0.9517383505382754"
      ]
     },
     "execution_count": 42,
     "metadata": {},
     "output_type": "execute_result"
    }
   ],
   "source": [
    "R2 = myreg.score(X, y)\n",
    "R2"
   ]
  },
  {
   "cell_type": "markdown",
   "id": "82980775",
   "metadata": {},
   "source": [
    "### Polytfit\n",
    "#### Split the Data in Dependent y and Independent X Data Sets"
   ]
  },
  {
   "cell_type": "code",
   "execution_count": 43,
   "id": "0ba1c42a",
   "metadata": {},
   "outputs": [],
   "source": [
    "X, y = df_inflation.year, df_inflation.value"
   ]
  },
  {
   "cell_type": "markdown",
   "id": "c6d2b358",
   "metadata": {},
   "source": [
    "#### Split the Data in Training and Testing Sets"
   ]
  },
  {
   "cell_type": "code",
   "execution_count": 44,
   "id": "4aceb77e",
   "metadata": {},
   "outputs": [],
   "source": [
    "# split the set into subsets for training and testing\n",
    "from sklearn.model_selection import train_test_split\n",
    "\n",
    "# default proportion is 75:25\n",
    "# X_train, X_test, y_train, y_test = train_test_split(X, y, random_state=1)\n",
    "X_train, X_test, y_train, y_test = train_test_split(X, y, random_state=1, test_size=0.2) "
   ]
  },
  {
   "cell_type": "code",
   "execution_count": 45,
   "id": "918ed81c",
   "metadata": {},
   "outputs": [
    {
     "name": "stdout",
     "output_type": "stream",
     "text": [
      "(734,)\n",
      "(734,)\n",
      "(184,)\n",
      "(184,)\n"
     ]
    }
   ],
   "source": [
    "# the shape of the subsets\n",
    "print(X_train.shape)\n",
    "print(y_train.shape)\n",
    "print(X_test.shape)\n",
    "print(y_test.shape)"
   ]
  },
  {
   "cell_type": "code",
   "execution_count": 46,
   "id": "b20affc7",
   "metadata": {},
   "outputs": [
    {
     "data": {
      "text/plain": [
       "852    248.859\n",
       "121     27.800\n",
       "664    179.500\n",
       "187     30.280\n",
       "108     26.830\n",
       "        ...   \n",
       "767    220.472\n",
       "72      26.640\n",
       "908    296.539\n",
       "235     32.650\n",
       "37      23.610\n",
       "Name: value, Length: 734, dtype: float64"
      ]
     },
     "execution_count": 46,
     "metadata": {},
     "output_type": "execute_result"
    }
   ],
   "source": [
    "y_train"
   ]
  },
  {
   "cell_type": "code",
   "execution_count": 47,
   "id": "a4aaebff",
   "metadata": {},
   "outputs": [
    {
     "data": {
      "text/html": [
       "<div>\n",
       "<style scoped>\n",
       "    .dataframe tbody tr th:only-of-type {\n",
       "        vertical-align: middle;\n",
       "    }\n",
       "\n",
       "    .dataframe tbody tr th {\n",
       "        vertical-align: top;\n",
       "    }\n",
       "\n",
       "    .dataframe thead th {\n",
       "        text-align: right;\n",
       "    }\n",
       "</style>\n",
       "<table border=\"1\" class=\"dataframe\">\n",
       "  <thead>\n",
       "    <tr style=\"text-align: right;\">\n",
       "      <th></th>\n",
       "      <th>date</th>\n",
       "      <th>value</th>\n",
       "      <th>year</th>\n",
       "    </tr>\n",
       "  </thead>\n",
       "  <tbody>\n",
       "    <tr>\n",
       "      <th>0</th>\n",
       "      <td>1947-01-01</td>\n",
       "      <td>21.48</td>\n",
       "      <td>1947</td>\n",
       "    </tr>\n",
       "    <tr>\n",
       "      <th>1</th>\n",
       "      <td>1947-02-01</td>\n",
       "      <td>21.62</td>\n",
       "      <td>1947</td>\n",
       "    </tr>\n",
       "    <tr>\n",
       "      <th>2</th>\n",
       "      <td>1947-03-01</td>\n",
       "      <td>22.00</td>\n",
       "      <td>1947</td>\n",
       "    </tr>\n",
       "    <tr>\n",
       "      <th>3</th>\n",
       "      <td>1947-04-01</td>\n",
       "      <td>22.00</td>\n",
       "      <td>1947</td>\n",
       "    </tr>\n",
       "    <tr>\n",
       "      <th>4</th>\n",
       "      <td>1947-05-01</td>\n",
       "      <td>21.95</td>\n",
       "      <td>1947</td>\n",
       "    </tr>\n",
       "  </tbody>\n",
       "</table>\n",
       "</div>"
      ],
      "text/plain": [
       "        date  value  year\n",
       "0 1947-01-01  21.48  1947\n",
       "1 1947-02-01  21.62  1947\n",
       "2 1947-03-01  22.00  1947\n",
       "3 1947-04-01  22.00  1947\n",
       "4 1947-05-01  21.95  1947"
      ]
     },
     "execution_count": 47,
     "metadata": {},
     "output_type": "execute_result"
    }
   ],
   "source": [
    "df_inflation.head()"
   ]
  },
  {
   "cell_type": "markdown",
   "id": "7e29b91a",
   "metadata": {},
   "source": [
    "#### Train data model"
   ]
  },
  {
   "cell_type": "code",
   "execution_count": 48,
   "id": "14578580",
   "metadata": {},
   "outputs": [],
   "source": [
    "# build a model from the train data with method 'polyfit'\n",
    "model = np.polyfit(X_train, y_train, 1)"
   ]
  },
  {
   "cell_type": "code",
   "execution_count": 49,
   "id": "dcd9706d",
   "metadata": {},
   "outputs": [
    {
     "data": {
      "text/plain": [
       "array([ 3.69983720e+00, -7.22596232e+03])"
      ]
     },
     "execution_count": 49,
     "metadata": {},
     "output_type": "execute_result"
    }
   ],
   "source": [
    "model"
   ]
  },
  {
   "cell_type": "code",
   "execution_count": 50,
   "id": "f7791c8d",
   "metadata": {},
   "outputs": [],
   "source": [
    "a, b = model[0], model[1]"
   ]
  },
  {
   "cell_type": "code",
   "execution_count": 51,
   "id": "fe7bef0b",
   "metadata": {},
   "outputs": [
    {
     "data": {
      "text/plain": [
       "array([ 3.68037556e+00, -7.18482064e+03])"
      ]
     },
     "execution_count": 51,
     "metadata": {},
     "output_type": "execute_result"
    }
   ],
   "source": [
    "test = np.polyfit(X_test, y_test, 1)\n",
    "test"
   ]
  },
  {
   "cell_type": "code",
   "execution_count": 52,
   "id": "3efde1e1",
   "metadata": {},
   "outputs": [],
   "source": [
    "a1, b1 = test[0], test[1]"
   ]
  },
  {
   "cell_type": "code",
   "execution_count": 53,
   "id": "346ca55b",
   "metadata": {},
   "outputs": [
    {
     "data": {
      "image/png": "[encoded data removed]",
      "text/plain": [
       "<Figure size 640x480 with 1 Axes>"
      ]
     },
     "metadata": {},
     "output_type": "display_data"
    }
   ],
   "source": [
    "# Visualise the Linear Regression \n",
    "plt.title('Linear Regression')\n",
    "plt.scatter(X, y, color='green')\n",
    "plt.plot(X_test, a1*X_test + b1, color='orange')\n",
    "plt.plot(X_train, a*X_train + b, color='blue')\n",
    "\n",
    "plt.xlabel('date')\n",
    "plt.ylabel('value')\n",
    "plt.show()"
   ]
  },
  {
   "cell_type": "markdown",
   "id": "f1808046",
   "metadata": {},
   "source": [
    "### Test the models"
   ]
  },
  {
   "cell_type": "markdown",
   "id": "5f5ff79c",
   "metadata": {},
   "source": [
    "#### Test with Known Data"
   ]
  },
  {
   "cell_type": "code",
   "execution_count": 54,
   "id": "1a618d77",
   "metadata": {},
   "outputs": [
    {
     "data": {
      "text/plain": [
       "array([[174.48409435]])"
      ]
     },
     "execution_count": 54,
     "metadata": {},
     "output_type": "execute_result"
    }
   ],
   "source": [
    "date_predicted = myreg.predict([[2000]])\n",
    "date_predicted"
   ]
  },
  {
   "cell_type": "code",
   "execution_count": 55,
   "id": "fdc628be",
   "metadata": {},
   "outputs": [
    {
     "data": {
      "text/plain": [
       "173.71208611957718"
      ]
     },
     "execution_count": 55,
     "metadata": {},
     "output_type": "execute_result"
    }
   ],
   "source": [
    "date_predict = a*2000 + b\n",
    "date_predict"
   ]
  },
  {
   "cell_type": "markdown",
   "id": "69939978",
   "metadata": {},
   "source": [
    "### Predict with unknown Data"
   ]
  },
  {
   "cell_type": "code",
   "execution_count": 56,
   "id": "4e799dd0",
   "metadata": {},
   "outputs": [
    {
     "data": {
      "text/plain": [
       "array([[-5753.88965866]])"
      ]
     },
     "execution_count": 56,
     "metadata": {},
     "output_type": "execute_result"
    }
   ],
   "source": [
    "value = 400\n",
    "date_predicted = myreg.predict([[value]])\n",
    "date_predicted"
   ]
  },
  {
   "cell_type": "code",
   "execution_count": 57,
   "id": "dfa46e0b",
   "metadata": {},
   "outputs": [
    {
     "data": {
      "text/html": [
       "<div>\n",
       "<style scoped>\n",
       "    .dataframe tbody tr th:only-of-type {\n",
       "        vertical-align: middle;\n",
       "    }\n",
       "\n",
       "    .dataframe tbody tr th {\n",
       "        vertical-align: top;\n",
       "    }\n",
       "\n",
       "    .dataframe thead th {\n",
       "        text-align: right;\n",
       "    }\n",
       "</style>\n",
       "<table border=\"1\" class=\"dataframe\">\n",
       "  <thead>\n",
       "    <tr style=\"text-align: right;\">\n",
       "      <th></th>\n",
       "      <th>date</th>\n",
       "      <th>value</th>\n",
       "      <th>year</th>\n",
       "    </tr>\n",
       "  </thead>\n",
       "  <tbody>\n",
       "    <tr>\n",
       "      <th>0</th>\n",
       "      <td>1947-01-01</td>\n",
       "      <td>21.48</td>\n",
       "      <td>1947</td>\n",
       "    </tr>\n",
       "    <tr>\n",
       "      <th>1</th>\n",
       "      <td>1947-02-01</td>\n",
       "      <td>21.62</td>\n",
       "      <td>1947</td>\n",
       "    </tr>\n",
       "    <tr>\n",
       "      <th>2</th>\n",
       "      <td>1947-03-01</td>\n",
       "      <td>22.00</td>\n",
       "      <td>1947</td>\n",
       "    </tr>\n",
       "    <tr>\n",
       "      <th>3</th>\n",
       "      <td>1947-04-01</td>\n",
       "      <td>22.00</td>\n",
       "      <td>1947</td>\n",
       "    </tr>\n",
       "    <tr>\n",
       "      <th>4</th>\n",
       "      <td>1947-05-01</td>\n",
       "      <td>21.95</td>\n",
       "      <td>1947</td>\n",
       "    </tr>\n",
       "  </tbody>\n",
       "</table>\n",
       "</div>"
      ],
      "text/plain": [
       "        date  value  year\n",
       "0 1947-01-01  21.48  1947\n",
       "1 1947-02-01  21.62  1947\n",
       "2 1947-03-01  22.00  1947\n",
       "3 1947-04-01  22.00  1947\n",
       "4 1947-05-01  21.95  1947"
      ]
     },
     "execution_count": 57,
     "metadata": {},
     "output_type": "execute_result"
    }
   ],
   "source": [
    "df_inflation.head()"
   ]
  },
  {
   "cell_type": "code",
   "execution_count": 35,
   "id": "36c3c7c2",
   "metadata": {},
   "outputs": [
    {
     "data": {
      "text/html": [
       "<div>\n",
       "<style scoped>\n",
       "    .dataframe tbody tr th:only-of-type {\n",
       "        vertical-align: middle;\n",
       "    }\n",
       "\n",
       "    .dataframe tbody tr th {\n",
       "        vertical-align: top;\n",
       "    }\n",
       "\n",
       "    .dataframe thead th {\n",
       "        text-align: right;\n",
       "    }\n",
       "</style>\n",
       "<table border=\"1\" class=\"dataframe\">\n",
       "  <thead>\n",
       "    <tr style=\"text-align: right;\">\n",
       "      <th></th>\n",
       "      <th>Unnamed: 0</th>\n",
       "      <th>work_year</th>\n",
       "      <th>experience_level</th>\n",
       "      <th>employment_type</th>\n",
       "      <th>job_title</th>\n",
       "      <th>salary_in_usd</th>\n",
       "      <th>employee_residence</th>\n",
       "      <th>remote_ratio</th>\n",
       "      <th>company_location</th>\n",
       "    </tr>\n",
       "  </thead>\n",
       "  <tbody>\n",
       "    <tr>\n",
       "      <th>0</th>\n",
       "      <td>0</td>\n",
       "      <td>2023</td>\n",
       "      <td>SE</td>\n",
       "      <td>FT</td>\n",
       "      <td>Principal Data Scientist</td>\n",
       "      <td>85847</td>\n",
       "      <td>ES</td>\n",
       "      <td>100</td>\n",
       "      <td>ES</td>\n",
       "    </tr>\n",
       "    <tr>\n",
       "      <th>1</th>\n",
       "      <td>1</td>\n",
       "      <td>2023</td>\n",
       "      <td>MI</td>\n",
       "      <td>CT</td>\n",
       "      <td>ML Engineer</td>\n",
       "      <td>30000</td>\n",
       "      <td>US</td>\n",
       "      <td>100</td>\n",
       "      <td>US</td>\n",
       "    </tr>\n",
       "    <tr>\n",
       "      <th>2</th>\n",
       "      <td>2</td>\n",
       "      <td>2023</td>\n",
       "      <td>MI</td>\n",
       "      <td>CT</td>\n",
       "      <td>ML Engineer</td>\n",
       "      <td>25500</td>\n",
       "      <td>US</td>\n",
       "      <td>100</td>\n",
       "      <td>US</td>\n",
       "    </tr>\n",
       "    <tr>\n",
       "      <th>3</th>\n",
       "      <td>3</td>\n",
       "      <td>2023</td>\n",
       "      <td>SE</td>\n",
       "      <td>FT</td>\n",
       "      <td>Data Scientist</td>\n",
       "      <td>175000</td>\n",
       "      <td>CA</td>\n",
       "      <td>100</td>\n",
       "      <td>CA</td>\n",
       "    </tr>\n",
       "    <tr>\n",
       "      <th>4</th>\n",
       "      <td>4</td>\n",
       "      <td>2023</td>\n",
       "      <td>SE</td>\n",
       "      <td>FT</td>\n",
       "      <td>Data Scientist</td>\n",
       "      <td>120000</td>\n",
       "      <td>CA</td>\n",
       "      <td>100</td>\n",
       "      <td>CA</td>\n",
       "    </tr>\n",
       "  </tbody>\n",
       "</table>\n",
       "</div>"
      ],
      "text/plain": [
       "   Unnamed: 0  work_year experience_level employment_type  \\\n",
       "0           0       2023               SE              FT   \n",
       "1           1       2023               MI              CT   \n",
       "2           2       2023               MI              CT   \n",
       "3           3       2023               SE              FT   \n",
       "4           4       2023               SE              FT   \n",
       "\n",
       "                  job_title  salary_in_usd employee_residence  remote_ratio  \\\n",
       "0  Principal Data Scientist          85847                 ES           100   \n",
       "1               ML Engineer          30000                 US           100   \n",
       "2               ML Engineer          25500                 US           100   \n",
       "3            Data Scientist         175000                 CA           100   \n",
       "4            Data Scientist         120000                 CA           100   \n",
       "\n",
       "  company_location  \n",
       "0               ES  \n",
       "1               US  \n",
       "2               US  \n",
       "3               CA  \n",
       "4               CA  "
      ]
     },
     "execution_count": 35,
     "metadata": {},
     "output_type": "execute_result"
    }
   ],
   "source": [
    "df = pd.read_csv('../../../Documents/GitHub/BI-Fall-2023-Exam-Project/Data/ds_salaries2.csv')\n",
    "df.head()"
   ]
  },
  {
   "cell_type": "code",
   "execution_count": 36,
   "id": "077ee41b",
   "metadata": {},
   "outputs": [],
   "source": [
    "#new_df = df[['TRVLCMIN','TRPMILES']]\n",
    "#new_df=df.drop(['salary', 'salary_currency', 'company_size'], axis = 1)\n",
    "#new_df.to_csv('/Users/emiliocastrolagunas/Documents/GitHub/BI-Fall-2023-Exam-Project/Data/ds_salaries2.csv') #gemmer til fil\n",
    "#new_df.to_csv('../../../Documents/GitHub/BI-Fall-2023-Exam-Project/Data/ds_salaries2.csv')\n",
    "new_df=df"
   ]
  },
  {
   "cell_type": "code",
   "execution_count": 37,
   "id": "2fb9c753",
   "metadata": {},
   "outputs": [
    {
     "data": {
      "text/html": [
       "<div>\n",
       "<style scoped>\n",
       "    .dataframe tbody tr th:only-of-type {\n",
       "        vertical-align: middle;\n",
       "    }\n",
       "\n",
       "    .dataframe tbody tr th {\n",
       "        vertical-align: top;\n",
       "    }\n",
       "\n",
       "    .dataframe thead th {\n",
       "        text-align: right;\n",
       "    }\n",
       "</style>\n",
       "<table border=\"1\" class=\"dataframe\">\n",
       "  <thead>\n",
       "    <tr style=\"text-align: right;\">\n",
       "      <th></th>\n",
       "      <th>Unnamed: 0</th>\n",
       "      <th>work_year</th>\n",
       "      <th>experience_level</th>\n",
       "      <th>employment_type</th>\n",
       "      <th>job_title</th>\n",
       "      <th>salary_in_usd</th>\n",
       "      <th>employee_residence</th>\n",
       "      <th>remote_ratio</th>\n",
       "      <th>company_location</th>\n",
       "    </tr>\n",
       "  </thead>\n",
       "  <tbody>\n",
       "    <tr>\n",
       "      <th>0</th>\n",
       "      <td>0</td>\n",
       "      <td>2023</td>\n",
       "      <td>SE</td>\n",
       "      <td>FT</td>\n",
       "      <td>Principal Data Scientist</td>\n",
       "      <td>85847</td>\n",
       "      <td>ES</td>\n",
       "      <td>100</td>\n",
       "      <td>ES</td>\n",
       "    </tr>\n",
       "    <tr>\n",
       "      <th>1</th>\n",
       "      <td>1</td>\n",
       "      <td>2023</td>\n",
       "      <td>MI</td>\n",
       "      <td>CT</td>\n",
       "      <td>ML Engineer</td>\n",
       "      <td>30000</td>\n",
       "      <td>US</td>\n",
       "      <td>100</td>\n",
       "      <td>US</td>\n",
       "    </tr>\n",
       "    <tr>\n",
       "      <th>2</th>\n",
       "      <td>2</td>\n",
       "      <td>2023</td>\n",
       "      <td>MI</td>\n",
       "      <td>CT</td>\n",
       "      <td>ML Engineer</td>\n",
       "      <td>25500</td>\n",
       "      <td>US</td>\n",
       "      <td>100</td>\n",
       "      <td>US</td>\n",
       "    </tr>\n",
       "    <tr>\n",
       "      <th>3</th>\n",
       "      <td>3</td>\n",
       "      <td>2023</td>\n",
       "      <td>SE</td>\n",
       "      <td>FT</td>\n",
       "      <td>Data Scientist</td>\n",
       "      <td>175000</td>\n",
       "      <td>CA</td>\n",
       "      <td>100</td>\n",
       "      <td>CA</td>\n",
       "    </tr>\n",
       "    <tr>\n",
       "      <th>4</th>\n",
       "      <td>4</td>\n",
       "      <td>2023</td>\n",
       "      <td>SE</td>\n",
       "      <td>FT</td>\n",
       "      <td>Data Scientist</td>\n",
       "      <td>120000</td>\n",
       "      <td>CA</td>\n",
       "      <td>100</td>\n",
       "      <td>CA</td>\n",
       "    </tr>\n",
       "  </tbody>\n",
       "</table>\n",
       "</div>"
      ],
      "text/plain": [
       "   Unnamed: 0  work_year experience_level employment_type  \\\n",
       "0           0       2023               SE              FT   \n",
       "1           1       2023               MI              CT   \n",
       "2           2       2023               MI              CT   \n",
       "3           3       2023               SE              FT   \n",
       "4           4       2023               SE              FT   \n",
       "\n",
       "                  job_title  salary_in_usd employee_residence  remote_ratio  \\\n",
       "0  Principal Data Scientist          85847                 ES           100   \n",
       "1               ML Engineer          30000                 US           100   \n",
       "2               ML Engineer          25500                 US           100   \n",
       "3            Data Scientist         175000                 CA           100   \n",
       "4            Data Scientist         120000                 CA           100   \n",
       "\n",
       "  company_location  \n",
       "0               ES  \n",
       "1               US  \n",
       "2               US  \n",
       "3               CA  \n",
       "4               CA  "
      ]
     },
     "execution_count": 37,
     "metadata": {},
     "output_type": "execute_result"
    }
   ],
   "source": [
    "new_df.head()"
   ]
  },
  {
   "cell_type": "code",
   "execution_count": 38,
   "id": "79b5eaf0",
   "metadata": {},
   "outputs": [],
   "source": [
    "sal_df = new_df[df['employee_residence'].str.contains('US')]"
   ]
  },
  {
   "cell_type": "code",
   "execution_count": 40,
   "id": "bd7161cb",
   "metadata": {},
   "outputs": [
    {
     "data": {
      "text/html": [
       "<div>\n",
       "<style scoped>\n",
       "    .dataframe tbody tr th:only-of-type {\n",
       "        vertical-align: middle;\n",
       "    }\n",
       "\n",
       "    .dataframe tbody tr th {\n",
       "        vertical-align: top;\n",
       "    }\n",
       "\n",
       "    .dataframe thead th {\n",
       "        text-align: right;\n",
       "    }\n",
       "</style>\n",
       "<table border=\"1\" class=\"dataframe\">\n",
       "  <thead>\n",
       "    <tr style=\"text-align: right;\">\n",
       "      <th></th>\n",
       "      <th>work_year</th>\n",
       "      <th>experience_level</th>\n",
       "      <th>employment_type</th>\n",
       "      <th>job_title</th>\n",
       "      <th>salary_in_usd</th>\n",
       "      <th>employee_residence</th>\n",
       "      <th>remote_ratio</th>\n",
       "      <th>company_location</th>\n",
       "    </tr>\n",
       "  </thead>\n",
       "  <tbody>\n",
       "    <tr>\n",
       "      <th>1</th>\n",
       "      <td>2023</td>\n",
       "      <td>MI</td>\n",
       "      <td>CT</td>\n",
       "      <td>ML Engineer</td>\n",
       "      <td>30000</td>\n",
       "      <td>US</td>\n",
       "      <td>100</td>\n",
       "      <td>US</td>\n",
       "    </tr>\n",
       "    <tr>\n",
       "      <th>2</th>\n",
       "      <td>2023</td>\n",
       "      <td>MI</td>\n",
       "      <td>CT</td>\n",
       "      <td>ML Engineer</td>\n",
       "      <td>25500</td>\n",
       "      <td>US</td>\n",
       "      <td>100</td>\n",
       "      <td>US</td>\n",
       "    </tr>\n",
       "    <tr>\n",
       "      <th>5</th>\n",
       "      <td>2023</td>\n",
       "      <td>SE</td>\n",
       "      <td>FT</td>\n",
       "      <td>Applied Scientist</td>\n",
       "      <td>222200</td>\n",
       "      <td>US</td>\n",
       "      <td>0</td>\n",
       "      <td>US</td>\n",
       "    </tr>\n",
       "    <tr>\n",
       "      <th>6</th>\n",
       "      <td>2023</td>\n",
       "      <td>SE</td>\n",
       "      <td>FT</td>\n",
       "      <td>Applied Scientist</td>\n",
       "      <td>136000</td>\n",
       "      <td>US</td>\n",
       "      <td>0</td>\n",
       "      <td>US</td>\n",
       "    </tr>\n",
       "    <tr>\n",
       "      <th>9</th>\n",
       "      <td>2023</td>\n",
       "      <td>SE</td>\n",
       "      <td>FT</td>\n",
       "      <td>Data Scientist</td>\n",
       "      <td>147100</td>\n",
       "      <td>US</td>\n",
       "      <td>0</td>\n",
       "      <td>US</td>\n",
       "    </tr>\n",
       "  </tbody>\n",
       "</table>\n",
       "</div>"
      ],
      "text/plain": [
       "   work_year experience_level employment_type          job_title  \\\n",
       "1       2023               MI              CT        ML Engineer   \n",
       "2       2023               MI              CT        ML Engineer   \n",
       "5       2023               SE              FT  Applied Scientist   \n",
       "6       2023               SE              FT  Applied Scientist   \n",
       "9       2023               SE              FT     Data Scientist   \n",
       "\n",
       "   salary_in_usd employee_residence  remote_ratio company_location  \n",
       "1          30000                 US           100               US  \n",
       "2          25500                 US           100               US  \n",
       "5         222200                 US             0               US  \n",
       "6         136000                 US             0               US  \n",
       "9         147100                 US             0               US  "
      ]
     },
     "execution_count": 40,
     "metadata": {},
     "output_type": "execute_result"
    }
   ],
   "source": [
    "sal_df=sal_df.drop(['Unnamed: 0'], axis=1)\n",
    "sal_df.head()"
   ]
  },
  {
   "cell_type": "code",
   "execution_count": 41,
   "id": "6604c36c",
   "metadata": {},
   "outputs": [],
   "source": [
    "sal_df.reset_index(drop=True, inplace=True)"
   ]
  },
  {
   "cell_type": "code",
   "execution_count": 42,
   "id": "7323f981",
   "metadata": {},
   "outputs": [
    {
     "data": {
      "text/html": [
       "<div>\n",
       "<style scoped>\n",
       "    .dataframe tbody tr th:only-of-type {\n",
       "        vertical-align: middle;\n",
       "    }\n",
       "\n",
       "    .dataframe tbody tr th {\n",
       "        vertical-align: top;\n",
       "    }\n",
       "\n",
       "    .dataframe thead th {\n",
       "        text-align: right;\n",
       "    }\n",
       "</style>\n",
       "<table border=\"1\" class=\"dataframe\">\n",
       "  <thead>\n",
       "    <tr style=\"text-align: right;\">\n",
       "      <th></th>\n",
       "      <th>work_year</th>\n",
       "      <th>experience_level</th>\n",
       "      <th>employment_type</th>\n",
       "      <th>job_title</th>\n",
       "      <th>salary_in_usd</th>\n",
       "      <th>employee_residence</th>\n",
       "      <th>remote_ratio</th>\n",
       "      <th>company_location</th>\n",
       "    </tr>\n",
       "  </thead>\n",
       "  <tbody>\n",
       "    <tr>\n",
       "      <th>1833</th>\n",
       "      <td>2022</td>\n",
       "      <td>SE</td>\n",
       "      <td>FT</td>\n",
       "      <td>Data Analyst</td>\n",
       "      <td>171000</td>\n",
       "      <td>US</td>\n",
       "      <td>100</td>\n",
       "      <td>AU</td>\n",
       "    </tr>\n",
       "    <tr>\n",
       "      <th>1900</th>\n",
       "      <td>2022</td>\n",
       "      <td>EN</td>\n",
       "      <td>FT</td>\n",
       "      <td>3D Computer Vision Researcher</td>\n",
       "      <td>50000</td>\n",
       "      <td>US</td>\n",
       "      <td>100</td>\n",
       "      <td>CR</td>\n",
       "    </tr>\n",
       "    <tr>\n",
       "      <th>2460</th>\n",
       "      <td>2022</td>\n",
       "      <td>EN</td>\n",
       "      <td>FT</td>\n",
       "      <td>Data Scientist</td>\n",
       "      <td>50000</td>\n",
       "      <td>US</td>\n",
       "      <td>50</td>\n",
       "      <td>DE</td>\n",
       "    </tr>\n",
       "    <tr>\n",
       "      <th>2977</th>\n",
       "      <td>2021</td>\n",
       "      <td>SE</td>\n",
       "      <td>FT</td>\n",
       "      <td>Machine Learning Scientist</td>\n",
       "      <td>225000</td>\n",
       "      <td>US</td>\n",
       "      <td>100</td>\n",
       "      <td>CA</td>\n",
       "    </tr>\n",
       "    <tr>\n",
       "      <th>2988</th>\n",
       "      <td>2021</td>\n",
       "      <td>SE</td>\n",
       "      <td>FT</td>\n",
       "      <td>Data Science Manager</td>\n",
       "      <td>152000</td>\n",
       "      <td>US</td>\n",
       "      <td>100</td>\n",
       "      <td>FR</td>\n",
       "    </tr>\n",
       "  </tbody>\n",
       "</table>\n",
       "</div>"
      ],
      "text/plain": [
       "      work_year experience_level employment_type  \\\n",
       "1833       2022               SE              FT   \n",
       "1900       2022               EN              FT   \n",
       "2460       2022               EN              FT   \n",
       "2977       2021               SE              FT   \n",
       "2988       2021               SE              FT   \n",
       "\n",
       "                          job_title  salary_in_usd employee_residence  \\\n",
       "1833                   Data Analyst         171000                 US   \n",
       "1900  3D Computer Vision Researcher          50000                 US   \n",
       "2460                 Data Scientist          50000                 US   \n",
       "2977     Machine Learning Scientist         225000                 US   \n",
       "2988           Data Science Manager         152000                 US   \n",
       "\n",
       "      remote_ratio company_location  \n",
       "1833           100               AU  \n",
       "1900           100               CR  \n",
       "2460            50               DE  \n",
       "2977           100               CA  \n",
       "2988           100               FR  "
      ]
     },
     "execution_count": 42,
     "metadata": {},
     "output_type": "execute_result"
    }
   ],
   "source": [
    "non_us_locations = sal_df[~sal_df['company_location'].str.contains('US')]\n",
    "non_us_locations"
   ]
  },
  {
   "cell_type": "code",
   "execution_count": 43,
   "id": "440f983f",
   "metadata": {},
   "outputs": [
    {
     "data": {
      "text/html": [
       "<div>\n",
       "<style scoped>\n",
       "    .dataframe tbody tr th:only-of-type {\n",
       "        vertical-align: middle;\n",
       "    }\n",
       "\n",
       "    .dataframe tbody tr th {\n",
       "        vertical-align: top;\n",
       "    }\n",
       "\n",
       "    .dataframe thead th {\n",
       "        text-align: right;\n",
       "    }\n",
       "</style>\n",
       "<table border=\"1\" class=\"dataframe\">\n",
       "  <thead>\n",
       "    <tr style=\"text-align: right;\">\n",
       "      <th></th>\n",
       "      <th>work_year</th>\n",
       "      <th>experience_level</th>\n",
       "      <th>employment_type</th>\n",
       "      <th>job_title</th>\n",
       "      <th>salary_in_usd</th>\n",
       "      <th>employee_residence</th>\n",
       "      <th>remote_ratio</th>\n",
       "      <th>company_location</th>\n",
       "    </tr>\n",
       "  </thead>\n",
       "  <tbody>\n",
       "    <tr>\n",
       "      <th>0</th>\n",
       "      <td>2023</td>\n",
       "      <td>MI</td>\n",
       "      <td>CT</td>\n",
       "      <td>ML Engineer</td>\n",
       "      <td>30000</td>\n",
       "      <td>US</td>\n",
       "      <td>100</td>\n",
       "      <td>US</td>\n",
       "    </tr>\n",
       "    <tr>\n",
       "      <th>1</th>\n",
       "      <td>2023</td>\n",
       "      <td>MI</td>\n",
       "      <td>CT</td>\n",
       "      <td>ML Engineer</td>\n",
       "      <td>25500</td>\n",
       "      <td>US</td>\n",
       "      <td>100</td>\n",
       "      <td>US</td>\n",
       "    </tr>\n",
       "    <tr>\n",
       "      <th>2</th>\n",
       "      <td>2023</td>\n",
       "      <td>SE</td>\n",
       "      <td>FT</td>\n",
       "      <td>Applied Scientist</td>\n",
       "      <td>222200</td>\n",
       "      <td>US</td>\n",
       "      <td>0</td>\n",
       "      <td>US</td>\n",
       "    </tr>\n",
       "    <tr>\n",
       "      <th>3</th>\n",
       "      <td>2023</td>\n",
       "      <td>SE</td>\n",
       "      <td>FT</td>\n",
       "      <td>Applied Scientist</td>\n",
       "      <td>136000</td>\n",
       "      <td>US</td>\n",
       "      <td>0</td>\n",
       "      <td>US</td>\n",
       "    </tr>\n",
       "    <tr>\n",
       "      <th>4</th>\n",
       "      <td>2023</td>\n",
       "      <td>SE</td>\n",
       "      <td>FT</td>\n",
       "      <td>Data Scientist</td>\n",
       "      <td>147100</td>\n",
       "      <td>US</td>\n",
       "      <td>0</td>\n",
       "      <td>US</td>\n",
       "    </tr>\n",
       "    <tr>\n",
       "      <th>...</th>\n",
       "      <td>...</td>\n",
       "      <td>...</td>\n",
       "      <td>...</td>\n",
       "      <td>...</td>\n",
       "      <td>...</td>\n",
       "      <td>...</td>\n",
       "      <td>...</td>\n",
       "      <td>...</td>\n",
       "    </tr>\n",
       "    <tr>\n",
       "      <th>2999</th>\n",
       "      <td>2021</td>\n",
       "      <td>SE</td>\n",
       "      <td>FT</td>\n",
       "      <td>Data Specialist</td>\n",
       "      <td>165000</td>\n",
       "      <td>US</td>\n",
       "      <td>100</td>\n",
       "      <td>US</td>\n",
       "    </tr>\n",
       "    <tr>\n",
       "      <th>3000</th>\n",
       "      <td>2020</td>\n",
       "      <td>SE</td>\n",
       "      <td>FT</td>\n",
       "      <td>Data Scientist</td>\n",
       "      <td>412000</td>\n",
       "      <td>US</td>\n",
       "      <td>100</td>\n",
       "      <td>US</td>\n",
       "    </tr>\n",
       "    <tr>\n",
       "      <th>3001</th>\n",
       "      <td>2021</td>\n",
       "      <td>MI</td>\n",
       "      <td>FT</td>\n",
       "      <td>Principal Data Scientist</td>\n",
       "      <td>151000</td>\n",
       "      <td>US</td>\n",
       "      <td>100</td>\n",
       "      <td>US</td>\n",
       "    </tr>\n",
       "    <tr>\n",
       "      <th>3002</th>\n",
       "      <td>2020</td>\n",
       "      <td>EN</td>\n",
       "      <td>FT</td>\n",
       "      <td>Data Scientist</td>\n",
       "      <td>105000</td>\n",
       "      <td>US</td>\n",
       "      <td>100</td>\n",
       "      <td>US</td>\n",
       "    </tr>\n",
       "    <tr>\n",
       "      <th>3003</th>\n",
       "      <td>2020</td>\n",
       "      <td>EN</td>\n",
       "      <td>CT</td>\n",
       "      <td>Business Data Analyst</td>\n",
       "      <td>100000</td>\n",
       "      <td>US</td>\n",
       "      <td>100</td>\n",
       "      <td>US</td>\n",
       "    </tr>\n",
       "  </tbody>\n",
       "</table>\n",
       "<p>3004 rows × 8 columns</p>\n",
       "</div>"
      ],
      "text/plain": [
       "      work_year experience_level employment_type                 job_title  \\\n",
       "0          2023               MI              CT               ML Engineer   \n",
       "1          2023               MI              CT               ML Engineer   \n",
       "2          2023               SE              FT         Applied Scientist   \n",
       "3          2023               SE              FT         Applied Scientist   \n",
       "4          2023               SE              FT            Data Scientist   \n",
       "...         ...              ...             ...                       ...   \n",
       "2999       2021               SE              FT           Data Specialist   \n",
       "3000       2020               SE              FT            Data Scientist   \n",
       "3001       2021               MI              FT  Principal Data Scientist   \n",
       "3002       2020               EN              FT            Data Scientist   \n",
       "3003       2020               EN              CT     Business Data Analyst   \n",
       "\n",
       "      salary_in_usd employee_residence  remote_ratio company_location  \n",
       "0             30000                 US           100               US  \n",
       "1             25500                 US           100               US  \n",
       "2            222200                 US             0               US  \n",
       "3            136000                 US             0               US  \n",
       "4            147100                 US             0               US  \n",
       "...             ...                ...           ...              ...  \n",
       "2999         165000                 US           100               US  \n",
       "3000         412000                 US           100               US  \n",
       "3001         151000                 US           100               US  \n",
       "3002         105000                 US           100               US  \n",
       "3003         100000                 US           100               US  \n",
       "\n",
       "[3004 rows x 8 columns]"
      ]
     },
     "execution_count": 43,
     "metadata": {},
     "output_type": "execute_result"
    }
   ],
   "source": [
    "sal_df"
   ]
  },
  {
   "cell_type": "markdown",
   "id": "240f8617",
   "metadata": {},
   "source": [
    "work_year - The year the salary was paid.\n",
    "\n",
    "experience_level - The experience level in the job during the year with the following possible values: EN Entry-level / Junior MI Mid-level / Intermediate SE Senior-level / Expert EX Executive-level / Director\n",
    "\n",
    "employment_type - The type of employement for the role: PT Part-time FT Full-time CT Contract FL Freelance\n",
    "\n",
    "job_title - The role worked in during the year.\n",
    "\n",
    "salary - The total gross salary amount paid.\n",
    "\n",
    "salary_currency - The currency of the salary paid as an ISO 4217 currency code.\n",
    "\n",
    "salary_in_usd - The salary in USD (FX rate divided by avg. USD rate for the respective year via fxdata.foorilla.com).\n",
    "\n",
    "employee_residence - Employee's primary country of residence in during the work year as an ISO 3166 country code.\n",
    "\n",
    "remote_ratio - The overall amount of work done remotely, possible values are as follows: 0 No remote work (less than 20%) 50 Partially remote 100 Fully remote (more than 80%)\n",
    "\n",
    "company_location - The country of the employer's main office or contracting branch as an ISO 3166 country code.\n",
    "\n",
    "company_size - The average number of people that worked for the company during the year: S less than 50 employees (small) M 50 to 250 employees (medium) L more than 250 employees (large)"
   ]
  },
  {
   "cell_type": "code",
   "execution_count": 33,
   "id": "1d252d0b",
   "metadata": {},
   "outputs": [
    {
     "data": {
      "text/html": [
       "<div>\n",
       "<style scoped>\n",
       "    .dataframe tbody tr th:only-of-type {\n",
       "        vertical-align: middle;\n",
       "    }\n",
       "\n",
       "    .dataframe tbody tr th {\n",
       "        vertical-align: top;\n",
       "    }\n",
       "\n",
       "    .dataframe thead th {\n",
       "        text-align: right;\n",
       "    }\n",
       "</style>\n",
       "<table border=\"1\" class=\"dataframe\">\n",
       "  <thead>\n",
       "    <tr style=\"text-align: right;\">\n",
       "      <th></th>\n",
       "      <th>TRVLCMIN</th>\n",
       "      <th>TRPMILES</th>\n",
       "    </tr>\n",
       "  </thead>\n",
       "  <tbody>\n",
       "    <tr>\n",
       "      <th>0</th>\n",
       "      <td>15</td>\n",
       "      <td>5.244</td>\n",
       "    </tr>\n",
       "    <tr>\n",
       "      <th>1</th>\n",
       "      <td>20</td>\n",
       "      <td>5.149</td>\n",
       "    </tr>\n",
       "    <tr>\n",
       "      <th>2</th>\n",
       "      <td>120</td>\n",
       "      <td>84.004</td>\n",
       "    </tr>\n",
       "    <tr>\n",
       "      <th>3</th>\n",
       "      <td>150</td>\n",
       "      <td>81.628</td>\n",
       "    </tr>\n",
       "    <tr>\n",
       "      <th>4</th>\n",
       "      <td>15</td>\n",
       "      <td>2.250</td>\n",
       "    </tr>\n",
       "  </tbody>\n",
       "</table>\n",
       "</div>"
      ],
      "text/plain": [
       "   TRVLCMIN  TRPMILES\n",
       "0        15     5.244\n",
       "1        20     5.149\n",
       "2       120    84.004\n",
       "3       150    81.628\n",
       "4        15     2.250"
      ]
     },
     "execution_count": 33,
     "metadata": {},
     "output_type": "execute_result"
    }
   ],
   "source": [
    "df_travel= pd.read_csv('../../../Documents/GitHub/BI-Fall-2023-Exam-Project/Data/traveldistmin.csv')\n",
    "df_travel=df_travel.drop(['Unnamed: 0'], axis=1)\n",
    "df_travel.head()\n"
   ]
  },
  {
   "cell_type": "code",
   "execution_count": 34,
   "id": "ef6f4790",
   "metadata": {},
   "outputs": [
    {
     "data": {
      "text/html": [
       "<div>\n",
       "<style scoped>\n",
       "    .dataframe tbody tr th:only-of-type {\n",
       "        vertical-align: middle;\n",
       "    }\n",
       "\n",
       "    .dataframe tbody tr th {\n",
       "        vertical-align: top;\n",
       "    }\n",
       "\n",
       "    .dataframe thead th {\n",
       "        text-align: right;\n",
       "    }\n",
       "</style>\n",
       "<table border=\"1\" class=\"dataframe\">\n",
       "  <thead>\n",
       "    <tr style=\"text-align: right;\">\n",
       "      <th></th>\n",
       "      <th>TRVLCMIN</th>\n",
       "      <th>TRPMILES</th>\n",
       "    </tr>\n",
       "  </thead>\n",
       "  <tbody>\n",
       "    <tr>\n",
       "      <th>count</th>\n",
       "      <td>923572.000000</td>\n",
       "      <td>923572.000000</td>\n",
       "    </tr>\n",
       "    <tr>\n",
       "      <th>mean</th>\n",
       "      <td>21.557486</td>\n",
       "      <td>11.436043</td>\n",
       "    </tr>\n",
       "    <tr>\n",
       "      <th>std</th>\n",
       "      <td>32.884552</td>\n",
       "      <td>74.559992</td>\n",
       "    </tr>\n",
       "    <tr>\n",
       "      <th>min</th>\n",
       "      <td>-9.000000</td>\n",
       "      <td>-9.000000</td>\n",
       "    </tr>\n",
       "    <tr>\n",
       "      <th>25%</th>\n",
       "      <td>8.000000</td>\n",
       "      <td>1.335000</td>\n",
       "    </tr>\n",
       "    <tr>\n",
       "      <th>50%</th>\n",
       "      <td>15.000000</td>\n",
       "      <td>3.443000</td>\n",
       "    </tr>\n",
       "    <tr>\n",
       "      <th>75%</th>\n",
       "      <td>25.000000</td>\n",
       "      <td>8.743000</td>\n",
       "    </tr>\n",
       "    <tr>\n",
       "      <th>max</th>\n",
       "      <td>1200.000000</td>\n",
       "      <td>9621.053000</td>\n",
       "    </tr>\n",
       "  </tbody>\n",
       "</table>\n",
       "</div>"
      ],
      "text/plain": [
       "            TRVLCMIN       TRPMILES\n",
       "count  923572.000000  923572.000000\n",
       "mean       21.557486      11.436043\n",
       "std        32.884552      74.559992\n",
       "min        -9.000000      -9.000000\n",
       "25%         8.000000       1.335000\n",
       "50%        15.000000       3.443000\n",
       "75%        25.000000       8.743000\n",
       "max      1200.000000    9621.053000"
      ]
     },
     "execution_count": 34,
     "metadata": {},
     "output_type": "execute_result"
    }
   ],
   "source": [
    "df_travel.describe()\n",
    "#The extreme values should be taken into account in this  analysis\n",
    "#For example, high extreme values would be an indicator of remote working being a positive\n",
    "#Negative values doesnt make any sense."
   ]
  },
  {
   "cell_type": "code",
   "execution_count": 35,
   "id": "f2132e35",
   "metadata": {},
   "outputs": [
    {
     "data": {
      "text/plain": [
       "<matplotlib.collections.PathCollection at 0x1f30220ab10>"
      ]
     },
     "execution_count": 35,
     "metadata": {},
     "output_type": "execute_result"
    },
    {
     "data": {
      "image/png": "[encoded data removed]",
      "text/plain": [
       "<Figure size 640x480 with 1 Axes>"
      ]
     },
     "metadata": {},
     "output_type": "display_data"
    }
   ],
   "source": [
    "#As seen in the scatterplot below, there's some really odd values.\n",
    "#A travel time close to 0 with more than 1000 miles traveled is impossible\n",
    "plt.xlabel('TRVLCMIN')\n",
    "plt.ylabel('TRPMILES')\n",
    "plt.scatter(df_travel.TRVLCMIN, df_travel.TRPMILES, color='green')"
   ]
  },
  {
   "cell_type": "code",
   "execution_count": 26,
   "id": "90633ea4",
   "metadata": {},
   "outputs": [
    {
     "name": "stdout",
     "output_type": "stream",
     "text": [
      "Updated DataFrame:\n",
      "        TRVLCMIN  TRPMILES\n",
      "0             15     5.244\n",
      "1             20     5.149\n",
      "2            120    84.004\n",
      "3            150    81.628\n",
      "4             15     2.250\n",
      "...          ...       ...\n",
      "923560        12     4.778\n",
      "923561        26     9.115\n",
      "923564        29     9.562\n",
      "923565        26     9.115\n",
      "923566        29     9.562\n",
      "\n",
      "[737646 rows x 2 columns]\n"
     ]
    }
   ],
   "source": [
    "#We made our own breakpoint for when we find the data valuable, which is as long as the miles and minutes -\n",
    "# - are within the 8 times of each other, and removed all of the rows with 0-values\n",
    "# Drop rows with 0 values in 'TRPMILES' or 'TRVLCMIN'\n",
    "df_travel = df_travel[(df_travel['TRPMILES'] != 0) & (df_travel['TRVLCMIN'] != 0)]\n",
    "\n",
    "# Drop rows where one value is 8 times greater than the other in the same row\n",
    "df_travel = df_travel[~((df_travel['TRPMILES'] >= 8 * df_travel['TRVLCMIN']) | (df_travel['TRVLCMIN'] >= 8 * df_travel['TRPMILES']))]\n",
    "\n",
    "print(\"Updated DataFrame:\")\n",
    "print(df_travel)\n"
   ]
  },
  {
   "cell_type": "code",
   "execution_count": 30,
   "id": "ae31b155",
   "metadata": {},
   "outputs": [
    {
     "name": "stdout",
     "output_type": "stream",
     "text": [
      "0\n"
     ]
    }
   ],
   "source": [
    "count_of_zeros_miles = np.count_nonzero(df_travel.TRPMILES == 0)\n",
    "print(count_of_zeros_miles)"
   ]
  },
  {
   "cell_type": "code",
   "execution_count": 31,
   "id": "a3a2a729",
   "metadata": {},
   "outputs": [
    {
     "name": "stdout",
     "output_type": "stream",
     "text": [
      "0\n"
     ]
    }
   ],
   "source": [
    "count_of_zeros_mins = np.count_nonzero(df_travel.TRVLCMIN == 0)\n",
    "print(count_of_zeros_mins)"
   ]
  },
  {
   "cell_type": "code",
   "execution_count": 27,
   "id": "43ff5c4d",
   "metadata": {},
   "outputs": [
    {
     "data": {
      "text/plain": [
       "<matplotlib.collections.PathCollection at 0x1f301cec810>"
      ]
     },
     "execution_count": 27,
     "metadata": {},
     "output_type": "execute_result"
    },
    {
     "data": {
      "image/png": "[encoded data removed]",
      "text/plain": [
       "<Figure size 640x480 with 1 Axes>"
      ]
     },
     "metadata": {},
     "output_type": "display_data"
    }
   ],
   "source": [
    "# As seen below this data looks much more reasonable\n",
    "plt.xlabel('TRVLCMIN')\n",
    "plt.ylabel('TRPMILES')\n",
    "plt.scatter(df_travel.TRVLCMIN, df_travel.TRPMILES, color='green')"
   ]
  },
  {
   "cell_type": "code",
   "execution_count": 28,
   "id": "ef475337",
   "metadata": {},
   "outputs": [
    {
     "data": {
      "text/html": [
       "<div>\n",
       "<style scoped>\n",
       "    .dataframe tbody tr th:only-of-type {\n",
       "        vertical-align: middle;\n",
       "    }\n",
       "\n",
       "    .dataframe tbody tr th {\n",
       "        vertical-align: top;\n",
       "    }\n",
       "\n",
       "    .dataframe thead th {\n",
       "        text-align: right;\n",
       "    }\n",
       "</style>\n",
       "<table border=\"1\" class=\"dataframe\">\n",
       "  <thead>\n",
       "    <tr style=\"text-align: right;\">\n",
       "      <th></th>\n",
       "      <th>TRVLCMIN</th>\n",
       "      <th>TRPMILES</th>\n",
       "    </tr>\n",
       "  </thead>\n",
       "  <tbody>\n",
       "    <tr>\n",
       "      <th>count</th>\n",
       "      <td>737646.000000</td>\n",
       "      <td>737646.000000</td>\n",
       "    </tr>\n",
       "    <tr>\n",
       "      <th>mean</th>\n",
       "      <td>22.405099</td>\n",
       "      <td>12.677658</td>\n",
       "    </tr>\n",
       "    <tr>\n",
       "      <th>std</th>\n",
       "      <td>32.473744</td>\n",
       "      <td>54.363180</td>\n",
       "    </tr>\n",
       "    <tr>\n",
       "      <th>min</th>\n",
       "      <td>1.000000</td>\n",
       "      <td>0.126000</td>\n",
       "    </tr>\n",
       "    <tr>\n",
       "      <th>25%</th>\n",
       "      <td>10.000000</td>\n",
       "      <td>2.276000</td>\n",
       "    </tr>\n",
       "    <tr>\n",
       "      <th>50%</th>\n",
       "      <td>15.000000</td>\n",
       "      <td>4.774000</td>\n",
       "    </tr>\n",
       "    <tr>\n",
       "      <th>75%</th>\n",
       "      <td>25.000000</td>\n",
       "      <td>10.839000</td>\n",
       "    </tr>\n",
       "    <tr>\n",
       "      <th>max</th>\n",
       "      <td>1140.000000</td>\n",
       "      <td>5315.834000</td>\n",
       "    </tr>\n",
       "  </tbody>\n",
       "</table>\n",
       "</div>"
      ],
      "text/plain": [
       "            TRVLCMIN       TRPMILES\n",
       "count  737646.000000  737646.000000\n",
       "mean       22.405099      12.677658\n",
       "std        32.473744      54.363180\n",
       "min         1.000000       0.126000\n",
       "25%        10.000000       2.276000\n",
       "50%        15.000000       4.774000\n",
       "75%        25.000000      10.839000\n",
       "max      1140.000000    5315.834000"
      ]
     },
     "execution_count": 28,
     "metadata": {},
     "output_type": "execute_result"
    }
   ],
   "source": [
    "df_travel.describe()"
   ]
  },
  {
   "cell_type": "code",
   "execution_count": null,
   "id": "982e1a00",
   "metadata": {},
   "outputs": [],
   "source": [
    "#And now we can (roughly) tell that the average travel time is 22,4 minutes\n",
    "# And average travel distance is 12,7 miles"
   ]
  },
  {
   "cell_type": "markdown",
   "id": "7e72bf9c",
   "metadata": {},
   "source": [
    "## Stage 3: Solution Prototype\n",
    "### Objective: Using data and analysis for building predictive models\n",
    "Extend the data analysis by implementing machine learning and deep learning methods and algorithms.\n",
    "1. Select relevant methods that could solve the problem. Train, test and validate data models by use of\n",
    "supervised and unsupervised methods, neural networks or graphs.\n",
    "2. Select and apply appropriate measures for assessing the quality of your models. Iterate the process to\n",
    "explore possibilities for improvement the quality of the models.\n",
    "\n",
    "Publish the new version of your solution in Github as a prototype."
   ]
  },
  {
   "cell_type": "code",
   "execution_count": 36,
   "id": "9f464321",
   "metadata": {},
   "outputs": [
    {
     "data": {
      "image/png": "[encoded data removed]",
      "text/plain": [
       "<Figure size 640x480 with 1 Axes>"
      ]
     },
     "metadata": {},
     "output_type": "display_data"
    }
   ],
   "source": [
    "df_remoteWork = pd.read_excel('../../../Documents/GitHub/BI-Fall-2023-Exam-Project/Data/statistic_id1356325_us-workers-working-hybrid-or-remote-vs-on-site-2019-q4-2022.xlsx', sheet_name='Data')\n",
    "\n",
    "\n",
    "# Create a figure and axis\n",
    "fig, ax = plt.subplots()\n",
    "\n",
    "# Plot the lines using the DataFrame columns\n",
    "ax.plot(df_remoteWork['Period'], df_remoteWork['Hybrid'], label='Hybrid', marker='o')\n",
    "ax.plot(df_remoteWork['Period'], df_remoteWork['Remote'], label='Remote', marker='o')\n",
    "ax.plot(df_remoteWork['Period'], df_remoteWork['On-site'], label='On-site', marker='o')\n",
    "\n",
    "# Add labels and title\n",
    "ax.set_xlabel('Period')\n",
    "ax.set_ylabel('Count')\n",
    "ax.set_title('Hybrid vs. Remote vs. On-site')\n",
    "\n",
    "# Add a legend\n",
    "ax.legend()\n",
    "\n",
    "# Show the plot\n",
    "plt.xticks(rotation=45)\n",
    "plt.tight_layout()\n",
    "plt.show()"
   ]
  },
  {
   "cell_type": "code",
   "execution_count": null,
   "id": "0b1b2902",
   "metadata": {},
   "outputs": [],
   "source": []
  },
  {
   "cell_type": "markdown",
   "id": "83d8d0e5",
   "metadata": {},
   "source": [
    "## Stage 4: Visualisation, Explanation and Usability Evaluation\n",
    "### Objective: Present the process and the results of the analysis in human-understandable form\n",
    "Extend your solution with visualisation, explanation and interpretation of the results:\n",
    "1. Design and develop visual representation of the data, the analysis process, the applied methods and usage\n",
    "scenarios. Consider the use of animation, 3D or VR visualisation, as appropriate.\n",
    "2. Create a simple visual interface of the application to make it accessible and interactive for other users.\n",
    "3. Present the visualised prototype to potential users for usability evaluation. Take notes and implement the\n",
    "relevant feedback outcomes. Elaborate on the benefits of applying visualisation and explanation\n",
    "techniques for data analytics.\n",
    "\n",
    "Revise, complete, and deliver the final solution to Github and a link to it in Wiseflow."
   ]
  },
  {
   "cell_type": "code",
   "execution_count": null,
   "id": "ac886870",
   "metadata": {},
   "outputs": [],
   "source": []
  }
 ],
 "metadata": {
  "kernelspec": {
   "display_name": "Python 3 (ipykernel)",
   "language": "python",
   "name": "python3"
  },
  "language_info": {
   "codemirror_mode": {
    "name": "ipython",
    "version": 3
   },
   "file_extension": ".py",
   "mimetype": "text/x-python",
   "name": "python",
   "nbconvert_exporter": "python",
   "pygments_lexer": "ipython3",
   "version": "3.11.4"
  }
 },
 "nbformat": 4,
 "nbformat_minor": 5
}
