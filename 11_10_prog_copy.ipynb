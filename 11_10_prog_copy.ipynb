{
 "cells": [
  {
   "cell_type": "markdown",
   "id": "db79ea46",
   "metadata": {},
   "source": [
    "# Business Intelligence Fall 2023 Exam Project\n",
    "\n",
    "This project is designed as experimental research and development of BI implementation solution. It involves systematic and creative work of finding novel, uncertain, and reproducible results by applying modern BI and artificial intelligence (AI) technologies in a context. \n",
    "\n",
    "The development workflow goes through four stages and milestones, each of which has an objective, tasks,\n",
    "and deliverables."
   ]
  },
  {
   "cell_type": "markdown",
   "id": "925374a6",
   "metadata": {},
   "source": [
    "## Stage 1: Problem Definition\n",
    "### Objective: Foundation of a business case and problem statement\n",
    "\n",
    "https://www.kaggle.com/datasets/arnabchaki/data-science-salaries-2023/data\n",
    "\n",
    "1. At this stage you brainstorm, browse sources of inspiration and information, collect ideas and discuss business or social domains, where BI and AI can bring a value.\n",
    "2. Choose one of your ideas and define context, purpose, research questions, and hypotheses for a BI problem statement. Write a brief annotation of your project, in about four sentences, explaining:\n",
    "     - which challenge you would like to address?\n",
    "     - why is it important or interesting research goal?\n",
    "     - what is the expected solution your project would provide?\n",
    "     - what would be the impact of the solution and which category of users could benefit from it?\n",
    "3. Prepare the development environment\n",
    "     - give a title to your project\n",
    "     - plan and organise the execution of the individual tasks in terms of time, milestones, deliverables, team members engagement\n",
    "     - prepare the development platform and procedures – Github repository, IDE, software tools\n",
    "4. Create and upload the initial project document with the information from above in a .md file in your repository as an initial release of the project. "
   ]
  },
  {
   "cell_type": "markdown",
   "id": "a764e200",
   "metadata": {},
   "source": [
    "## Stage 2: Data Preparation\n"
   ]
  },
  {
   "cell_type": "code",
   "execution_count": null,
   "id": "90284c77",
   "metadata": {},
   "outputs": [],
   "source": [
    "import numpy as np\n",
    "import pandas as pd\n",
    "import matplotlib.pyplot as plt\n",
    "\n",
    "from sklearn.model_selection import train_test_split\n",
    "from sklearn import linear_model\n",
    "from sklearn.linear_model import LinearRegression\n",
    "import sklearn.metrics as sm\n",
    "import seaborn as sns\n",
    "from sklearn.preprocessing import PolynomialFeatures\n",
    "from sklearn.metrics import r2_score"
   ]
  },
  {
   "cell_type": "markdown",
   "id": "1ed95203",
   "metadata": {},
   "source": [
    "### Objective: Data collection, exploration and pre-processing\n",
    "Based on the ideas and assumptions defined at the previous stage:\n",
    "1. Collect and load relevant data from various sources\n",
    "2. Clean and integrate the collected data in appropriate data structures. Apply any transformations needed for the integration and the operations - ETL (Extract Transform Load) or ELT (Extract Load Transform).\n",
    "3. Explore the data by applying measures from statistics to discover its basic features. Create charts and diagrams to visualize the features for better understanding and support of further decisions.\n",
    "4. Apply the necessary pre-processing to prepare the data for machine learning analysis, ensuring that the data is:\n",
    "    - Meaningful – describes relevant and correctly measured features and observations.\n",
    "    - Sufficient – describes various cases and feature occurrences, decided by testing.\n",
    "    - Shaped – presented in a structure, appropriate for processing by machine learning algorithms.\n",
    "    - Cleaned – repaired from missing values and outliners.\n",
    "    - Scaled – transform data distributions in comparable scales, when necessary.\n",
    "    - Engineered – analyse all features and select the most informative for further processing.\n",
    "    \n",
    "Export your initial version of the solution to the Github repository."
   ]
  },
  {
   "cell_type": "code",
   "execution_count": null,
   "id": "8d8a58f2",
   "metadata": {},
   "outputs": [],
   "source": [
    "#Dresen Links:\n",
    "#df_travel= pd.read_csv('../../../../OneDrive/Dokumenter/GitHub/github-bi/BI-Fall-2023-Exam-Project/Data/traveldistmin.csv')\n",
    "#df_infl= pd.read_csv('../../../../OneDrive/Dokumenter/GitHub/github-bi/BI-Fall-2023-Exam-Project/Data/US_inflation_rates.csv')\n",
    "#df_remoteWork = pd.read_excel('../../../../OneDrive/Dokumenter/GitHub/github-bi/BI-Fall-2023-Exam-Project/Data/statistic_id1356325_us-workers-working-hybrid-or-remote-vs-on-site-2019-q4-2022.xlsx', sheet_name='Data')\n",
    "#df_happiness = pd.read_excel('../../../../OneDrive/Dokumenter/GitHub/github-bi/BI-Fall-2023-Exam-Project/Data/statistic_id1111316_struggles-with-working-remotely-2020-2022.xlsx', sheet_name='Data')\n",
    "#df = pd.read_csv('../../../../OneDrive/Dokumenter/GitHub/github-bi/BI-Fall-2023-Exam-Project/Data/ds_salaries2.csv')"
   ]
  },
  {
   "cell_type": "code",
   "execution_count": null,
   "id": "dac5fc0d",
   "metadata": {},
   "outputs": [],
   "source": [
    "#df_travel= pd.read_csv('../../../Documents/GitHub/BI-Fall-2023-Exam-Project/Data/traveldistmin.csv')\n",
    "#df_infl= pd.read_csv('../../../Documents/GitHub/BI-Fall-2023-Exam-Project/Data/US_inflation_rates.csv')\n",
    "#df_remoteWork = pd.read_excel('../../../Documents/GitHub/BI-Fall-2023-Exam-Project/Data/statistic_id1356325_us-workers-working-hybrid-or-remote-vs-on-site-2019-q4-2022.xlsx', sheet_name='Data')\n",
    "#df_happiness = pd.read_excel('../../../Documents/GitHub/BI-Fall-2023-Exam-Project/Data/statistic_id1111316_struggles-with-working-remotely-2020-2022.xlsx', sheet_name='Data')\n",
    "#df_sal = pd.read_csv('../../../Documents/GitHub/BI-Fall-2023-Exam-Project/Data/ds_salaries2.csv')\n",
    "df_gas = pd.read_excel('../../../Documents/GitHub/BI-Fall-2023-Exam-Project/Data/statistic_id204740_annual-gas-prices-in-the-united-states-1990-2022.xlsx', sheet_name='Data')\n",
    "df_gas.describe()\n"
   ]
  },
  {
   "cell_type": "code",
   "execution_count": null,
   "id": "e09a19db",
   "metadata": {},
   "outputs": [],
   "source": [
    "df_inflation= pd.read_csv('../../../Documents/GitHub/BI-Fall-2023-Exam-Project/Data/US_inflation_rates.csv')\n",
    "\n",
    "df_inflation.head()"
   ]
  },
  {
   "cell_type": "code",
   "execution_count": null,
   "id": "6fe8e6f3",
   "metadata": {},
   "outputs": [],
   "source": [
    "list(df_inflation)"
   ]
  },
  {
   "cell_type": "code",
   "execution_count": null,
   "id": "648a8ca3",
   "metadata": {},
   "outputs": [],
   "source": [
    "df_inflation"
   ]
  },
  {
   "cell_type": "code",
   "execution_count": null,
   "id": "6fd4bde6",
   "metadata": {},
   "outputs": [],
   "source": [
    "df_inflation.info()"
   ]
  },
  {
   "cell_type": "code",
   "execution_count": null,
   "id": "81c87765",
   "metadata": {},
   "outputs": [],
   "source": [
    "df_inflation.isnull().sum()"
   ]
  },
  {
   "cell_type": "code",
   "execution_count": null,
   "id": "4c94bcc1",
   "metadata": {},
   "outputs": [],
   "source": [
    "sns.heatmap(df_inflation.isnull(), yticklabels = False, cbar = False, cmap = 'viridis')"
   ]
  },
  {
   "cell_type": "code",
   "execution_count": null,
   "id": "0cff6128",
   "metadata": {},
   "outputs": [],
   "source": [
    "df_inflation.describe()"
   ]
  },
  {
   "cell_type": "code",
   "execution_count": null,
   "id": "5a010615",
   "metadata": {},
   "outputs": [],
   "source": [
    "df_inflation.sample(5)"
   ]
  },
  {
   "cell_type": "code",
   "execution_count": null,
   "id": "6acd9625",
   "metadata": {},
   "outputs": [],
   "source": [
    "# Convert the 'date' column to datetime if it's not already\n",
    "df_inflation['date'] = pd.to_datetime(df_inflation['date'])\n",
    "\n",
    "# Extract the year from the 'date' column\n",
    "df_inflation['year'] = df_inflation['date'].dt.year"
   ]
  },
  {
   "cell_type": "code",
   "execution_count": null,
   "id": "f34134f7",
   "metadata": {},
   "outputs": [],
   "source": [
    "# plot the cleaned dataframe from the US Inflation dataset\n",
    "plt.xlabel('year')\n",
    "plt.ylabel('value')\n",
    "plt.scatter(df_inflation.date, df_inflation.value, color='red')\n",
    "plt.title('US Inflation Rate Over Time (Every 12th year)')\n",
    "# Set the x-axis ticks to show only every year\n",
    "plt.xticks(rotation=45)  # Rotate x-axis labels for readability\n",
    "plt.gca().xaxis.set_major_locator(plt.MaxNLocator(integer=True))  # Show only integer values on the x-axis\n",
    "plt.show()\n"
   ]
  },
  {
   "cell_type": "code",
   "execution_count": null,
   "id": "b61b229a",
   "metadata": {},
   "outputs": [],
   "source": [
    "df_inflation.head()"
   ]
  },
  {
   "cell_type": "code",
   "execution_count": null,
   "id": "1478c8e9",
   "metadata": {},
   "outputs": [],
   "source": [
    "# Filter the DataFrame to include only the first 12 years of data\n",
    "#start_year = min(df_inflation.date.dt.year)\n",
    "#end_year = start_year + 12\n",
    "#filtered_df = df_inflation[(df_inflation.date.dt.year >= start_year) & (df_inflation.date.dt.year <= end_year)]\n",
    "\n",
    "# Create the scatter plot with the filtered data\n",
    "#plt.xlabel('Year')\n",
    "#plt.ylabel('Inflation Value')\n",
    "#plt.scatter(filtered_df.date, filtered_df.value, color='red')\n",
    "#plt.title('US Inflation Rate Over the First 12 Years (1947-1960)')\n",
    "#plt.xticks(rotation=45)  # Rotate x-axis labels for readability\n",
    "#plt.gca().xaxis.set_major_locator(plt.MaxNLocator(integer=True))  # Show only integer values on the x-axis\n",
    "#plt.show()"
   ]
  },
  {
   "cell_type": "code",
   "execution_count": null,
   "id": "b5551584",
   "metadata": {},
   "outputs": [],
   "source": [
    "# Create a histogram of the years\n",
    "#sns.histplot(filtered_df['year'], label='year')\n",
    "sns.distplot(df_inflation['year'], label='year', norm_hist=True)"
   ]
  },
  {
   "cell_type": "code",
   "execution_count": null,
   "id": "56e59317",
   "metadata": {},
   "outputs": [],
   "source": [
    "# Create a histogram of the years\n",
    "sns.distplot(df_inflation['value'], label='value', norm_hist=True)"
   ]
  },
  {
   "cell_type": "markdown",
   "id": "370ea590",
   "metadata": {},
   "source": [
    "### Train the data model"
   ]
  },
  {
   "cell_type": "markdown",
   "id": "e77fabc7",
   "metadata": {},
   "source": [
    "#### Split the Data in Dependent y and Independent X Data Sets"
   ]
  },
  {
   "cell_type": "code",
   "execution_count": null,
   "id": "65ecb0c4",
   "metadata": {},
   "outputs": [],
   "source": [
    "X = df_inflation['year'].values.reshape(-1, 1)"
   ]
  },
  {
   "cell_type": "code",
   "execution_count": null,
   "id": "02266a37",
   "metadata": {},
   "outputs": [],
   "source": [
    "y = df_inflation['value'].values.reshape(-1, 1)"
   ]
  },
  {
   "cell_type": "code",
   "execution_count": null,
   "id": "a0b6662b",
   "metadata": {},
   "outputs": [],
   "source": [
    "plt.xlabel('year')\n",
    "plt.ylabel('value')\n",
    "plt.scatter(X, y, color = 'red')\n",
    "plt.show()"
   ]
  },
  {
   "cell_type": "code",
   "execution_count": null,
   "id": "136c14f3",
   "metadata": {},
   "outputs": [],
   "source": [
    "df_inflation.head()"
   ]
  },
  {
   "cell_type": "markdown",
   "id": "4b15a171",
   "metadata": {},
   "source": [
    "#### Split the Data in Training and Testing Sets"
   ]
  },
  {
   "cell_type": "code",
   "execution_count": null,
   "id": "e5d1000e",
   "metadata": {},
   "outputs": [],
   "source": [
    "X_train, X_test, y_train, y_test = train_test_split(X, y, random_state=123, test_size=0.2)"
   ]
  },
  {
   "cell_type": "code",
   "execution_count": null,
   "id": "93645df2",
   "metadata": {},
   "outputs": [],
   "source": [
    "print(X_train.shape)\n",
    "print(y_train.shape)\n",
    "print(X_test.shape)\n",
    "print(y_test.shape)"
   ]
  },
  {
   "cell_type": "code",
   "execution_count": null,
   "id": "8c8647b8",
   "metadata": {},
   "outputs": [],
   "source": [
    "y_test"
   ]
  },
  {
   "cell_type": "code",
   "execution_count": null,
   "id": "7eea4355",
   "metadata": {},
   "outputs": [],
   "source": [
    "myreg = LinearRegression()"
   ]
  },
  {
   "cell_type": "code",
   "execution_count": null,
   "id": "f5f31659",
   "metadata": {},
   "outputs": [],
   "source": [
    "myreg.fit(X_train, y_train)\n",
    "myreg"
   ]
  },
  {
   "cell_type": "code",
   "execution_count": null,
   "id": "1f25dc61",
   "metadata": {},
   "outputs": [],
   "source": [
    "a = myreg.coef_\n",
    "b = myreg.intercept_"
   ]
  },
  {
   "cell_type": "code",
   "execution_count": null,
   "id": "e539f471",
   "metadata": {},
   "outputs": [],
   "source": [
    "a"
   ]
  },
  {
   "cell_type": "code",
   "execution_count": null,
   "id": "38e2fe7c",
   "metadata": {},
   "outputs": [],
   "source": [
    "b"
   ]
  },
  {
   "cell_type": "code",
   "execution_count": null,
   "id": "d0902d65",
   "metadata": {},
   "outputs": [],
   "source": [
    "y_predicted = myreg.predict(X_test)\n",
    "y_predicted"
   ]
  },
  {
   "cell_type": "code",
   "execution_count": null,
   "id": "49ba6eb1",
   "metadata": {},
   "outputs": [],
   "source": [
    "# Visualize the Linear Regression\n",
    "plt.title('Linear Regression')\n",
    "plt.scatter(X, y, color='green')\n",
    "plt.plot(X_train, a*X_train + b, color='blue')\n",
    "plt.plot(X_test, y_predicted, color='orange')\n",
    "plt.xlabel('date by year')\n",
    "plt.ylabel('value')\n",
    "plt.show()"
   ]
  },
  {
   "cell_type": "code",
   "execution_count": null,
   "id": "0a48e026",
   "metadata": {},
   "outputs": [],
   "source": [
    "R2 = myreg.score(X, y)\n",
    "R2"
   ]
  },
  {
   "cell_type": "markdown",
   "id": "82980775",
   "metadata": {},
   "source": [
    "### Polytfit\n",
    "#### Split the Data in Dependent y and Independent X Data Sets"
   ]
  },
  {
   "cell_type": "code",
   "execution_count": null,
   "id": "0ba1c42a",
   "metadata": {},
   "outputs": [],
   "source": [
    "X, y = df_inflation.year, df_inflation.value"
   ]
  },
  {
   "cell_type": "markdown",
   "id": "c6d2b358",
   "metadata": {},
   "source": [
    "#### Split the Data in Training and Testing Sets"
   ]
  },
  {
   "cell_type": "code",
   "execution_count": null,
   "id": "4aceb77e",
   "metadata": {},
   "outputs": [],
   "source": [
    "# split the set into subsets for training and testing\n",
    "from sklearn.model_selection import train_test_split\n",
    "\n",
    "# default proportion is 75:25\n",
    "# X_train, X_test, y_train, y_test = train_test_split(X, y, random_state=1)\n",
    "X_train, X_test, y_train, y_test = train_test_split(X, y, random_state=1, test_size=0.2) "
   ]
  },
  {
   "cell_type": "code",
   "execution_count": null,
   "id": "918ed81c",
   "metadata": {},
   "outputs": [],
   "source": [
    "# the shape of the subsets\n",
    "print(X_train.shape)\n",
    "print(y_train.shape)\n",
    "print(X_test.shape)\n",
    "print(y_test.shape)"
   ]
  },
  {
   "cell_type": "code",
   "execution_count": null,
   "id": "b20affc7",
   "metadata": {},
   "outputs": [],
   "source": [
    "y_train"
   ]
  },
  {
   "cell_type": "code",
   "execution_count": null,
   "id": "a4aaebff",
   "metadata": {},
   "outputs": [],
   "source": [
    "df_inflation.head()"
   ]
  },
  {
   "cell_type": "markdown",
   "id": "7e29b91a",
   "metadata": {},
   "source": [
    "#### Train data model"
   ]
  },
  {
   "cell_type": "code",
   "execution_count": null,
   "id": "14578580",
   "metadata": {},
   "outputs": [],
   "source": [
    "# build a model from the train data with method 'polyfit'\n",
    "model = np.polyfit(X_train, y_train, 1)"
   ]
  },
  {
   "cell_type": "code",
   "execution_count": null,
   "id": "dcd9706d",
   "metadata": {},
   "outputs": [],
   "source": [
    "model"
   ]
  },
  {
   "cell_type": "code",
   "execution_count": null,
   "id": "f7791c8d",
   "metadata": {},
   "outputs": [],
   "source": [
    "a, b = model[0], model[1]"
   ]
  },
  {
   "cell_type": "code",
   "execution_count": null,
   "id": "fe7bef0b",
   "metadata": {},
   "outputs": [],
   "source": [
    "test = np.polyfit(X_test, y_test, 1)\n",
    "test"
   ]
  },
  {
   "cell_type": "code",
   "execution_count": null,
   "id": "3efde1e1",
   "metadata": {},
   "outputs": [],
   "source": [
    "a1, b1 = test[0], test[1]"
   ]
  },
  {
   "cell_type": "code",
   "execution_count": null,
   "id": "346ca55b",
   "metadata": {},
   "outputs": [],
   "source": [
    "# Visualise the Linear Regression \n",
    "plt.title('Linear Regression')\n",
    "plt.scatter(X, y, color='green')\n",
    "plt.plot(X_test, a1*X_test + b1, color='orange')\n",
    "plt.plot(X_train, a*X_train + b, color='blue')\n",
    "\n",
    "plt.xlabel('date')\n",
    "plt.ylabel('value')\n",
    "plt.show()"
   ]
  },
  {
   "cell_type": "markdown",
   "id": "f1808046",
   "metadata": {},
   "source": [
    "### Test the models"
   ]
  },
  {
   "cell_type": "markdown",
   "id": "5f5ff79c",
   "metadata": {},
   "source": [
    "#### Test with Known Data"
   ]
  },
  {
   "cell_type": "code",
   "execution_count": null,
   "id": "1a618d77",
   "metadata": {},
   "outputs": [],
   "source": [
    "date_predicted = myreg.predict([[2000]])\n",
    "date_predicted"
   ]
  },
  {
   "cell_type": "code",
   "execution_count": null,
   "id": "fdc628be",
   "metadata": {},
   "outputs": [],
   "source": [
    "date_predict = a*2000 + b\n",
    "date_predict"
   ]
  },
  {
   "cell_type": "markdown",
   "id": "69939978",
   "metadata": {},
   "source": [
    "### Predict with unknown Data"
   ]
  },
  {
   "cell_type": "code",
   "execution_count": null,
   "id": "4e799dd0",
   "metadata": {},
   "outputs": [],
   "source": [
    "value = 400\n",
    "date_predicted = myreg.predict([[value]])\n",
    "date_predicted"
   ]
  },
  {
   "cell_type": "code",
   "execution_count": null,
   "id": "dfa46e0b",
   "metadata": {},
   "outputs": [],
   "source": [
    "df_inflation.head()"
   ]
  },
  {
   "cell_type": "code",
   "execution_count": null,
   "id": "36c3c7c2",
   "metadata": {},
   "outputs": [],
   "source": [
    "df = pd.read_csv('../../../Documents/GitHub/BI-Fall-2023-Exam-Project/Data/ds_salaries2.csv')\n",
    "df.head()"
   ]
  },
  {
   "cell_type": "code",
   "execution_count": null,
   "id": "077ee41b",
   "metadata": {},
   "outputs": [],
   "source": [
    "#new_df = df[['TRVLCMIN','TRPMILES']]\n",
    "#new_df=df.drop(['salary', 'salary_currency', 'company_size'], axis = 1)\n",
    "#new_df.to_csv('/Users/emiliocastrolagunas/Documents/GitHub/BI-Fall-2023-Exam-Project/Data/ds_salaries2.csv') #gemmer til fil\n",
    "#new_df.to_csv('../../../Documents/GitHub/BI-Fall-2023-Exam-Project/Data/ds_salaries2.csv')\n",
    "new_df=df"
   ]
  },
  {
   "cell_type": "code",
   "execution_count": null,
   "id": "2fb9c753",
   "metadata": {},
   "outputs": [],
   "source": [
    "new_df.head()"
   ]
  },
  {
   "cell_type": "code",
   "execution_count": null,
   "id": "79b5eaf0",
   "metadata": {},
   "outputs": [],
   "source": [
    "sal_df = new_df[df['employee_residence'].str.contains('US')]"
   ]
  },
  {
   "cell_type": "code",
   "execution_count": null,
   "id": "bd7161cb",
   "metadata": {},
   "outputs": [],
   "source": [
    "sal_df=sal_df.drop(['Unnamed: 0'], axis=1)\n",
    "sal_df.head()"
   ]
  },
  {
   "cell_type": "code",
   "execution_count": null,
   "id": "6604c36c",
   "metadata": {},
   "outputs": [],
   "source": [
    "sal_df.reset_index(drop=True, inplace=True)"
   ]
  },
  {
   "cell_type": "code",
   "execution_count": null,
   "id": "7323f981",
   "metadata": {},
   "outputs": [],
   "source": [
    "non_us_locations = sal_df[~sal_df['company_location'].str.contains('US')]\n",
    "non_us_locations"
   ]
  },
  {
   "cell_type": "code",
   "execution_count": null,
   "id": "440f983f",
   "metadata": {},
   "outputs": [],
   "source": [
    "sal_df"
   ]
  },
  {
   "cell_type": "markdown",
   "id": "240f8617",
   "metadata": {},
   "source": [
    "work_year - The year the salary was paid.\n",
    "\n",
    "experience_level - The experience level in the job during the year with the following possible values: EN Entry-level / Junior MI Mid-level / Intermediate SE Senior-level / Expert EX Executive-level / Director\n",
    "\n",
    "employment_type - The type of employement for the role: PT Part-time FT Full-time CT Contract FL Freelance\n",
    "\n",
    "job_title - The role worked in during the year.\n",
    "\n",
    "salary - The total gross salary amount paid.\n",
    "\n",
    "salary_currency - The currency of the salary paid as an ISO 4217 currency code.\n",
    "\n",
    "salary_in_usd - The salary in USD (FX rate divided by avg. USD rate for the respective year via fxdata.foorilla.com).\n",
    "\n",
    "employee_residence - Employee's primary country of residence in during the work year as an ISO 3166 country code.\n",
    "\n",
    "remote_ratio - The overall amount of work done remotely, possible values are as follows: 0 No remote work (less than 20%) 50 Partially remote 100 Fully remote (more than 80%)\n",
    "\n",
    "company_location - The country of the employer's main office or contracting branch as an ISO 3166 country code.\n",
    "\n",
    "company_size - The average number of people that worked for the company during the year: S less than 50 employees (small) M 50 to 250 employees (medium) L more than 250 employees (large)"
   ]
  },
  {
   "cell_type": "code",
   "execution_count": null,
   "id": "1d252d0b",
   "metadata": {},
   "outputs": [],
   "source": [
    "df_travel= pd.read_csv('../../../Documents/GitHub/BI-Fall-2023-Exam-Project/Data/traveldistmin.csv')\n",
    "df_travel=df_travel.drop(['Unnamed: 0'], axis=1)\n",
    "df_travel.head()\n"
   ]
  },
  {
   "cell_type": "code",
   "execution_count": null,
   "id": "ef6f4790",
   "metadata": {},
   "outputs": [],
   "source": [
    "df_travel.describe()\n",
    "#The extreme values should be taken into account in this  analysis\n",
    "#For example, high extreme values would be an indicator of remote working being a positive\n",
    "#Negative values doesnt make any sense."
   ]
  },
  {
   "cell_type": "code",
   "execution_count": null,
   "id": "f2132e35",
   "metadata": {},
   "outputs": [],
   "source": [
    "#As seen in the scatterplot below, there's some really odd values.\n",
    "#A travel time close to 0 with more than 1000 miles traveled is impossible\n",
    "plt.xlabel('TRVLCMIN')\n",
    "plt.ylabel('TRPMILES')\n",
    "plt.scatter(df_travel.TRVLCMIN, df_travel.TRPMILES, color='green')"
   ]
  },
  {
   "cell_type": "code",
   "execution_count": null,
   "id": "90633ea4",
   "metadata": {},
   "outputs": [],
   "source": [
    "#We made our own breakpoint for when we find the data valuable, which is as long as the miles and minutes -\n",
    "# - are within the 8 times of each other, and removed all of the rows with 0-values\n",
    "# Drop rows with 0 values in 'TRPMILES' or 'TRVLCMIN'\n",
    "df_travel = df_travel[(df_travel['TRPMILES'] != 0) & (df_travel['TRVLCMIN'] != 0)]\n",
    "\n",
    "# Drop rows where one value is 8 times greater than the other in the same row\n",
    "df_travel = df_travel[~((df_travel['TRPMILES'] >= 8 * df_travel['TRVLCMIN']) | (df_travel['TRVLCMIN'] >= 8 * df_travel['TRPMILES']))]\n",
    "\n",
    "print(\"Updated DataFrame:\")\n",
    "print(df_travel)\n"
   ]
  },
  {
   "cell_type": "code",
   "execution_count": null,
   "id": "ae31b155",
   "metadata": {},
   "outputs": [],
   "source": [
    "count_of_zeros_miles = np.count_nonzero(df_travel.TRPMILES == 0)\n",
    "print(count_of_zeros_miles)"
   ]
  },
  {
   "cell_type": "code",
   "execution_count": null,
   "id": "a3a2a729",
   "metadata": {},
   "outputs": [],
   "source": [
    "count_of_zeros_mins = np.count_nonzero(df_travel.TRVLCMIN == 0)\n",
    "print(count_of_zeros_mins)"
   ]
  },
  {
   "cell_type": "code",
   "execution_count": null,
   "id": "43ff5c4d",
   "metadata": {},
   "outputs": [],
   "source": [
    "# As seen below this data looks much more reasonable\n",
    "plt.xlabel('TRVLCMIN')\n",
    "plt.ylabel('TRPMILES')\n",
    "plt.scatter(df_travel.TRVLCMIN, df_travel.TRPMILES, color='green')"
   ]
  },
  {
   "cell_type": "code",
   "execution_count": null,
   "id": "ef475337",
   "metadata": {},
   "outputs": [],
   "source": [
    "df_travel.describe()"
   ]
  },
  {
   "cell_type": "code",
   "execution_count": null,
   "id": "982e1a00",
   "metadata": {},
   "outputs": [],
   "source": [
    "#And now we can (roughly) tell that the average travel time is 22,4 minutes\n",
    "# And average travel distance is 12,7 miles"
   ]
  },
  {
   "cell_type": "markdown",
   "id": "7e72bf9c",
   "metadata": {},
   "source": [
    "## Stage 3: Solution Prototype\n",
    "### Objective: Using data and analysis for building predictive models\n",
    "Extend the data analysis by implementing machine learning and deep learning methods and algorithms.\n",
    "1. Select relevant methods that could solve the problem. Train, test and validate data models by use of\n",
    "supervised and unsupervised methods, neural networks or graphs.\n",
    "2. Select and apply appropriate measures for assessing the quality of your models. Iterate the process to\n",
    "explore possibilities for improvement the quality of the models.\n",
    "\n",
    "Publish the new version of your solution in Github as a prototype."
   ]
  },
  {
   "cell_type": "code",
   "execution_count": null,
   "id": "9f464321",
   "metadata": {},
   "outputs": [],
   "source": [
    "df_remoteWork = pd.read_excel('../../../Documents/GitHub/BI-Fall-2023-Exam-Project/Data/statistic_id1356325_us-workers-working-hybrid-or-remote-vs-on-site-2019-q4-2022.xlsx', sheet_name='Data')\n",
    "\n",
    "\n",
    "# Create a figure and axis\n",
    "fig, ax = plt.subplots()\n",
    "\n",
    "# Plot the lines using the DataFrame columns\n",
    "ax.plot(df_remoteWork['Period'], df_remoteWork['Hybrid'], label='Hybrid', marker='o')\n",
    "ax.plot(df_remoteWork['Period'], df_remoteWork['Remote'], label='Remote', marker='o')\n",
    "ax.plot(df_remoteWork['Period'], df_remoteWork['On-site'], label='On-site', marker='o')\n",
    "\n",
    "# Add labels and title\n",
    "ax.set_xlabel('Period')\n",
    "ax.set_ylabel('Count')\n",
    "ax.set_title('Hybrid vs. Remote vs. On-site')\n",
    "\n",
    "# Add a legend\n",
    "ax.legend()\n",
    "\n",
    "# Show the plot\n",
    "plt.xticks(rotation=45)\n",
    "plt.tight_layout()\n",
    "plt.show()"
   ]
  },
  {
   "cell_type": "code",
   "execution_count": null,
   "id": "0b1b2902",
   "metadata": {},
   "outputs": [],
   "source": [
    "df_gas = pd.read_excel('../../../Documents/GitHub/BI-Fall-2023-Exam-Project/Data/statistic_id204740_annual-gas-prices-in-the-united-states-1990-2022.xlsx', sheet_name='Data')\n",
    "df_gas.describe()"
   ]
  },
  {
   "cell_type": "code",
   "execution_count": null,
   "id": "7fdd93b2",
   "metadata": {},
   "outputs": [],
   "source": [
    "df_gas.info()"
   ]
  },
  {
   "cell_type": "code",
   "execution_count": null,
   "id": "f4a9c62e",
   "metadata": {},
   "outputs": [],
   "source": [
    "plt.xlabel('year')\n",
    "plt.ylabel('gasprice/galon')\n",
    "plt.scatter(df_gas.Year, df_gas.Dollarprice, color='red')\n",
    "plt.title('US Inflation Rate Over Time (Every 12th year)')\n",
    "plt.xticks(rotation=45)\n",
    "plt.gca().xaxis.set_major_locator(plt.MaxNLocator(integer=True))\n",
    "plt.plot(df_gas.Year, df_gas.Dollarprice, color='blue', linestyle='-', marker='o', markersize=5)\n",
    "\n",
    "plt.show()\n"
   ]
  },
  {
   "cell_type": "code",
   "execution_count": null,
   "id": "d5498848",
   "metadata": {},
   "outputs": [],
   "source": [
    "X = df_gas.iloc[:, 0:1].values\n",
    "y = df_gas.iloc[:, 1].values"
   ]
  },
  {
   "cell_type": "code",
   "execution_count": null,
   "id": "b4d246f6",
   "metadata": {},
   "outputs": [],
   "source": [
    "X_train, X_test, y_train, y_test = train_test_split(X, y, test_size=0.2, random_state=0)"
   ]
  },
  {
   "cell_type": "code",
   "execution_count": null,
   "id": "801724df",
   "metadata": {},
   "outputs": [],
   "source": [
    "#Starting with linear regression"
   ]
  },
  {
   "cell_type": "code",
   "execution_count": null,
   "id": "6f398cb4",
   "metadata": {},
   "outputs": [],
   "source": [
    "myreg_gas = LinearRegression()\n",
    "\n",
    "myreg_gas.fit(X_train, y_train)\n",
    "myreg_gas"
   ]
  },
  {
   "cell_type": "code",
   "execution_count": null,
   "id": "46e55637",
   "metadata": {},
   "outputs": [],
   "source": [
    "a = myreg_gas.coef_\n",
    "b = myreg_gas.intercept_"
   ]
  },
  {
   "cell_type": "code",
   "execution_count": null,
   "id": "0cb837ab",
   "metadata": {},
   "outputs": [],
   "source": [
    "a"
   ]
  },
  {
   "cell_type": "code",
   "execution_count": null,
   "id": "125a196c",
   "metadata": {},
   "outputs": [],
   "source": [
    "b"
   ]
  },
  {
   "cell_type": "code",
   "execution_count": null,
   "id": "d24fd7aa",
   "metadata": {},
   "outputs": [],
   "source": [
    "ygas_predicted = myreg_gas.predict(X_test)\n",
    "ygas_predicted"
   ]
  },
  {
   "cell_type": "code",
   "execution_count": null,
   "id": "5d61e74c",
   "metadata": {},
   "outputs": [],
   "source": [
    "R2 = myreg_gas.score(X, y)\n",
    "R2\n",
    "#Not too high of a score"
   ]
  },
  {
   "cell_type": "code",
   "execution_count": null,
   "id": "74ad9a70",
   "metadata": {},
   "outputs": [],
   "source": [
    "lin_reg = LinearRegression()\n",
    "lin_reg.fit(X, y)"
   ]
  },
  {
   "cell_type": "code",
   "execution_count": null,
   "id": "b54132d6",
   "metadata": {},
   "outputs": [],
   "source": [
    "def viz_linear():\n",
    "    plt.scatter(X, y, color='red')\n",
    "    plt.plot(X, lin_reg.predict(X), color='blue')\n",
    "    plt.title('Linear Regression')\n",
    "    plt.xlabel('Year')\n",
    "    plt.ylabel('Price')\n",
    "    plt.show()\n",
    "    return\n",
    "viz_linear()"
   ]
  },
  {
   "cell_type": "code",
   "execution_count": null,
   "id": "9290e527",
   "metadata": {},
   "outputs": [],
   "source": [
    "#now poly reg"
   ]
  },
  {
   "cell_type": "code",
   "execution_count": null,
   "id": "94d6b3f0",
   "metadata": {},
   "outputs": [],
   "source": [
    "poly_model = PolynomialFeatures(degree=10)\n",
    "X_poly = poly_model.fit_transform(X)\n",
    "pol_reg = LinearRegression()\n",
    "pol_reg.fit(X_poly, y)"
   ]
  },
  {
   "cell_type": "code",
   "execution_count": null,
   "id": "ac886870",
   "metadata": {},
   "outputs": [],
   "source": [
    "y_predict = pol_reg.predict(X_poly)"
   ]
  },
  {
   "cell_type": "code",
   "execution_count": null,
   "id": "3c978507",
   "metadata": {},
   "outputs": [],
   "source": [
    "# Visualizing the Polymonial Regression results\n",
    "def viz_polymonial():\n",
    "    plt.scatter(X, y, color='red')\n",
    "    plt.plot(X, y_predict , color='blue')\n",
    "    plt.title('Polynomia Regression)')\n",
    "    plt.xlabel('Year')\n",
    "    plt.ylabel('Price')\n",
    "    plt.show()\n",
    "    return"
   ]
  },
  {
   "cell_type": "code",
   "execution_count": null,
   "id": "cd62b2b0",
   "metadata": {},
   "outputs": [],
   "source": [
    "viz_polymonial()"
   ]
  },
  {
   "cell_type": "code",
   "execution_count": null,
   "id": "0c62aa46",
   "metadata": {},
   "outputs": [],
   "source": [
    "def viz_polymonial_smooth():\n",
    "    X_grid = np.arange(min(X), max(X), 0.1)\n",
    "    X_grid = X_grid.reshape(len(X_grid), 1) #Why do we need to reshape? (https://www.tutorialspoint.com/numpy/numpy_reshape.htm)\n",
    "    # Visualizing the Polymonial Regression results\n",
    "    plt.scatter(X, y, color='red')\n",
    "    plt.plot(X_grid, pol_reg.predict(poly_model.fit_transform(X_grid)), color='blue')\n",
    "    plt.title('Polynomial Regression')\n",
    "    plt.xlabel('Year')\n",
    "    plt.ylabel('Price')\n",
    "    plt.show()\n",
    "    return\n"
   ]
  },
  {
   "cell_type": "code",
   "execution_count": null,
   "id": "f04faeec",
   "metadata": {},
   "outputs": [],
   "source": [
    "viz_polymonial_smooth()"
   ]
  },
  {
   "cell_type": "code",
   "execution_count": null,
   "id": "dbe4ff01",
   "metadata": {},
   "outputs": [],
   "source": [
    "# r2 score look much better\n",
    "r2_score_poly = r2_score(y, y_predict)\n",
    "print(f'R-squared (R^2) score for Polynomial Regression: {r2_score_poly:.10f}')"
   ]
  },
  {
   "cell_type": "code",
   "execution_count": null,
   "id": "9d19e397",
   "metadata": {},
   "outputs": [],
   "source": [
    "#Even though poly reg showed better results vs linear reg, linear reg is the best fit for a real life scenario.\n",
    "#The reason for this, is shown below.\n",
    "#You should never get paid for taking a product, which would be the case if looking on forexample 2032 prediction for polyreg\n",
    "#Being realistic, linear regression is going to be the best suited regression"
   ]
  },
  {
   "cell_type": "code",
   "execution_count": null,
   "id": "b3e7e50e",
   "metadata": {},
   "outputs": [],
   "source": [
    "lin_reg.predict([[2032]])"
   ]
  },
  {
   "cell_type": "code",
   "execution_count": null,
   "id": "d687e63a",
   "metadata": {},
   "outputs": [],
   "source": [
    "pol_reg.predict(poly_model.fit_transform([[2032]]))"
   ]
  },
  {
   "cell_type": "markdown",
   "id": "83d8d0e5",
   "metadata": {},
   "source": [
    "## Stage 4: Visualisation, Explanation and Usability Evaluation\n",
    "### Objective: Present the process and the results of the analysis in human-understandable form\n",
    "Extend your solution with visualisation, explanation and interpretation of the results:\n",
    "1. Design and develop visual representation of the data, the analysis process, the applied methods and usage\n",
    "scenarios. Consider the use of animation, 3D or VR visualisation, as appropriate.\n",
    "2. Create a simple visual interface of the application to make it accessible and interactive for other users.\n",
    "3. Present the visualised prototype to potential users for usability evaluation. Take notes and implement the\n",
    "relevant feedback outcomes. Elaborate on the benefits of applying visualisation and explanation\n",
    "techniques for data analytics.\n",
    "\n",
    "Revise, complete, and deliver the final solution to Github and a link to it in Wiseflow."
   ]
  },
  {
   "cell_type": "code",
   "execution_count": null,
   "id": "0d704802",
   "metadata": {},
   "outputs": [],
   "source": [
    "print(X)"
   ]
  },
  {
   "cell_type": "code",
   "execution_count": null,
   "id": "06ebd034",
   "metadata": {},
   "outputs": [],
   "source": [
    "print(y)"
   ]
  },
  {
   "cell_type": "code",
   "execution_count": null,
   "id": "7b4fa429",
   "metadata": {},
   "outputs": [],
   "source": []
  }
 ],
 "metadata": {
  "kernelspec": {
   "display_name": "Python 3 (ipykernel)",
   "language": "python",
   "name": "python3"
  },
  "language_info": {
   "codemirror_mode": {
    "name": "ipython",
    "version": 3
   },
   "file_extension": ".py",
   "mimetype": "text/x-python",
   "name": "python",
   "nbconvert_exporter": "python",
   "pygments_lexer": "ipython3",
   "version": "3.11.4"
  }
 },
 "nbformat": 4,
 "nbformat_minor": 5
}
